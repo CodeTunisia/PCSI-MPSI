{
 "cells": [
  {
   "cell_type": "markdown",
   "metadata": {
    "id": "aUpJrs45BGlj"
   },
   "source": [
    "<!-- dom:TITLE: Chapitre 1 : Les bases de la programmation avec Python (Partie 5) -->\n",
    "# Chapitre 1 : Les bases de la programmation avec Python (Partie 5)\n",
    "<!-- dom:AUTHOR: Ahmed Ammar at Institut Préparatoire aux Études Scientifiques et Techniques, Université de Carthage. -->\n",
    "<!-- Author: -->  \n",
    "**Ahmed Ammar**, Institut Préparatoire aux Études Scientifiques et Techniques, Université de Carthage.\n",
    "\n",
    "\n",
    "Date: **Nov 14, 2020**\n",
    "\n",
    "# Dictionnaires, tuples et sets\n",
    "Jusqu'à maintenant nous avons vu et manipulé le type d'objet séquentiel le plus classique : les listes. On se rappelle qu'elles sont modifiables, ordonnées et itérables. Dans ce chapitre nous allons voir trois nouveaux types d'objet séquentiel avec des propriétés différentes : les dictionnaires, les tuples et les sets.\n",
    "**Notice.**\n",
    "\n",
    "Les objets séquentiels peuvent être aussi appelés parfois **conteneurs** (ou containers, en anglais).\n",
    "\n",
    "\n",
    "## Dictionnaires\n",
    "### Définition\n",
    "\n",
    "Les **dictionnaires** se révèlent très pratiques lorsque vous devez manipuler des structures complexes à décrire et que les listes présentent leurs limites. Les dictionnaires sont des collections non ordonnées d'objets, c'est-à-dire qu'il n'y a pas de notion d'ordre (i.e. pas d'indice). On accède aux **valeurs** d'un dictionnaire par des **clés**. Ceci semble un peu confus ? Regardez l'exemple suivant :"
   ]
  },
  {
   "cell_type": "code",
   "execution_count": null,
   "metadata": {
    "colab": {
     "base_uri": "https://localhost:8080/"
    },
    "id": "pqAZJC65BGlz",
    "outputId": "4e2189b9-832c-4218-b441-bf5233c579ed"
   },
   "outputs": [],
   "source": [
    "ani1 = {}\n",
    "ani1[\"nom\"] = \"girafe\"\n",
    "ani1[\"taille\"] = 5.0\n",
    "ani1[\"poids\"] = 1100\n",
    "ani1"
   ]
  },
  {
   "cell_type": "code",
   "execution_count": null,
   "metadata": {
    "colab": {
     "base_uri": "https://localhost:8080/"
    },
    "id": "oDK6h3IfBGmS",
    "outputId": "f1bba816-64e3-4670-df3a-b717d837a803"
   },
   "outputs": [],
   "source": [
    "ani1[\"poids\"] = 1000 # la clé existe -> c'est une modification\n",
    "ani1"
   ]
  },
  {
   "cell_type": "markdown",
   "metadata": {
    "id": "ZeKG0x45BGmk"
   },
   "source": [
    "En premier, on définit un dictionnaire vide avec les accolades `{}` (tout comme on peut le faire pour les listes avec `[]`). Ensuite, on remplit le dictionnaire avec différentes clés (`\"nom\"`, `\"taille\"`, `\"poids\"`) auxquelles on affecte des valeurs (`\"girafe\"`, `5.0`, `1100`). Vous pouvez mettre autant de clés que vous voulez dans un dictionnaire (tout comme vous pouvez ajouter autant d'éléments que vous voulez dans une liste).\n",
    "____\n",
    "**Notice.**\n",
    "\n",
    "Un dictionnaire est affiché sans ordre particulier.\n",
    "___\n",
    "\n",
    "On peut supprimer un couple clé / valeur via l'instruction  `del dico[cle]`:"
   ]
  },
  {
   "cell_type": "code",
   "execution_count": null,
   "metadata": {
    "colab": {
     "base_uri": "https://localhost:8080/"
    },
    "id": "NqZzlmOmBGmn",
    "outputId": "0b368839-c467-4c82-ebab-7426158feb59"
   },
   "outputs": [],
   "source": [
    "del ani1[\"poids\"]\n",
    "ani1"
   ]
  },
  {
   "cell_type": "markdown",
   "metadata": {
    "id": "ALY7SbaRBGm1"
   },
   "source": [
    "Il est également possible d’utiliser la méthode `pop()` :"
   ]
  },
  {
   "cell_type": "code",
   "execution_count": null,
   "metadata": {
    "colab": {
     "base_uri": "https://localhost:8080/"
    },
    "id": "ne-fb-anBGm4",
    "outputId": "c30bf4ad-a28f-4233-d596-e5bceae78044"
   },
   "outputs": [],
   "source": [
    "ani1.pop(\"taille\")"
   ]
  },
  {
   "cell_type": "code",
   "execution_count": null,
   "metadata": {
    "colab": {
     "base_uri": "https://localhost:8080/"
    },
    "id": "y8z1io6hBGnD",
    "outputId": "1460554c-378e-4b63-879d-d6712d3fc6d0"
   },
   "outputs": [],
   "source": [
    "ani1"
   ]
  },
  {
   "cell_type": "markdown",
   "metadata": {
    "id": "HK5QAn1sBGnP"
   },
   "source": [
    "On peut aussi initialiser toutes les clés et les valeurs d'un dictionnaire en une seule opération :"
   ]
  },
  {
   "cell_type": "code",
   "execution_count": null,
   "metadata": {
    "id": "ttlRrLgcEW33"
   },
   "outputs": [],
   "source": [
    "ani2 = {\"nom\":\"singe\", \"poids\":70, \"taille\":1.75}"
   ]
  },
  {
   "cell_type": "markdown",
   "metadata": {
    "id": "KPoPts-XBGnS"
   },
   "source": [
    "Mais rien ne nous empêche d'ajouter une clé et une valeur supplémentaire :"
   ]
  },
  {
   "cell_type": "code",
   "execution_count": null,
   "metadata": {
    "colab": {
     "base_uri": "https://localhost:8080/"
    },
    "id": "kwVhz13uEm1Y",
    "outputId": "67703dc0-5e20-46f6-9f7f-4e130e5e612c"
   },
   "outputs": [],
   "source": [
    "ani2[\"age\"] = 15\n",
    "ani2"
   ]
  },
  {
   "cell_type": "markdown",
   "metadata": {
    "id": "w8r8gXtIBGnU"
   },
   "source": [
    "Pour récupérer la valeur associée à une clé donnée, il suffit d'utiliser la syntaxe suivante `dictionnaire[\"cle\"]`. Par exemple :"
   ]
  },
  {
   "cell_type": "code",
   "execution_count": null,
   "metadata": {
    "colab": {
     "base_uri": "https://localhost:8080/",
     "height": 35
    },
    "id": "pYE70RnBBGnX",
    "outputId": "12725476-0120-4be4-cc6b-369257bf66cf"
   },
   "outputs": [],
   "source": [
    "ani2[\"nom\"]"
   ]
  },
  {
   "cell_type": "markdown",
   "metadata": {
    "id": "VbAS_bPfBGnh"
   },
   "source": [
    "__________\n",
    "**Notice.**\n",
    "\n",
    "Toutes les clés de dictionnaire utilisées jusqu'à présent étaient des chaînes de caractères. Rien n'empêche d'utiliser d'autres types d'objets comme des entiers (voire même des tuples, cf. paragraphe suivant), cela peut parfois s'avérer très utile.\n",
    "\n",
    "Néanmoins, nous vous conseillons, autant que possible, d'utiliser systématiquement des chaînes de caractères pour vos clés de dictionnaire.\n",
    "______\n",
    "\n",
    "Après ce premier tour d'horizon, on voit tout de suite l'avantage des dictionnaires. Pouvoir retrouver des éléments par des noms (clés) plutôt que par des indices. Les humains retiennent mieux les noms que les chiffres. Ainsi, l'usage des dictionnaires rend en général le code plus lisible. Par exemple, si nous souhaitions stocker les coordonnées $(x,y,z)$ d'un point dans l'espace : `coors = [0, 1, 2]` pour la version liste, `coors = {\"x\": 0, \"y\": 1, \"z\": 2}` pour la version dictionnaire. Un lecteur comprendra tout de suite que `coors[\"z\"]` contient la coordonnée z, ce sera moins intuitif avec `coors[2]`.\n",
    "\n",
    "### Itération sur les clés pour obtenir les valeurs\n",
    "\n",
    "Il est possible d'obtenir toutes les valeurs d'un dictionnaire à partir de ses clés :"
   ]
  },
  {
   "cell_type": "code",
   "execution_count": null,
   "metadata": {
    "colab": {
     "base_uri": "https://localhost:8080/"
    },
    "id": "FRoMjcMqBGnj",
    "outputId": "6ad8b30b-4afa-4f35-ca6a-b2a5f043eabb"
   },
   "outputs": [],
   "source": [
    "ani2 = {'nom':'singe', 'poids':70, 'taille':1.75}\n",
    "for key in ani2:\n",
    "    print(key, ani2[key])"
   ]
  },
  {
   "cell_type": "markdown",
   "metadata": {
    "id": "btBARivkBGnq"
   },
   "source": [
    "### Méthodes `.keys()`, `.values()` et `.items()`\n",
    "\n",
    "Les méthodes `.keys()` et `.values()` renvoient, comme vous pouvez vous en doutez, les clés et les valeurs d'un dictionnaire :"
   ]
  },
  {
   "cell_type": "code",
   "execution_count": null,
   "metadata": {
    "colab": {
     "base_uri": "https://localhost:8080/"
    },
    "id": "KKoajQndBGns",
    "outputId": "0dc14498-10a8-4d51-85ec-5366c9351e5c"
   },
   "outputs": [],
   "source": [
    "ani2.keys()"
   ]
  },
  {
   "cell_type": "code",
   "execution_count": null,
   "metadata": {
    "colab": {
     "base_uri": "https://localhost:8080/"
    },
    "id": "NgEViDXTBGn1",
    "outputId": "e9aaa40c-6b35-41dc-89a9-b2879cceec98"
   },
   "outputs": [],
   "source": [
    "ani2.values()"
   ]
  },
  {
   "cell_type": "markdown",
   "metadata": {
    "id": "g3Hhk8FfBGn9"
   },
   "source": [
    "Les mentions `dict_keys` et `dict_values` indiquent que nous avons à faire à des objets un peu particuliers. Ils ne sont pas indexables (on ne peut pas retrouver un élément par indice, par exemple `dico.keys()[0]` renverra une erreur). Si besoin, nous pouvons les transformer en liste avec la fonction `list()` :"
   ]
  },
  {
   "cell_type": "code",
   "execution_count": null,
   "metadata": {
    "colab": {
     "base_uri": "https://localhost:8080/"
    },
    "id": "Nvfx52zxBGoA",
    "outputId": "9bb41e42-5da9-4188-cf29-8db8a4c56b24"
   },
   "outputs": [],
   "source": [
    "ani2.values()"
   ]
  },
  {
   "cell_type": "code",
   "execution_count": null,
   "metadata": {
    "colab": {
     "base_uri": "https://localhost:8080/"
    },
    "id": "nPsEekhBBGoI",
    "outputId": "cc166d31-3f49-4a29-98ab-f69090a276b2"
   },
   "outputs": [],
   "source": [
    "list(ani2.values())"
   ]
  },
  {
   "cell_type": "markdown",
   "metadata": {
    "id": "jmA5MKI2BGoS"
   },
   "source": [
    "Toutefois, ce sont des objets \" itérables \", donc utilisables dans une boucle.\n",
    "\n",
    "Enfin, il existe la méthode `.items()` qui renvoie un nouvel objet `dict_items` :"
   ]
  },
  {
   "cell_type": "code",
   "execution_count": null,
   "metadata": {
    "colab": {
     "base_uri": "https://localhost:8080/"
    },
    "id": "O6FuD7s8BGoU",
    "outputId": "4d38c3f9-8b60-45e9-b145-f81c4a4b54e1"
   },
   "outputs": [],
   "source": [
    "dico = {0: 't', 1: 'o', 2: 't', 3: 'o'}\n",
    "dico.items()"
   ]
  },
  {
   "cell_type": "markdown",
   "metadata": {
    "id": "iicJltbwBGod"
   },
   "source": [
    "Celui-ci n'est pas indexable (on ne peut pas retrouver un élément par un indice) mais il est itérable :"
   ]
  },
  {
   "cell_type": "code",
   "execution_count": null,
   "metadata": {
    "colab": {
     "base_uri": "https://localhost:8080/",
     "height": 167
    },
    "id": "npuOo5UtBGoe",
    "outputId": "f9a4928e-c760-4702-b6a6-58b596995ce9"
   },
   "outputs": [],
   "source": [
    "dico.items()[2]"
   ]
  },
  {
   "cell_type": "code",
   "execution_count": null,
   "metadata": {
    "colab": {
     "base_uri": "https://localhost:8080/"
    },
    "id": "MtEnzEDABGom",
    "outputId": "510408d6-c622-4ac7-f34b-a16d7c879c2e"
   },
   "outputs": [],
   "source": [
    "for key, val in dico.items():\n",
    "    print(key, val)"
   ]
  },
  {
   "cell_type": "markdown",
   "metadata": {
    "id": "_d5XMJ6uBGox"
   },
   "source": [
    "Notez la syntaxe particulière qui ressemble à la fonction `enumerate()` vue dans la partie **10. Instructions itératives**. On itère à la fois sur `key` et sur `val`. On verra plus bas que cela peut-être utile pour construire des dictionnaires de compréhension.\n",
    "\n",
    "### Existence d'une clé\n",
    "\n",
    "Pour vérifier si une clé existe dans un dictionnaire, on peut utiliser le test d'appartenance avec l'instruction `in` qui renvoie un booléen :"
   ]
  },
  {
   "cell_type": "code",
   "execution_count": null,
   "metadata": {
    "colab": {
     "base_uri": "https://localhost:8080/"
    },
    "id": "rhV6wwWiBGoy",
    "outputId": "e53af9c8-8d49-4f72-c9ec-7e1bae92b8b5"
   },
   "outputs": [],
   "source": [
    "if \"poids\" in ani2:\n",
    "    print(\"La clé 'poids' existe pour ani2\")"
   ]
  },
  {
   "cell_type": "code",
   "execution_count": null,
   "metadata": {
    "id": "vGmi9DgABGo4"
   },
   "outputs": [],
   "source": [
    "if \"age\" in ani2:\n",
    "    print(\"La clé 'age' existe pour ani2\")"
   ]
  },
  {
   "cell_type": "markdown",
   "metadata": {
    "id": "8SiU3gQlBGo_"
   },
   "source": [
    "Dans le second test, le message n'est pas affiché car la clé age n'est pas présente dans le dictionnaire `ani2`.\n",
    "\n",
    "### Liste de dictionnaires\n",
    "\n",
    "En créant une liste de dictionnaires qui possèdent les mêmes clés, on obtient une structure qui ressemble à une base de données :"
   ]
  },
  {
   "cell_type": "code",
   "execution_count": null,
   "metadata": {
    "colab": {
     "base_uri": "https://localhost:8080/"
    },
    "id": "zABe0wqfBGpA",
    "outputId": "d14940e2-64fc-4b04-ca3a-0b18d16b888d"
   },
   "outputs": [],
   "source": [
    "animaux = [ani1, ani2]\n",
    "animaux"
   ]
  },
  {
   "cell_type": "code",
   "execution_count": null,
   "metadata": {
    "colab": {
     "base_uri": "https://localhost:8080/"
    },
    "id": "b43-EisSBGpI",
    "outputId": "3ab19354-c102-4f1d-aa85-15e53a42da4d"
   },
   "outputs": [],
   "source": [
    "for ani in animaux:\n",
    "    print(ani['nom'])"
   ]
  },
  {
   "cell_type": "markdown",
   "metadata": {
    "id": "cM9_lTCVBGpN"
   },
   "source": [
    "Vous constatez ainsi que les dictionnaires permettent de gérer des structures complexes de manière plus explicite que les listes.\n",
    "\n",
    "### Fonction `dict()`\n",
    "\n",
    "La fonction `dict()` va convertir l'argument qui lui est passé en dictionnaire. Il s'agit donc d'une fonction de casting comme `int()`, `str()`, etc. Toutefois, l'argument qui lui est passé doit avoir une forme particulière : un objet séquentiel contenant d'autres objets séquentiels de 2 éléments. Par exemple, une liste de listes de 2 éléments :"
   ]
  },
  {
   "cell_type": "code",
   "execution_count": null,
   "metadata": {
    "colab": {
     "base_uri": "https://localhost:8080/"
    },
    "id": "ghF5aYafBGpO",
    "outputId": "1ae4a306-c286-4cb6-9331-f23231ce8cfa"
   },
   "outputs": [],
   "source": [
    "liste_animaux = [[\"girafe\", 2], [\"singe\", 3]]\n",
    "dict(liste_animaux)"
   ]
  },
  {
   "cell_type": "markdown",
   "metadata": {
    "id": "uR11wT_tBGpW"
   },
   "source": [
    "Ou un `tuple` de tuples de 2 éléments (cf. paragraphe suivant pour la définition d'un `tuple`), ou encore une combinaison liste / `tuple` :"
   ]
  },
  {
   "cell_type": "code",
   "execution_count": null,
   "metadata": {
    "colab": {
     "base_uri": "https://localhost:8080/"
    },
    "id": "ANAfh7FOBGpX",
    "outputId": "b1c0e3f5-7a26-4f5d-e934-c2673e1be668"
   },
   "outputs": [],
   "source": [
    "tuple_animaux = ((\"girafe\", 2), (\"singe\", 3))\n",
    "dict(tuple_animaux)"
   ]
  },
  {
   "cell_type": "code",
   "execution_count": null,
   "metadata": {
    "colab": {
     "base_uri": "https://localhost:8080/"
    },
    "id": "o6v4arW3BGpe",
    "outputId": "e065634a-b970-44be-d03e-c5da461d41c0"
   },
   "outputs": [],
   "source": [
    "dict([(\"girafe\", 2), (\"singe\", 3)])"
   ]
  },
  {
   "cell_type": "markdown",
   "metadata": {
    "id": "7MOlQWz5BGpo"
   },
   "source": [
    "Si un des sous-éléments a plus de 2 éléments (ou moins), Python renvoie une erreur :"
   ]
  },
  {
   "cell_type": "code",
   "execution_count": null,
   "metadata": {
    "colab": {
     "base_uri": "https://localhost:8080/",
     "height": 167
    },
    "id": "bOorf0t_BGpp",
    "outputId": "242bfd7f-322e-47dd-f555-8511db3248e5"
   },
   "outputs": [],
   "source": [
    "dict([(\"girafe\", 2), (\"singe\", 3, 4)])"
   ]
  },
  {
   "cell_type": "markdown",
   "metadata": {
    "id": "V5sLT65QBGpw"
   },
   "source": [
    "### Mettre à jour un dictionnaire à partir d'un autre : méthode `.update()`\n",
    "\n",
    "La méthode update permet de **fusionner deux dictionnaires**."
   ]
  },
  {
   "cell_type": "code",
   "execution_count": 1,
   "metadata": {
    "colab": {
     "base_uri": "https://localhost:8080/"
    },
    "id": "qhO6zp2lBGpx",
    "outputId": "420d55f2-0a37-449d-c8f0-a6757446e40c"
   },
   "outputs": [
    {
     "name": "stdout",
     "output_type": "stream",
     "text": [
      "{'nom': 'Ammar', 'prenom': 'Ahmed'}\n"
     ]
    }
   ],
   "source": [
    "a = {'nom': 'Ammar'}\n",
    "b = {'prenom': 'Ahmed'}\n",
    "a.update(b)\n",
    "print(a)"
   ]
  },
  {
   "cell_type": "markdown",
   "metadata": {
    "id": "sXG7u9I6BGp4"
   },
   "source": [
    "### Créer une copie indépendante d'un dictionnaire : méthode `.copy()`\n",
    "\n",
    "Comme pour toute variable, vous ne pouvez pas copier un dictionnaire en faisant `dic1 = dic2` :"
   ]
  },
  {
   "cell_type": "code",
   "execution_count": 2,
   "metadata": {
    "colab": {
     "base_uri": "https://localhost:8080/"
    },
    "id": "A_L9T0txBGp6",
    "outputId": "531116c2-8057-4b57-bb86-683ee8f1a1da"
   },
   "outputs": [
    {
     "data": {
      "text/plain": [
       "{'k1': 'XXX', 'k2': 'Ahmed'}"
      ]
     },
     "execution_count": 2,
     "metadata": {},
     "output_type": "execute_result"
    }
   ],
   "source": [
    "d = {\"k1\":\"Ammar\", \"k2\":\"Ahmed\"}\n",
    "e = d\n",
    "d[\"k1\"] = \"XXX\"\n",
    "e"
   ]
  },
  {
   "cell_type": "markdown",
   "metadata": {
    "id": "cs-g7iyNBGqC"
   },
   "source": [
    "Pour créer une copie indépendante vous pouvez utiliser la méthode copy :"
   ]
  },
  {
   "cell_type": "code",
   "execution_count": 4,
   "metadata": {
    "colab": {
     "base_uri": "https://localhost:8080/"
    },
    "id": "RCpdzYXSBGqD",
    "outputId": "942a94e6-94aa-40bb-f8f6-d4bb82be9da7"
   },
   "outputs": [
    {
     "data": {
      "text/plain": [
       "{'k1': 'Ammar', 'k2': 'Ahmed'}"
      ]
     },
     "execution_count": 4,
     "metadata": {},
     "output_type": "execute_result"
    }
   ],
   "source": [
    "d = {\"k1\":\"Ammar\", \"k2\":\"Ahmed\"}\n",
    "e = d.copy()\n",
    "d[\"k1\"] = \"XXX\"\n",
    "e"
   ]
  },
  {
   "cell_type": "markdown",
   "metadata": {
    "id": "MTLpHlrTBGqL"
   },
   "source": [
    "## Tuples\n",
    "### Définition\n",
    "\n",
    "Les **tuples** (\" **n-uplets** \" en français) correspondent aux listes à la différence qu'ils sont **non modifiables**. On a vu dans la partie **11.2\n",
    "Listes : list** que les listes pouvaient être modifiées par références, notamment lors de la copie de listes. Les tuples s'affranchissent de ce problème puisqu'ils sont non modifiables. Pratiquement, ils utilisent les parenthèses au lieu des crochets :"
   ]
  },
  {
   "cell_type": "code",
   "execution_count": null,
   "metadata": {
    "colab": {
     "base_uri": "https://localhost:8080/"
    },
    "id": "uN_ujkXDBGqM",
    "outputId": "ec104263-3494-46dd-be1d-db15944ace96"
   },
   "outputs": [],
   "source": [
    "x = (1, 2, 3)\n",
    "x"
   ]
  },
  {
   "cell_type": "code",
   "execution_count": null,
   "metadata": {
    "colab": {
     "base_uri": "https://localhost:8080/"
    },
    "id": "OfOxvTAMBGqU",
    "outputId": "3409ccec-1dcd-48e0-a78e-fa3a948fb2c8"
   },
   "outputs": [],
   "source": [
    "x[2]"
   ]
  },
  {
   "cell_type": "code",
   "execution_count": null,
   "metadata": {
    "colab": {
     "base_uri": "https://localhost:8080/"
    },
    "id": "WRy4GC6WBGqZ",
    "outputId": "72c3d8c3-d8ff-44d5-aee4-0b93e67e486a"
   },
   "outputs": [],
   "source": [
    "x[0:2]"
   ]
  },
  {
   "cell_type": "code",
   "execution_count": null,
   "metadata": {
    "colab": {
     "base_uri": "https://localhost:8080/",
     "height": 167
    },
    "id": "_gAeGKWWBGqe",
    "outputId": "50daf13b-8224-4c8d-ecd6-61d7d9f02881"
   },
   "outputs": [],
   "source": [
    "x[2] = 15"
   ]
  },
  {
   "cell_type": "markdown",
   "metadata": {
    "id": "R6dvBbMGBGqj"
   },
   "source": [
    "L'affectation et l'indiçage fonctionnent comme avec les listes. Mais si on essaie de modifier un des éléments du tuple, Python renvoie un message d'erreur. Si vous voulez ajouter un élément (ou le modifier), vous devez créer un autre tuple :"
   ]
  },
  {
   "cell_type": "code",
   "execution_count": null,
   "metadata": {
    "colab": {
     "base_uri": "https://localhost:8080/"
    },
    "id": "lkpT91AbBGqk",
    "outputId": "c154d3c2-06b7-42ee-9d2e-052a2c31e17c"
   },
   "outputs": [],
   "source": [
    "x = (1, 2, 3)\n",
    "x + (2,)"
   ]
  },
  {
   "cell_type": "markdown",
   "metadata": {
    "id": "Yx44yZ5iBGqo"
   },
   "source": [
    "___\n",
    "**Notice.**\n",
    "\n",
    "Pour utiliser un tuple d'un seul élément, vous devez utiliser une syntaxe avec une virgule (element,), ceci pour éviter une ambiguïté avec une simple expression.\n",
    "\n",
    "Autre particularité des tuples, il est possible d'en créer de nouveaux sans les parenthèses, dès lors que ceci ne pose pas d'ambiguïté avec une autre expression :"
   ]
  },
  {
   "cell_type": "code",
   "execution_count": null,
   "metadata": {
    "colab": {
     "base_uri": "https://localhost:8080/"
    },
    "id": "QiLcjBkLBGqq",
    "outputId": "65417725-fe90-4219-ddae-10a5c1bd1cd4"
   },
   "outputs": [],
   "source": [
    "x = (1, 2, 3)\n",
    "x"
   ]
  },
  {
   "cell_type": "code",
   "execution_count": null,
   "metadata": {
    "colab": {
     "base_uri": "https://localhost:8080/"
    },
    "id": "e_qSdIPyBGq0",
    "outputId": "dafb0abf-3947-4da4-cab9-4bde6b617766"
   },
   "outputs": [],
   "source": [
    "x = 1, 2, 3\n",
    "x"
   ]
  },
  {
   "cell_type": "markdown",
   "metadata": {
    "id": "xvbRbL-8BGq8"
   },
   "source": [
    "Toutefois, nous vous conseillons d'utiliser systématiquement les parenthèses afin d'éviter les confusions.\n",
    "___\n",
    "\n",
    "Enfin, on peut utiliser la fonction `tuple(sequence)` qui fonctionne exactement comme la fonction `list()`, c'est-à-dire qu'elle prend en argument un objet séquentiel et renvoie le tuple correspondant (opération de casting) :"
   ]
  },
  {
   "cell_type": "code",
   "execution_count": null,
   "metadata": {
    "colab": {
     "base_uri": "https://localhost:8080/"
    },
    "id": "3fHWB-bcBGq-",
    "outputId": "72184a91-5217-4e60-bbfa-7a5b9ff4a452"
   },
   "outputs": [],
   "source": [
    "tuple([1,2,3])"
   ]
  },
  {
   "cell_type": "code",
   "execution_count": null,
   "metadata": {
    "colab": {
     "base_uri": "https://localhost:8080/"
    },
    "id": "c1poPzueBGrF",
    "outputId": "1b866c48-d38b-458e-f2c2-e41ef54b2583"
   },
   "outputs": [],
   "source": [
    "tuple(\"ATGCCGCGAT\")"
   ]
  },
  {
   "cell_type": "markdown",
   "metadata": {
    "id": "AAwDQErQBGrJ"
   },
   "source": [
    "___\n",
    "**Notice.**\n",
    "\n",
    "Les listes, les dictionnaires et les tuples sont des objets qui peuvent contenir des collections d'autres objets. On peut donc construire des listes qui contiennent des dictionnaires, des tuples ou d'autres listes, mais aussi des dictionnaires contenant des tuples, des listes, etc.\n",
    "___\n",
    "\n",
    "\n",
    "### Itérations sur plusieurs valeurs à la fois\n",
    "\n",
    "Pratiquement, nous avons déjà croisé les tuples avec la fonction `enumerate()` dans la partie **10. Instructions itératives**. Cette dernière permettait d'itérer en même temps sur les indices et les éléments d'une liste (ou d'une chaîne de caractères):"
   ]
  },
  {
   "cell_type": "code",
   "execution_count": null,
   "metadata": {
    "colab": {
     "base_uri": "https://localhost:8080/"
    },
    "id": "RpuCeQjCBGrK",
    "outputId": "482c8b49-4f75-4202-bef8-5940c3d013cf"
   },
   "outputs": [],
   "source": [
    "for i, elt in enumerate([75, -75, 0]):\n",
    "    print(i, elt)"
   ]
  },
  {
   "cell_type": "code",
   "execution_count": null,
   "metadata": {
    "colab": {
     "base_uri": "https://localhost:8080/"
    },
    "id": "d-FIrDXOBGrP",
    "outputId": "7aea6414-fb15-4854-8bc0-a1cc603ea275"
   },
   "outputs": [],
   "source": [
    "for obj in enumerate([75, -75, 0]):\n",
    "    print(obj, type(obj))"
   ]
  },
  {
   "cell_type": "markdown",
   "metadata": {
    "id": "wgjx1tXNBGrU"
   },
   "source": [
    "En fin de compte, la fonction `enumerate()` itère sur une série de tuples. Pouvoir séparer `i` et `elt` dans la boucle est possible du fait que Python autorise l'affectation multiple du style `i, elt = 0, 75` (cf. rubrique suivante).\n",
    "\n",
    "Dans le même ordre d'idée, nous avons vu à la rubrique précédente la méthode `.dict_items()` qui permettait d'itérer sur des couples clé / valeur d'un dictionnaire :"
   ]
  },
  {
   "cell_type": "code",
   "execution_count": null,
   "metadata": {
    "colab": {
     "base_uri": "https://localhost:8080/"
    },
    "id": "69dPVEBSBGrW",
    "outputId": "8704dd0e-5bae-4896-de37-b4bdf9c84d98"
   },
   "outputs": [],
   "source": [
    "dico = {\"pinson\": 2, \"merle\": 3}\n",
    "for key, val in dico.items():\n",
    "    print(key, val)"
   ]
  },
  {
   "cell_type": "code",
   "execution_count": null,
   "metadata": {
    "colab": {
     "base_uri": "https://localhost:8080/"
    },
    "id": "E-Fe0nWKBGrc",
    "outputId": "a4521a7e-75a0-49bc-d287-aa6ed1af5ab2"
   },
   "outputs": [],
   "source": [
    "for obj in dico.items():\n",
    "    print(obj, type(obj))"
   ]
  },
  {
   "cell_type": "markdown",
   "metadata": {
    "id": "US8XhcFQBGrh"
   },
   "source": [
    "On voit que cette méthode `.dict_items()` itère comme `enumerate()` sur une série de tuples.\n",
    "\n",
    "Sur la même base, on peut finalement itérer sur 3 valeurs en même temps à partir d'une liste de tuples de 3 éléments :"
   ]
  },
  {
   "cell_type": "code",
   "execution_count": null,
   "metadata": {
    "colab": {
     "base_uri": "https://localhost:8080/"
    },
    "id": "j2vzJlWtBGrj",
    "outputId": "178c7eb9-83a6-4a88-8042-92ab3c747071"
   },
   "outputs": [],
   "source": [
    "liste = [(i, i+1, i+2) for i in range(5, 8)]\n",
    "liste"
   ]
  },
  {
   "cell_type": "code",
   "execution_count": null,
   "metadata": {
    "colab": {
     "base_uri": "https://localhost:8080/"
    },
    "id": "97B0pLgtBGrn",
    "outputId": "f2796a38-7d48-4109-ddd0-bb4a8a11d01a"
   },
   "outputs": [],
   "source": [
    "for x, y, z in liste:\n",
    "    print(x, y, z)"
   ]
  },
  {
   "cell_type": "markdown",
   "metadata": {
    "id": "1-f_nFWfBGrs"
   },
   "source": [
    "On pourrait concevoir la même chose sur 4 éléments, ou finalement autant que l'on veut. La seule restriction est d'avoir une correspondance systématique entre le nombre de variables d'itération (par exemple 3 ci-dessus avec `x, y, z`) et la longueur de chaque sous-tuple de la liste sur laquelle on itère (chaque sous-tuple a 3 éléments ci-dessus).\n",
    "\n",
    "### Affectation multiple et le nom de variable\n",
    "\n",
    "L'affectation multiple est un mécanisme très puissant et important en Python. Pour rappel, il permet d'effectuer sur une même ligne plusieurs affectations en même temps, par exemple : `x, y, z = 1, 2, 3`. On voit que cette syntaxe correspond à un `tuple` de chaque côté de l'opérateur =. Notez qu'il serait possible de le faire également avec les listes : `[x, y, z] = [1, 2, 3]`. Toutefois, cette syntaxe est alourdie par la présence des crochets. On préférera donc la première syntaxe avec les tuples sans parenthèse.\n",
    "___\n",
    "**Notice.**\n",
    "\n",
    "Nous avons appelé l'opération `x, y, z = 1, 2, 3` affectation multiple pour signifier que l'on affectait des valeurs à plusieurs variables en même temps. Toutefois, vous pourrez rencontrer aussi l'expression *tuple unpacking* que l'on pourrait traduire par *\"désempaquetage de tuple\"*. Cela signifie que l'on décompose le tuple initial `1, 2, 3` en 3 variables différentes (comme si on vidait son sac à dos, d'où le terme désempaquetage !).\n",
    "___\n",
    "\n",
    "\n",
    "### Tuples en compréhension\n",
    "\n",
    "On dit qu'on construit un tuple en compréhension lorsqu'on le définit en appliquant une fonction `tuple` à une séquence d'éléments.\n",
    "\n",
    "Voici à titre d'exemple plus complexe, le tuple des carrés des 10 premiers entiers positifs ou nuls. Il est construit à l'aide de l'expression `i*i` dans laquelle `i` prend les valeurs successives `0, 1, ..., 9` (grâce à la boucle `for`)."
   ]
  },
  {
   "cell_type": "code",
   "execution_count": null,
   "metadata": {
    "colab": {
     "base_uri": "https://localhost:8080/"
    },
    "id": "m_dhLy4VBGru",
    "outputId": "0211cea4-a28b-4c2f-f0e4-816764a25e5e"
   },
   "outputs": [],
   "source": [
    "tuple(i*i for i in range(10))"
   ]
  },
  {
   "cell_type": "markdown",
   "metadata": {
    "id": "ZuF1YYU1BGr3"
   },
   "source": [
    "**Notice.**\n",
    "\n",
    "Sans le constructeur `tuple`, la construction en compréhension produit un générateur et non pas un tuple.\n",
    "\n",
    "\n",
    "\n",
    "## Sets\n",
    "Les conteneurs de type `set` représentent un autre type d'objet séquentiel qui peut se révéler très pratique. Ils ont la particularité d'être non modifiables, non ordonnés et de ne contenir qu'une seule copie maximum de chaque élément. Pour créer un nouveau set on peut utiliser les accolades :"
   ]
  },
  {
   "cell_type": "code",
   "execution_count": null,
   "metadata": {
    "colab": {
     "base_uri": "https://localhost:8080/"
    },
    "id": "Qodx-l5NBGr4",
    "outputId": "8be51899-1cdf-4c5c-81ad-2459a976a6d0"
   },
   "outputs": [],
   "source": [
    "s = {1, 2, 3, 3}\n",
    "s"
   ]
  },
  {
   "cell_type": "code",
   "execution_count": null,
   "metadata": {
    "colab": {
     "base_uri": "https://localhost:8080/"
    },
    "id": "W7_tqj-EBGr8",
    "outputId": "7e32141e-ef07-4720-947b-9bcaa704f51d"
   },
   "outputs": [],
   "source": [
    "type(s)"
   ]
  },
  {
   "cell_type": "markdown",
   "metadata": {
    "id": "3DZ_S5-ABGsV"
   },
   "source": [
    "Notez que la répétition du 3 dans la définition du `set` en ligne 1 donne au final un seul 3 car chaque élément ne peut être présent qu'une seule fois. A quoi différencie-t-on un set d'un dictionnaire alors que les deux utilisent des accolades ? Le set sera défini seulement par des valeurs `{val1, val2, ...}` alors que le dictionnaire aura toujours des couples clé/valeur `{clé1: val1, clé2: val2, ...}`.\n",
    "\n",
    "En général, on utilisera la fonction interne à Python `set()` pour générer un nouveau set. Celle-ci prend en argument n'importe quel objet itérable et le convertit en set (opération de *casting*) :"
   ]
  },
  {
   "cell_type": "code",
   "execution_count": null,
   "metadata": {
    "colab": {
     "base_uri": "https://localhost:8080/"
    },
    "id": "sKmA5Z6nBGsW",
    "outputId": "4e8dcc02-ec22-4b9c-b527-755307cb882a"
   },
   "outputs": [],
   "source": [
    "set([1, 2, 4, 1])"
   ]
  },
  {
   "cell_type": "code",
   "execution_count": null,
   "metadata": {
    "colab": {
     "base_uri": "https://localhost:8080/"
    },
    "id": "8lC4cEsjBGsd",
    "outputId": "f9949f53-170e-4421-f308-c3bf25b9b7df"
   },
   "outputs": [],
   "source": [
    "set((2, 2, 2, 1))"
   ]
  },
  {
   "cell_type": "code",
   "execution_count": null,
   "metadata": {
    "colab": {
     "base_uri": "https://localhost:8080/"
    },
    "id": "-P8k2WT1BGsj",
    "outputId": "9a327a56-0d68-4108-c4c0-296574e02282"
   },
   "outputs": [],
   "source": [
    "set(range(5))"
   ]
  },
  {
   "cell_type": "code",
   "execution_count": null,
   "metadata": {
    "colab": {
     "base_uri": "https://localhost:8080/"
    },
    "id": "Cv9DmI__BGst",
    "outputId": "24662f9f-4faa-4338-a8d6-94a0cb9a8904"
   },
   "outputs": [],
   "source": [
    "set({\"clé1\": 1, \"clé2\": 2})"
   ]
  },
  {
   "cell_type": "code",
   "execution_count": null,
   "metadata": {
    "colab": {
     "base_uri": "https://localhost:8080/"
    },
    "id": "b6jWi5PYBGs1",
    "outputId": "5c388cbf-977d-48c8-bfe1-d323331f54a3"
   },
   "outputs": [],
   "source": [
    "set([\"ti\", \"to\", \"to\"])"
   ]
  },
  {
   "cell_type": "code",
   "execution_count": null,
   "metadata": {
    "colab": {
     "base_uri": "https://localhost:8080/"
    },
    "id": "Ux1qOqNVBGs8",
    "outputId": "df263530-9ea1-41c6-a486-3c84aa0ddc97"
   },
   "outputs": [],
   "source": [
    "set(\"Maître corbeau sur un arbre perché\")"
   ]
  },
  {
   "cell_type": "markdown",
   "metadata": {
    "id": "ypbMphq8BGtd"
   },
   "source": [
    "Nous avons dit plus haut que les sets ne sont pas ordonnés, il est donc impossible de récupérer un élément par sa position. Il est également impossible de modifier un de ses éléments. Par contre, les sets sont itérables :"
   ]
  },
  {
   "cell_type": "code",
   "execution_count": null,
   "metadata": {
    "colab": {
     "base_uri": "https://localhost:8080/",
     "height": 184
    },
    "id": "gS9RPynLBGte",
    "outputId": "578b5ef0-fd32-4b7c-821b-d2b8a9805558"
   },
   "outputs": [],
   "source": [
    "s = set([1, 2, 4, 1])\n",
    "s[1]"
   ]
  },
  {
   "cell_type": "code",
   "execution_count": null,
   "metadata": {
    "colab": {
     "base_uri": "https://localhost:8080/"
    },
    "id": "XZy1B8_JBGti",
    "outputId": "fa349ad4-3926-4d2e-af91-2aeb72dfa7ef"
   },
   "outputs": [],
   "source": [
    "for elt in s:\n",
    "    print(elt)"
   ]
  },
  {
   "cell_type": "markdown",
   "metadata": {
    "id": "E682vKCcBGtn"
   },
   "source": [
    "Les conteneurs de type `set` sont très utiles pour rechercher les éléments uniques d'une suite d'éléments. Cela revient à éliminer tous les doublons. Par exemple :"
   ]
  },
  {
   "cell_type": "code",
   "execution_count": null,
   "metadata": {
    "colab": {
     "base_uri": "https://localhost:8080/"
    },
    "id": "lbvlf3DnBGtn",
    "outputId": "9d0da7a6-666b-4270-9cd5-6e0e35ca1552"
   },
   "outputs": [],
   "source": [
    "import random as rd\n",
    "l = [rd.randint(0, 9) for i in range(10)]\n",
    "l"
   ]
  },
  {
   "cell_type": "code",
   "execution_count": null,
   "metadata": {
    "colab": {
     "base_uri": "https://localhost:8080/"
    },
    "id": "17S8hyUCBGtr",
    "outputId": "5cc5f906-500a-48d8-9600-690c5fb9f6e0"
   },
   "outputs": [],
   "source": [
    "set(l)"
   ]
  },
  {
   "cell_type": "markdown",
   "metadata": {
    "id": "PkPuCWdQBGtu"
   },
   "source": [
    "On peut bien sûr transformer dans l'autre sens un set en liste. Cela permet par exemple d'éliminer les doublons de la liste initiale tout en récupérant une liste à la fin :"
   ]
  },
  {
   "cell_type": "code",
   "execution_count": null,
   "metadata": {
    "colab": {
     "base_uri": "https://localhost:8080/"
    },
    "id": "db0azzahBGtv",
    "outputId": "1694e000-774b-4dc2-c42c-0c504d1ec12f"
   },
   "outputs": [],
   "source": [
    "list(set([7, 9, 6, 6, 7, 3, 8, 5, 6, 7]))"
   ]
  },
  {
   "cell_type": "markdown",
   "metadata": {
    "id": "qkdxszjEBGty"
   },
   "source": [
    "On peut faire des choses très puissantes. Par exemple, un compteur de lettres en combinaison avec une liste de compréhension, le tout en une ligne !"
   ]
  },
  {
   "cell_type": "code",
   "execution_count": null,
   "metadata": {
    "colab": {
     "base_uri": "https://localhost:8080/"
    },
    "id": "zLkm_11lBGt0",
    "outputId": "5620ac83-6585-4209-c2da-e597acdb62ba"
   },
   "outputs": [],
   "source": [
    "seq = \"atctcgatcgatcgcgctagctagctcgccatacgtacgactacgt\"\n",
    "set(seq)"
   ]
  },
  {
   "cell_type": "code",
   "execution_count": null,
   "metadata": {
    "colab": {
     "base_uri": "https://localhost:8080/"
    },
    "id": "YeOA9hayBGt5",
    "outputId": "de39a860-929e-487d-a8e2-fbeb96e23336"
   },
   "outputs": [],
   "source": [
    "[(base, seq.count(base)) for base in set(seq)]"
   ]
  },
  {
   "cell_type": "markdown",
   "metadata": {
    "id": "8g3H3EOnBGt_"
   },
   "source": [
    "Les sets permettent aussi l'évaluation **d'union** ou **d'intersection** mathématiques en conjonction avec les opérateurs respectivement `|` et `&` :"
   ]
  },
  {
   "cell_type": "code",
   "execution_count": null,
   "metadata": {
    "colab": {
     "base_uri": "https://localhost:8080/"
    },
    "id": "II_utjpZBGuA",
    "outputId": "dc1e704c-a738-4fb1-d6da-3de7e62b42c3"
   },
   "outputs": [],
   "source": [
    "l = [3, 3, 5, 1, 3, 4, 1, 1, 4, 4]\n",
    "l2 = [3, 0, 5, 3, 3, 1, 1, 1, 2, 2]\n",
    "set(l) & set(l2)"
   ]
  },
  {
   "cell_type": "code",
   "execution_count": null,
   "metadata": {
    "colab": {
     "base_uri": "https://localhost:8080/"
    },
    "id": "i1uUy7OABGuG",
    "outputId": "0c7d237d-2554-446a-d557-91dfd9e75595"
   },
   "outputs": [],
   "source": [
    "set(l) | set(l2)"
   ]
  },
  {
   "cell_type": "markdown",
   "metadata": {
    "id": "rKSsBZQTBGuR"
   },
   "source": [
    "## Dictionnaires et sets de compréhension\n",
    "Nous avons vu dans la partie 11.2 (Listes : `list`) les listes de compréhension. Il est également possible de générer des dictionnaires de compréhension :"
   ]
  },
  {
   "cell_type": "code",
   "execution_count": null,
   "metadata": {
    "colab": {
     "base_uri": "https://localhost:8080/"
    },
    "id": "4-w2uxPvBGuT",
    "outputId": "0cde2257-e877-4276-8676-45148f1d8f49"
   },
   "outputs": [],
   "source": [
    "dico = {'a': 10, 'g': 10, 't': 11, 'c': 15}\n",
    "dico.items()"
   ]
  },
  {
   "cell_type": "code",
   "execution_count": null,
   "metadata": {
    "colab": {
     "base_uri": "https://localhost:8080/"
    },
    "id": "b0kw1c06BGuW",
    "outputId": "406a4d13-5f4b-47cc-d08a-993656e65fe9"
   },
   "outputs": [],
   "source": [
    "{key:val*2 for key, val in dico.items()}"
   ]
  },
  {
   "cell_type": "code",
   "execution_count": null,
   "metadata": {
    "colab": {
     "base_uri": "https://localhost:8080/"
    },
    "id": "s4GXqX5aBGua",
    "outputId": "10bb54e8-3233-43db-eeee-e2e16f871bf9"
   },
   "outputs": [],
   "source": [
    "{key:val for key, val in enumerate(\"toto\")}"
   ]
  },
  {
   "cell_type": "code",
   "execution_count": null,
   "metadata": {
    "colab": {
     "base_uri": "https://localhost:8080/"
    },
    "id": "C_PM9dNJBGue",
    "outputId": "fa576085-72bb-4164-8580-d9dcd77a53af"
   },
   "outputs": [],
   "source": [
    "\n",
    "seq = \"atctcgatcgatcgcgctagctagctcgccatacgtacgactacgt\"\n",
    "{base:seq.count(base) for base in set(seq)}"
   ]
  },
  {
   "cell_type": "markdown",
   "metadata": {
    "id": "DHYiE6htBGui"
   },
   "source": [
    "De manière générale, tout objet sur lequel on peut faire une double itération du type `for var1, var2 in obj` est utilisable pour créer un dictionnaire de compréhension.\n",
    "\n",
    "Il est également possible de générer des *sets* de compréhension sur le même modèle que les listes de compréhension :"
   ]
  },
  {
   "cell_type": "code",
   "execution_count": null,
   "metadata": {
    "colab": {
     "base_uri": "https://localhost:8080/"
    },
    "id": "lkUROAHBBGuj",
    "outputId": "231afbab-ed70-414a-a15c-dded603f90b0"
   },
   "outputs": [],
   "source": [
    "{i for i in range(10)}"
   ]
  },
  {
   "cell_type": "code",
   "execution_count": null,
   "metadata": {
    "colab": {
     "base_uri": "https://localhost:8080/"
    },
    "id": "gcM5EQYCBGup",
    "outputId": "5e7ec446-8957-4775-fb66-7d62bd0d9fd7"
   },
   "outputs": [],
   "source": [
    "{i**2 for i in range(10)}"
   ]
  }
 ],
 "metadata": {
  "colab": {
   "collapsed_sections": [],
   "name": "cours1.ipynb",
   "provenance": []
  },
  "kernelspec": {
   "display_name": "Python 3",
   "language": "python",
   "name": "python3"
  },
  "language_info": {
   "codemirror_mode": {
    "name": "ipython",
    "version": 3
   },
   "file_extension": ".py",
   "mimetype": "text/x-python",
   "name": "python",
   "nbconvert_exporter": "python",
   "pygments_lexer": "ipython3",
   "version": "3.7.6"
  }
 },
 "nbformat": 4,
 "nbformat_minor": 1
}
