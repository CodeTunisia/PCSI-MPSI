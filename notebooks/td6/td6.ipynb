{
 "cells": [
  {
   "cell_type": "markdown",
   "metadata": {},
   "source": [
    "<!-- dom:TITLE: TD 6 : Fonctions et procédures - ( notions avancées ) -->\n",
    "# TD 6 : Fonctions et procédures - ( notions avancées )\n",
    "<!-- dom:AUTHOR: Ahmed Ammar at Institut Préparatoire aux Études Scientifiques et Techniques, Université de Carthage. -->\n",
    "<!-- Author: -->  \n",
    "**Ahmed Ammar**, Institut Préparatoire aux Études Scientifiques et Techniques, Université de Carthage.\n",
    "\n",
    "\n",
    "Date: **Dec 7, 2020**\n",
    "\n",
    "<!-- TOC: on -->\n",
    "\n",
    "\n",
    "\n",
    "<!-- --- begin exercise --- -->\n",
    "\n",
    "## Exercice 1: Fonctions `lambda`\n",
    "\n",
    "* **Q1.** Soit la liste `animaux = ['chien', 'chat', 'perroquet', 'lapin']`. Écrire l'instruction qui transforme cette liste en `['CHIEN', 'CHAT', 'PERROQUET', 'LAPIN']`."
   ]
  },
  {
   "cell_type": "code",
   "execution_count": 85,
   "metadata": {},
   "outputs": [
    {
     "name": "stdout",
     "output_type": "stream",
     "text": [
      "['CHIEN', 'CHAT', 'PERROQUET', 'LAPIN']\n"
     ]
    }
   ],
   "source": [
    "# Q1\n",
    "animaux = ['chien', 'chat', 'perroquet', 'lapin']\n",
    "maj_animaux = list(map(lambda el: el.upper(), animaux))\n",
    "print(maj_animaux)"
   ]
  },
  {
   "cell_type": "markdown",
   "metadata": {},
   "source": [
    "* **Q2.** Soit la liste de températures en $^\\circ$C suivant `TC = [39.2, 36.5, 37.3, 38, 37.8]`. Sachant que la formule de transformation de température de $^\\circ$C en $^\\circ$F est : $T_F = \\frac{9}{5} T_c + 32$. Écrire l'instruction qui construire une nouvelle liste de températures `TF` à partir de `TC`."
   ]
  },
  {
   "cell_type": "code",
   "execution_count": 121,
   "metadata": {},
   "outputs": [
    {
     "name": "stdout",
     "output_type": "stream",
     "text": [
      "[102.56, 97.7, 99.14, 100.4, 100.03999999999999]\n"
     ]
    }
   ],
   "source": [
    "#Q2. \n",
    "TC = [39.2, 36.5, 37.3, 38, 37.8]\n",
    "TF = list(map(lambda tc: (9/5) * tc + 32, TC))\n",
    "print(TF)"
   ]
  },
  {
   "cell_type": "markdown",
   "metadata": {},
   "source": [
    "* **Q3.** Soit `ages = [13, 90, 17, 59, 21, 60, 5, 10, 18, 60, 33]` une liste contenant les différents âges d'une population d'individus. Filtrer cette liste en créant une nouvelle liste `adultes` qui contient tous les adultes âgés de plus de 18 ans."
   ]
  },
  {
   "cell_type": "code",
   "execution_count": 87,
   "metadata": {},
   "outputs": [
    {
     "name": "stdout",
     "output_type": "stream",
     "text": [
      "[90, 59, 21, 60, 60, 33]\n"
     ]
    }
   ],
   "source": [
    "#Q3. \n",
    "ages = [13, 90, 17, 59, 21, 60, 5, 10, 18, 60, 33]\n",
    "adultes = list(filter(lambda age: age>18, ages))\n",
    "print(adultes)"
   ]
  },
  {
   "cell_type": "markdown",
   "metadata": {},
   "source": [
    "* **Q4.** Parfois, nous pouvons avoir un problème très spécifique dans lequel nous recevons une paire de tuple comme valeurs dans le dictionnaire et nous devons filtrer les éléments du dictionnaire en fonction de ces paires.\n",
    "\n",
    "Soit `original_dict = {'a': (6, 3), 'b': (4, 8), 'c': (8, 4)}` un dictionnaire de tuples. Filtrez ce dictionnaire en créant un nouveau `new_dict` qui ne contient que des valeurs de tuples ayant comme premier élément un entier >= 6 et dans le deuxième élément un entier <= 4."
   ]
  },
  {
   "cell_type": "code",
   "execution_count": 88,
   "metadata": {},
   "outputs": [
    {
     "name": "stdout",
     "output_type": "stream",
     "text": [
      "{'a': (6, 3), 'c': (8, 4)}\n"
     ]
    }
   ],
   "source": [
    "# Q4\n",
    "original_dict = {'a': (6, 3), 'b': (4, 8), 'c': (8, 4)}\n",
    "new_dict = dict(filter(lambda item: item[1][0]>=6 and item[1][1]<=4, original_dict.items()))\n",
    "print(new_dict)"
   ]
  },
  {
   "cell_type": "markdown",
   "metadata": {},
   "source": [
    "<!-- --- end solution of exercise --- -->\n",
    "\n",
    "<!-- --- end exercise --- -->\n",
    "\n",
    "\n",
    "\n",
    "\n",
    "<!-- --- begin exercise --- -->\n",
    "\n",
    "## Exercice 2: Portée d'une variable\n",
    "\n",
    "Sans exécuter le code dans l'interpréteur Python,  déterminer ce que le code ci-dessus affiche?"
   ]
  },
  {
   "cell_type": "code",
   "execution_count": 5,
   "metadata": {},
   "outputs": [
    {
     "name": "stdout",
     "output_type": "stream",
     "text": [
      "{'y': 5}\n",
      "4\n"
     ]
    }
   ],
   "source": [
    "x = 4\n",
    "\n",
    "def fonc():\n",
    "    y  = 5\n",
    "    print(locals())\n",
    "\n",
    "fonc()\n",
    "print(x)"
   ]
  },
  {
   "cell_type": "markdown",
   "metadata": {},
   "source": [
    "<!-- --- end exercise --- -->\n",
    "\n",
    "\n",
    "\n",
    "\n",
    "<!-- --- begin exercise --- -->\n",
    "\n",
    "## Exercice 3: Programmation modulaire\n",
    "\n",
    "* **Q1.** Créer un module `qustion1.py` dans lequel vous définissez une fonction `estUneMaj(car)` qui renvoie **vrai** si l’argument transmis est une majuscule. Tâchez de tenir compte des majuscules accentuées ! Tester la fonction dans le module en utilisant l'instruction `if __name__ == \"__main__\"`."
   ]
  },
  {
   "cell_type": "code",
   "execution_count": 61,
   "metadata": {},
   "outputs": [
    {
     "name": "stdout",
     "output_type": "stream",
     "text": [
      "Caractères à tester : Hello World!\n",
      "H True\n",
      "e False\n",
      "l False\n",
      "l False\n",
      "o False\n",
      "  False\n",
      "W True\n",
      "o False\n",
      "r False\n",
      "l False\n",
      "d False\n",
      "! False\n"
     ]
    }
   ],
   "source": [
    "# %load question1.py\n",
    "def estUneMaj(car):\n",
    "    if car in \"ABCDEFGHIJKLMNOPQRSTUVWXYZ\":\n",
    "        return True\n",
    "    else:\n",
    "        return False\n",
    "# Test :\n",
    "if __name__ == '__main__':\n",
    "    caracteres =\"Hello World!\"\n",
    "    print(\"Caractères à tester :\", caracteres)\n",
    "    for car in caracteres:\n",
    "        print(car, estUneMaj(car))"
   ]
  },
  {
   "cell_type": "markdown",
   "metadata": {},
   "source": [
    "* **Q2.** Créer un module `qustion2.py` dans lequel vous définissez une fonction `chaineListe(ch)` qui convertisse une phrase en une liste de mots. Tester la fonction dans le module en utilisant l'instruction `if __name__ == \"__main__\"`."
   ]
  },
  {
   "cell_type": "code",
   "execution_count": 63,
   "metadata": {},
   "outputs": [
    {
     "name": "stdout",
     "output_type": "stream",
     "text": [
      "['Ce', 'qu’est', 'l’ours', 'en', 'peluche', 'de', 'l’enfant', 'devient', 'le', 'télescope', 'de', 'l’astronome.']\n"
     ]
    }
   ],
   "source": [
    "# %load question2.py\n",
    "def chaineListe(ch):\n",
    "    \"convertit la chaîne ch en une liste de mots\"\n",
    "    return ch.split()\n",
    "# Tests :\n",
    "if __name__ == '__main__':\n",
    "    li = chaineListe(\"Ce qu’est l’ours en peluche de l’enfant devient le télescope de l’astronome.\")\n",
    "    print(li)"
   ]
  },
  {
   "cell_type": "markdown",
   "metadata": {},
   "source": [
    "* **Q3.** Utilisez les fonctions définies dans les questions précédentes pour écrire un script `qustion3.py` qui puisse extraire d’un texte tous les mots qui commencent par une majuscule."
   ]
  },
  {
   "cell_type": "code",
   "execution_count": 65,
   "metadata": {},
   "outputs": [
    {
     "name": "stdout",
     "output_type": "stream",
     "text": [
      "Phrase à tester : Le prénom de cette Dame est Elise\n",
      "Le\n",
      "Dame\n",
      "Elise\n"
     ]
    }
   ],
   "source": [
    "# %load question3.py\n",
    "from question1 import estUneMaj\n",
    "from question2 import chaineListe\n",
    "txt = \"Le prénom de cette Dame est Elise\"\n",
    "print(\"Phrase à tester :\", txt)\n",
    "lst = chaineListe(txt) # convertir la phrase en une liste de mots\n",
    "for mot in lst:\n",
    "    prem = mot[0]  # extraction du premier caractère\n",
    "    if estUneMaj(prem):  # test de majuscule\n",
    "        print(mot) # analyser chacun des mots de la liste\n"
   ]
  },
  {
   "cell_type": "markdown",
   "metadata": {},
   "source": [
    "* **Q4.** Utilisez les fonctions définies dans les questions précédentes pour écrire une fonction `compteMaj(ch)`, dans un module `qustion4.py`, qui renvoie le nombre de caractères majuscules contenus dans une phrase donnée en argument. Tester la fonction dans le module en utilisant l'instruction `if __name__ == \"__main__\"`.\n",
    "\n",
    "<!-- --- end exercise --- -->"
   ]
  },
  {
   "cell_type": "code",
   "execution_count": 67,
   "metadata": {},
   "outputs": [
    {
     "name": "stdout",
     "output_type": "stream",
     "text": [
      "Phrase à tester :  Le prix Nobel de Physique 2020 est un prix Nobel en astronomie : il revient à l’astrophysicien Britannique Roger Penrose et l’autre moitié à l’Allemand Reingard Genzel  et à l’Américaine Andrea Ghez.\n",
      "['Le', 'prix', 'Nobel', 'de', 'Physique', '2020', 'est', 'un', 'prix', 'Nobel', 'en', 'astronomie', ':', 'il', 'revient', 'à', 'l’astrophysicien', 'Britannique', 'Roger', 'Penrose', 'et', 'l’autre', 'moitié', 'à', 'l’Allemand', 'Reingard', 'Genzel', 'et', 'à', 'l’Américaine', 'Andrea', 'Ghez.']\n",
      "Cette phrase contient 13 majuscules.\n"
     ]
    }
   ],
   "source": [
    "# %load question4.py\n",
    "from question1 import estUneMaj\n",
    "from question2 import chaineListe\n",
    "\n",
    "def compteMaj(ch):\n",
    "    \"comptage des mots débutant par une majuscule dans la chaîne ch\"\n",
    "    cpt = 0\n",
    "    lst = chaineListe(ch) # convertir la phrase en une liste de mots\n",
    "    print(lst)\n",
    "    for mot in lst:       # analyser chacun des mots de la liste\n",
    "        for car in mot:\n",
    "            if estUneMaj(car):\n",
    "                cpt = cpt +1\n",
    "    \n",
    "    return cpt\n",
    "        \n",
    "# Test :\n",
    "if __name__ == '__main__':\n",
    "    phrase = \"Le prix Nobel de Physique 2020 est un prix Nobel en astronomie : il revient à l’astrophysicien Britannique Roger Penrose et l’autre moitié à l’Allemand Reingard Genzel  et à l’Américaine Andrea Ghez.\"\n",
    "    print(\"Phrase à tester : \", phrase)\n",
    "    print(\"Cette phrase contient\", compteMaj(plhrase), \"majuscules.\")"
   ]
  },
  {
   "cell_type": "markdown",
   "metadata": {},
   "source": [
    "## Exercice 4 : Nombre d’occurrences dans chaîne de caractères\n",
    "\n",
    "### Rappel :\n",
    "----\n",
    "1. La fonction `ord` prend en paramètre un caractère de type string et renvoie son point de code dans le jeu de caractères Unicode.\n",
    "\n",
    "2. La fonction `chr` prend en paramètre un point de code Unicode et renvoie le caractère correspondant.\n",
    "\n",
    "```python\n",
    ">>> ord('a')\n",
    "97\n",
    ">>> chr(97)\n",
    "'a'\n",
    "```\n",
    "---\n",
    "* **Q1** En utilisant les fonctions `lambda` et `map`, construire une liste `alphabet` qui contient toutes les lettres minuscules de l'alphabet romain."
   ]
  },
  {
   "cell_type": "code",
   "execution_count": 68,
   "metadata": {},
   "outputs": [
    {
     "name": "stdout",
     "output_type": "stream",
     "text": [
      "['a', 'b', 'c', 'd', 'e', 'f', 'g', 'h', 'i', 'j', 'k', 'l', 'm', 'n', 'o', 'p', 'q', 'r', 's', 't', 'u', 'v', 'w', 'x', 'y', 'z']\n"
     ]
    }
   ],
   "source": [
    "alphabet = list(map(lambda k:chr(k), range(ord('a'), ord('z') + 1)))\n",
    "print(alphabet)"
   ]
  },
  {
   "cell_type": "markdown",
   "metadata": {},
   "source": [
    "* **Q2** En utilisant les fonctions `lambda` et `filter`, construire une liste `consonne` qui contient toutes les consonnes dans `alphabet`."
   ]
  },
  {
   "cell_type": "code",
   "execution_count": 37,
   "metadata": {},
   "outputs": [
    {
     "name": "stdout",
     "output_type": "stream",
     "text": [
      "['b', 'c', 'd', 'f', 'g', 'h', 'j', 'k', 'l', 'm', 'n', 'p', 'q', 'r', 's', 't', 'v', 'w', 'x', 'z']\n"
     ]
    }
   ],
   "source": [
    "consonne = list(filter(lambda car : car not in 'aoeuiy', alphabet))\n",
    "print(consonne)"
   ]
  },
  {
   "cell_type": "markdown",
   "metadata": {},
   "source": [
    "* **Q3** Écrire une fonction `occurences(chaine)`qui prend en paramètre une chaîne de caractère et renvoie une liste de taille 26 avec le nombre d’occurrences dans `chaine` des 26 lettres de l'alphabet romain. Gérer les erreurs possibles en utilisant l'instruction `try..except`."
   ]
  },
  {
   "cell_type": "code",
   "execution_count": 78,
   "metadata": {},
   "outputs": [
    {
     "name": "stdout",
     "output_type": "stream",
     "text": [
      "Caractère ' ' non valide!\n",
      "Caractère '!' non valide!\n",
      "[0, 0, 0, 1, 1, 0, 0, 1, 0, 0, 0, 3, 0, 0, 2, 0, 0, 1, 0, 0, 0, 0, 1, 0, 0, 0]\n"
     ]
    }
   ],
   "source": [
    "# %load occurrence.py\n",
    "#NOM DU MODULE : occurrence.py\n",
    "def occurences(chaine):\n",
    "    histo = [0] * 26\n",
    "    chaine = chaine.lower()\n",
    "    for c in chaine:\n",
    "        \n",
    "        index = ord(c)- ord('a')\n",
    "        try:\n",
    "            histo[index] = histo[index] + 1\n",
    "        except IndexError:\n",
    "            print(\"Caractère '{}' non valide!\".format(c))\n",
    "    return histo\n",
    "if __name__ == \"__main__\":\n",
    "    print(occurences(\"Hello World!\"))"
   ]
  },
  {
   "cell_type": "markdown",
   "metadata": {},
   "source": [
    "* **Q4** Écrire une fonction `indice_occurrence(chaine, occ)` qui retourne la liste de tous les index où une occurrence `occ` est trouvée dans une chaîne donnée `chaine` sans utiliser de méthode prédéfinie comme `find()` et `index()`. La fonction renvoie la liste vide `[]` , si `occ` n'existe pas dans `chaine`.\n",
    "\n",
    "**Exemple :**\n",
    "\n",
    "```python\n",
    ">>> chaine = \"un ver vert va vers un verre vert.\"\n",
    ">>> occ = \"ver\"\n",
    ">>> print(indice_occurrence(chaine, occ))\n",
    "[3, 7, 15, 23, 29]\n",
    "```\n",
    "On vous donne le code ci-dessous à compléter :\n",
    "\n",
    "```python\n",
    "def indice_occurrence(chaine, occ):\n",
    "    # obtenir la longueur de l'occurrence occ et la longueur de chaine\n",
    "    m = len(occ)\n",
    "    n = len(chaine)\n",
    "    # partie à compléter\n",
    "    ....\n",
    "    ....\n",
    "```"
   ]
  },
  {
   "cell_type": "code",
   "execution_count": 80,
   "metadata": {},
   "outputs": [
    {
     "name": "stdout",
     "output_type": "stream",
     "text": [
      "[3, 7, 15, 23, 29]\n"
     ]
    }
   ],
   "source": [
    "# %load indice_occurrence.py\n",
    "#NOM DU MODULE : indice_occurrence.py\n",
    "def indice_occurrence(chaine, occ):\n",
    "    # obtenir la longueur de l'occurrence occ et la longueur de chaine\n",
    "    m = len(occ)\n",
    "    n = len(chaine)\n",
    "    # partie à compléter\n",
    "    # initialisation de la liste d'index\n",
    "    listIndice = []\n",
    "    # la recherche de tous les index d'occurrence se produit dans la chaîne\n",
    "    for i in range(0 , n-m):\n",
    "        if chaine[i : m + i] == occ:\n",
    "            listIndice.append(i)\n",
    "    return listIndice\n",
    "if __name__ == \"__main__\":\n",
    "    chaine = \"un ver vert va vers un verre vert.\"\n",
    "    occ = \"ver\"\n",
    "    print(indice_occurrence(chaine, occ))"
   ]
  },
  {
   "cell_type": "markdown",
   "metadata": {},
   "source": [
    "## Exercice 5 : Nombres premiers\n",
    "\n",
    "On rappelle qu’un entier strictement supérieur à $1$ est dit premier si ses seuls diviseurs strictement positifs sont $1$ et lui-même.\n",
    "\n",
    "On dit qu’un entier p est un nombre premier jumeau si les entiers $p$ et $p+2$ sont premiers."
   ]
  },
  {
   "cell_type": "markdown",
   "metadata": {},
   "source": [
    "Le couple `(p, p + 2)` est alors appelé couple de premiers jumeaux.\n",
    "\n",
    "On dit qu’un nombre $p$ est parfait si $p$ est un entier naturel strictement positif et si la somme de tous les diviseurs entiers strictement positifs de $p$ vaut $2p$.\n",
    "\n",
    "* **Q1.** Créer un module Python `premier` qui a une fonction `test_premier(p)` testant si l’entier `p` est premier ou non. Tester la fonction dans le module en utilisant l'instruction `if name == \"__main__\"`et en affichant la liste des 100 premiers nombres premiers."
   ]
  },
  {
   "cell_type": "code",
   "execution_count": 52,
   "metadata": {},
   "outputs": [
    {
     "name": "stdout",
     "output_type": "stream",
     "text": [
      "[2, 3, 5, 7, 11, 13, 17, 19, 23, 29, 31, 37, 41, 43, 47, 53, 59, 61, 67, 71, 73, 79, 83, 89, 97]\n"
     ]
    }
   ],
   "source": [
    "# %load premier.py\n",
    "# NOM DU MODULE : premier.py\n",
    "def test_premier(p):\n",
    "    if p < 2:\n",
    "        return False\n",
    "    k = 2\n",
    "    while k * k <= p:\n",
    "        if p % k == 0:\n",
    "            return False\n",
    "        k += 1\n",
    "    return True\n",
    "if __name__ == \"__main__\":\n",
    "    #print([k for k in range(2,100) if test_premier(k)])\n",
    "    # Nous pouvons également utilisé la fonction filter\n",
    "     print(list(filter(lambda p : test_premier(p), range(2,100))))\n"
   ]
  },
  {
   "cell_type": "markdown",
   "metadata": {},
   "source": [
    "* **Q2.** Dans un nouveau module `premiers_jumeaux`, écrire la fonction `liste_couples_premiers_jumeaux()` qui retourne la liste des 100 premiers couples jumeaux."
   ]
  },
  {
   "cell_type": "code",
   "execution_count": 54,
   "metadata": {},
   "outputs": [
    {
     "name": "stdout",
     "output_type": "stream",
     "text": [
      "[(3, 5), (5, 7), (11, 13), (17, 19), (29, 31), (41, 43), (59, 61), (71, 73), (101, 103), (107, 109), (137, 139), (149, 151), (179, 181), (191, 193), (197, 199), (227, 229), (239, 241), (269, 271), (281, 283), (311, 313), (347, 349), (419, 421), (431, 433), (461, 463), (521, 523), (569, 571), (599, 601), (617, 619), (641, 643), (659, 661), (809, 811), (821, 823), (827, 829), (857, 859), (881, 883), (1019, 1021), (1031, 1033), (1049, 1051), (1061, 1063), (1091, 1093), (1151, 1153), (1229, 1231), (1277, 1279), (1289, 1291), (1301, 1303), (1319, 1321), (1427, 1429), (1451, 1453), (1481, 1483), (1487, 1489), (1607, 1609), (1619, 1621), (1667, 1669), (1697, 1699), (1721, 1723), (1787, 1789), (1871, 1873), (1877, 1879), (1931, 1933), (1949, 1951), (1997, 1999), (2027, 2029), (2081, 2083), (2087, 2089), (2111, 2113), (2129, 2131), (2141, 2143), (2237, 2239), (2267, 2269), (2309, 2311), (2339, 2341), (2381, 2383), (2549, 2551), (2591, 2593), (2657, 2659), (2687, 2689), (2711, 2713), (2729, 2731), (2789, 2791), (2801, 2803), (2969, 2971), (2999, 3001), (3119, 3121), (3167, 3169), (3251, 3253), (3257, 3259), (3299, 3301), (3329, 3331), (3359, 3361), (3371, 3373), (3389, 3391), (3461, 3463), (3467, 3469), (3527, 3529), (3539, 3541), (3557, 3559), (3581, 3583), (3671, 3673), (3767, 3769), (3821, 3823)]\n"
     ]
    }
   ],
   "source": [
    "# %load premiers_jumeaux.py\n",
    "# NOM DU MODULE : premiers_jumeaux.py\n",
    "from premier import test_premier\n",
    "\n",
    "def liste_couples_premiers_jumeaux() :\n",
    "    c=0\n",
    "    p=3\n",
    "    res=[]\n",
    "    while c!=100 :\n",
    "        if test_premier(p) and test_premier(p+2) :\n",
    "            res.append((p,p+2))\n",
    "            c+=1\n",
    "        p+=2\n",
    "    return res\n",
    "if __name__ == \"__main__\":\n",
    "    print(liste_couples_premiers_jumeaux())"
   ]
  },
  {
   "cell_type": "markdown",
   "metadata": {},
   "source": [
    "* **Q3.** Dans un nouveau module `parfait`, rédiger une fonction `test_parfait(p)` testant si l’entier `p` est parfait. Dans le bloc de test du module `parfait` (`if name == \"__main__\"`), construire et afficher la liste de tous les nombres parfaits dans $[1, 1000]$."
   ]
  },
  {
   "cell_type": "code",
   "execution_count": 56,
   "metadata": {},
   "outputs": [
    {
     "name": "stdout",
     "output_type": "stream",
     "text": [
      "[6, 28, 496]\n"
     ]
    }
   ],
   "source": [
    "# %load parfait.py\n",
    "# NOM DU MODULE : parfait.py\n",
    "def test_parfait(p): \n",
    "    s=0\n",
    "    for k in range(1,p+1):\n",
    "        if p%k==0 :\n",
    "            s+=k\n",
    "    return s==2*p\n",
    "if __name__ == \"__main__\":\n",
    "    print([k for k in range(1,1001) if test_parfait(k)])\n",
    "    # Nous pouvons également utilisé la fonction filter\n",
    "    # print(list(filter(lambda p : test_parfait(p), range(1,1001))))"
   ]
  },
  {
   "cell_type": "markdown",
   "metadata": {},
   "source": [
    "* **Q4.** La conjecture de **Goldbach** postule que tout entier pair supérieur à 3 peut s'écrire comme somme de deux nombres premiers.\n",
    "\n",
    "![](figures/Goldbach.png)\n",
    "\n",
    "Dans un module `goldbach`, écrire la fonction `test_goldbach(n)` et vérifier cette conjecture pour tout entier inférieur ou égal à 1000."
   ]
  },
  {
   "cell_type": "markdown",
   "metadata": {},
   "source": [
    "**Solution :** Pour vérifier la conjecture de Goldbach, on commence par définir une fonction qui recherche un nombre premier p tel\n",
    "que $n - p$ soit premier :"
   ]
  },
  {
   "cell_type": "code",
   "execution_count": 61,
   "metadata": {},
   "outputs": [
    {
     "name": "stdout",
     "output_type": "stream",
     "text": [
      "[4, 6, 8, 10, 12, 14, 16, 18, 20, 22, 24, 26, 28, 30, 32, 34, 36, 38, 40, 42, 44, 46, 48, 50, 52, 54, 56, 58, 60, 62, 64, 66, 68, 70, 72, 74, 76, 78, 80, 82, 84, 86, 88, 90, 92, 94, 96, 98, 100]\n",
      "Conjecture vérifiée\n"
     ]
    }
   ],
   "source": [
    "# %load goldbach.py\n",
    "# NOM DU MODULE : goldbach.py\n",
    "def test_goldbach(n):\n",
    "    for p in range(2, n-1):\n",
    "        if test_premier(p) and test_premier(n-p):\n",
    "            return True\n",
    "    return False\n",
    "if __name__ == \"__main__\":\n",
    "    print(list(filter(lambda n : test_goldbach(n),\n",
    "                      range(4, 101, 2))))\n",
    "    for n in range(4, 1001, 2):\n",
    "        if not test_goldbach(n):\n",
    "            print(\"Conjecture mise en défaut pour {}\".format(n))\n",
    "            break\n",
    "    if n == 1000:\n",
    "        print(\"Conjecture vérifiée\")"
   ]
  },
  {
   "cell_type": "markdown",
   "metadata": {},
   "source": [
    "* **Q5.** A contrario, montrer que la conjecture suivante est fausse :\n",
    "*Tout nombre impair est la somme d’une puissance de 2 et d’un nombre premier.*\n",
    "\n",
    "Dans un module `conjecture`, écrire la fonction `test_conjecture(n)` et vérifier cette conjecture pour tout entier inférieur ou égal à 1000."
   ]
  },
  {
   "cell_type": "code",
   "execution_count": 66,
   "metadata": {},
   "outputs": [
    {
     "name": "stdout",
     "output_type": "stream",
     "text": [
      "Conjecture mise en défaut pour 127\n"
     ]
    }
   ],
   "source": [
    "# %load conjecture.py\n",
    "# NOM DU MODULE : conjecture.py\n",
    "def test_conjecture(n):\n",
    "    k = 1\n",
    "    while k < n:\n",
    "        if test_premier(n-k):\n",
    "            return True\n",
    "        k *= 2\n",
    "    return False\n",
    "if __name__ == \"__main__\":\n",
    "    #print(list(filter(lambda n : test_conjecture(n), range(3, 1001, 2))))\n",
    "    for n in range(3, 1001, 2):\n",
    "        if not test_conjecture(n):\n",
    "            print(\"Conjecture mise en défaut pour {}\".format(n))\n",
    "            break\n",
    "        if n == 1000:\n",
    "            print(\"Conjecture vérifiée\")"
   ]
  },
  {
   "cell_type": "code",
   "execution_count": null,
   "metadata": {},
   "outputs": [],
   "source": []
  }
 ],
 "metadata": {
  "kernelspec": {
   "display_name": "Python 3",
   "language": "python",
   "name": "python3"
  },
  "language_info": {
   "codemirror_mode": {
    "name": "ipython",
    "version": 3
   },
   "file_extension": ".py",
   "mimetype": "text/x-python",
   "name": "python",
   "nbconvert_exporter": "python",
   "pygments_lexer": "ipython3",
   "version": "3.7.6"
  }
 },
 "nbformat": 4,
 "nbformat_minor": 4
}
