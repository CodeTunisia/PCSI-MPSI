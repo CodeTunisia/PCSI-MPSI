{
 "cells": [
  {
   "cell_type": "markdown",
   "metadata": {},
   "source": [
    "<!-- dom:TITLE: Chapitre 8 : Tableaux et calcul matriciel avec NumPy -->\n",
    "# Chapitre 8 : Tableaux et calcul matriciel avec NumPy\n",
    "<!-- dom:AUTHOR: Ahmed Ammar Email:ahmed.ammar@fst.utm.tn at Classes Sup : IPEST-La Marsa, Universit\\'e de Carthage. -->\n",
    "<!-- Author: -->  \n",
    "**Ahmed Ammar** (email: `ahmed.ammar@fst.utm.tn`), Classes Sup : IPEST-La Marsa, Universit\\'e de Carthage.\n",
    "\n",
    "Date: **Lundi, 03 mai 2021**\n",
    "\n",
    "<!-- TOC: on -->\n",
    "\n",
    "# Introduction\n",
    "\n",
    "Nous allons voir comment créer des tableaux avec la fonction `numpy.array()` de **NumPy**. Ces tableaux pourront être utilisés comme des vecteurs ou des matrices grâce à des fonctions de **NumPy** (`numpy.dot()`, `numpy.linalg.det()`, `numpy.linalg.inv()`, `numpy.linalg.eig()`, etc.) qui permettent de réaliser des calculs matriciels utilisés en algèbre.\n",
    "\n",
    "Nous allons travailler en interactif.\n",
    "\n",
    "Premièrement, nous allons importer le module `numpy`. Pour cela, il suffit de faire :"
   ]
  },
  {
   "cell_type": "code",
   "execution_count": null,
   "metadata": {},
   "outputs": [],
   "source": [
    "import numpy as np"
   ]
  },
  {
   "cell_type": "markdown",
   "metadata": {},
   "source": [
    "**Note.**\n",
    "\n",
    "Dans la syntaxe « standard », on importe la totalité du module `numpy` et on lui donne un alias pour alléger ensuite l’écriture de l’appel des fonctions. L’alias qui est le plus couramment utilisé est `np`.\n",
    "\n",
    "\n",
    "\n",
    "# Objet `ndarray`\n",
    "Dans NumPy, un tableau multidimensionnel est représenté par le type `ndarray` (N-dimensional array). On en crée une instance en précisant les dimensions désirées avec un tuple, comme le montre l'exemple suivant :"
   ]
  },
  {
   "cell_type": "code",
   "execution_count": null,
   "metadata": {},
   "outputs": [],
   "source": [
    "shape = (2, 1, 3)\n",
    "data = np.ndarray(shape)\n",
    "print(data)"
   ]
  },
  {
   "cell_type": "markdown",
   "metadata": {},
   "source": [
    "Ces instructions créent un tableau multidimensionnel à trois dimensions. La première dimension contient deux éléments, la deuxième un seul et la troisième en compte trois. Lorsque l'on crée un tableau directement avec le constructeur de ndarray, il est initialisé avec des valeurs aléatoires, comme le montre le résultat de l'exécution.\n",
    "\n",
    "Les dimensions sont également appelées **axes** dans NumPy. On peut, en effet, représenter les éléments d'un tableau multidimensionnel comme des hypercubes placé dans un repère cartésien dont les axes correspondent aux dimensions. Dans le cas d'un tableau à trois dimensions, on se retrouve avec des cubes comme l'illustre la [figure](#img:visual-nd-array), où on voit directement les six éléments du tableau d'exemple data.\n",
    "\n",
    "<!-- dom:FIGURE: [images/visual-nd-array.png, width=300 frac=0.5] Les éléments d'un tableau multidimensionnel peuvent être représentés comme des hypercubes dans un espace avec autant de dimensions. <div id=\"img:visual-nd-array\"></div> -->\n",
    "<!-- begin figure -->\n",
    "<div id=\"img:visual-nd-array\"></div>\n",
    "\n",
    "<p>Les éléments d'un tableau multidimensionnel peuvent être représentés comme des hypercubes dans un espace avec autant de dimensions.</p>\n",
    "<img src=\"images/visual-nd-array.png\" width=300>\n",
    "\n",
    "<!-- end figure -->\n",
    "\n",
    "\n",
    "## Attribut\n",
    "Il est possible d'obtenir des informations sur un ndarray en récupérant les valeurs de différents attributs. Voyons quelques caractéristiques du tableau que l'on vient de créer :"
   ]
  },
  {
   "cell_type": "code",
   "execution_count": null,
   "metadata": {},
   "outputs": [],
   "source": [
    "print(type(data))"
   ]
  },
  {
   "cell_type": "code",
   "execution_count": null,
   "metadata": {},
   "outputs": [],
   "source": [
    "print(data.ndim)"
   ]
  },
  {
   "cell_type": "code",
   "execution_count": null,
   "metadata": {},
   "outputs": [],
   "source": [
    "print(data.shape)"
   ]
  },
  {
   "cell_type": "code",
   "execution_count": null,
   "metadata": {},
   "outputs": [],
   "source": [
    "print(data.size)"
   ]
  },
  {
   "cell_type": "markdown",
   "metadata": {},
   "source": [
    "La première instruction confirme juste qu'il s'agit bien d'un objet `ndarray` que l'on a créé dans la variable data. Les trois suivantes fournissent des informations sur le tableau :\n",
    "* l'attribut ndim donne le **nombre de dimensions** (ou axes) du tableau, à savoir 3 dans notre exemple ;\n",
    "\n",
    "* l'attribut `shape` donne **les dimensions** sous forme d'un tuple avec `ndim` éléments, à savoir (2,1,3) dans notre exemple ;\n",
    "\n",
    "* et enfin, l'attribut `size` donne **la taille** du tableau, c'est-à-dire le nombre total d'éléments qu'il contient, à savoir 6 dans notre cas.\n",
    "\n",
    "## Création de tableau\n",
    "Plusieurs fonctions sont disponibles pour créer un tableau multidimensionnel, de manière plus simple que directement avec le constructeur de `ndarray`. On peut tout d'abord en créer un à partir d'une liste Python, à l'aide de la fonction `array` :"
   ]
  },
  {
   "cell_type": "code",
   "execution_count": null,
   "metadata": {},
   "outputs": [],
   "source": [
    "print(np.array([1, 2, 3]))\n"
   ]
  },
  {
   "cell_type": "code",
   "execution_count": null,
   "metadata": {},
   "outputs": [],
   "source": [
    "print(np.array([[1, 2, 3], [4, 5, 6]]))"
   ]
  },
  {
   "cell_type": "markdown",
   "metadata": {},
   "source": [
    "La première instruction crée un tableau à une dimension à partir d'une simple liste de nombres entiers. Le second tableau créé a, quant à lui, deux dimensions, car il a été créé à partir d'une liste de listes de nombres entiers.\n",
    "### Tableau initialisé\n",
    "\n",
    "Il y a souvent des cas où nous voulons que NumPy initialise les valeurs d'un tableau. NumPy offre des fonctions comme `ones()` et `zeros()`, et la classe `random.Generator` pour la génération de nombres aléatoires pour cela. Tout ce que vous avez à faire est de passer le nombre d'éléments que vous voulez qu'il génère :"
   ]
  },
  {
   "cell_type": "code",
   "execution_count": null,
   "metadata": {},
   "outputs": [],
   "source": [
    "np.ones(3)"
   ]
  },
  {
   "cell_type": "code",
   "execution_count": null,
   "metadata": {},
   "outputs": [],
   "source": [
    "np.zeros(3)"
   ]
  },
  {
   "cell_type": "code",
   "execution_count": null,
   "metadata": {},
   "outputs": [],
   "source": [
    "rng = np.random.default_rng(1)\n",
    "rng.random(3)"
   ]
  },
  {
   "cell_type": "markdown",
   "metadata": {},
   "source": [
    "<!-- dom:FIGURE: [images/np_ones_zeros_random.png, width=600 frac=1] -->\n",
    "<!-- begin figure -->\n",
    "\n",
    "<p></p>\n",
    "<img src=\"images/np_ones_zeros_random.png\" width=600>\n",
    "\n",
    "<!-- end figure -->"
   ]
  },
  {
   "cell_type": "markdown",
   "metadata": {},
   "source": [
    "Vous pouvez également utiliser `ones()`, `zeros()` et `random()` pour créer un tableau 2D si vous leur fournissez un tuple décrivant les dimensions de la matrice :"
   ]
  },
  {
   "cell_type": "code",
   "execution_count": null,
   "metadata": {},
   "outputs": [],
   "source": [
    "np.ones((3, 2))"
   ]
  },
  {
   "cell_type": "code",
   "execution_count": null,
   "metadata": {},
   "outputs": [],
   "source": [
    "np.zeros((3, 2))"
   ]
  },
  {
   "cell_type": "code",
   "execution_count": null,
   "metadata": {},
   "outputs": [],
   "source": [
    "rng.random((3, 2))"
   ]
  },
  {
   "cell_type": "markdown",
   "metadata": {},
   "source": [
    "<!-- dom:FIGURE: [images/np_ones_zeros_matrix.png, width=600 frac=1] -->\n",
    "<!-- begin figure -->\n",
    "\n",
    "<p></p>\n",
    "<img src=\"images/np_ones_zeros_matrix.png\" width=600>\n",
    "\n",
    "<!-- end figure -->"
   ]
  },
  {
   "cell_type": "markdown",
   "metadata": {},
   "source": [
    "**Représentation graphique**"
   ]
  },
  {
   "cell_type": "code",
   "execution_count": null,
   "metadata": {},
   "outputs": [],
   "source": [
    "import matplotlib.pyplot as plt\n",
    "image = np.random.random((100, 100))\n",
    "plt.imshow(image, cmap = 'gray')\n",
    "plt.colorbar()"
   ]
  },
  {
   "cell_type": "markdown",
   "metadata": {},
   "source": [
    "### Séquence incrémentale\n",
    "\n",
    "On peut aussi créer des tableaux unidimensionnels dont les éléments forment des séquences incrémentales. La fonction `arange()`, similaire à la fonction prédéfinie `range()` de Python, permet de créer une telle séquence en spécifiant l'élément de début et celui de fin, et éventuellement le pas d'incrément. Voici trois exemples d'utilisation de cette fonction :"
   ]
  },
  {
   "cell_type": "code",
   "execution_count": null,
   "metadata": {},
   "outputs": [],
   "source": [
    "print(np.arange(7))           # De 0 à 7 (exclu), par pas de 1"
   ]
  },
  {
   "cell_type": "code",
   "execution_count": null,
   "metadata": {},
   "outputs": [],
   "source": [
    "print(np.arange(2, 7))        # De 2 à 7 (exclu), par pas de 1"
   ]
  },
  {
   "cell_type": "code",
   "execution_count": null,
   "metadata": {},
   "outputs": [],
   "source": [
    "print(np.arange(2, 7, 2))     # De 2 à 7 (exclu), par pas de 2"
   ]
  },
  {
   "cell_type": "code",
   "execution_count": null,
   "metadata": {},
   "outputs": [],
   "source": [
    "print(np.arange(2, 7, 0.1))"
   ]
  },
  {
   "cell_type": "code",
   "execution_count": null,
   "metadata": {},
   "outputs": [],
   "source": [
    "%%timeit\n",
    "x = [x**2 for x in range(1000)]"
   ]
  },
  {
   "cell_type": "code",
   "execution_count": null,
   "metadata": {},
   "outputs": [],
   "source": [
    "%%timeit\n",
    "x = np.arange(1000)\n",
    "x**2"
   ]
  },
  {
   "cell_type": "markdown",
   "metadata": {},
   "source": [
    "Avec la fonction `arange()`, la taille du tableau unidimensionnel créé dépend des valeurs des paramètres fournis, à savoir les éléments de début et de fin et le pas d'incrément. Néanmoins, on peut vouloir imposer la taille du tableau à créer, en ne spécifiant que l'élément de début et celui de fin, et en laissant le pas d'incrément se calculer tout seul. Pour cela, on utilise la fonction `linspace()` qui sépare les éléments du tableau créé de manière linéaire. Voici deux façons de créer un `ndarray` de taille 6 dont les éléments sont équitablement répartis entre 2 et 7 :"
   ]
  },
  {
   "cell_type": "code",
   "execution_count": null,
   "metadata": {},
   "outputs": [],
   "source": [
    "print(np.linspace(2, 7, 6))"
   ]
  },
  {
   "cell_type": "code",
   "execution_count": null,
   "metadata": {},
   "outputs": [],
   "source": [
    "print(np.linspace(2, 7, 6, endpoint=False))"
   ]
  },
  {
   "cell_type": "markdown",
   "metadata": {},
   "source": [
    "* Dans le premier cas, on veut six éléments entre 2 et 7, inclus, ce qui fait que ces derniers seront séparés de 1.\n",
    "\n",
    "* Dans le second cas, 7 est exclu et les éléments du tableau seront donc séparés de 5/6.\n",
    "\n",
    "De manière générale, si on veut obtenir $n$ éléments équitablement répartis entre $start$ et $end$, ils seront séparés de :\n",
    "\n",
    "$$step = \\frac{end - start + 1}{n} \\qquad\\textrm{ou}\\qquad step = \\frac{end - start}{n},$$\n",
    "\n",
    "Notez qu'il existe aussi les fonctions `logspace()` et `geomspace()` qui créent également des séquences incrémentales, sauf que les éléments du tableau créé suivent une échelle **logarithmique** ou **géométrique**. L'exemple suivant montre ces deux fonctions en action :"
   ]
  },
  {
   "cell_type": "code",
   "execution_count": null,
   "metadata": {},
   "outputs": [],
   "source": [
    "print(np.logspace(0, 3, 4))"
   ]
  },
  {
   "cell_type": "code",
   "execution_count": null,
   "metadata": {},
   "outputs": [],
   "source": [
    "print(np.geomspace(1, 1000, 4))"
   ]
  },
  {
   "cell_type": "markdown",
   "metadata": {},
   "source": [
    "* La base pour logspace étant, par défaut, de $10$, la première instruction demande quatre éléments entre $10^0$ et $10^3$, suivant une échelle logarithmique.\n",
    "\n",
    "* La seconde instruction crée une progression géométrique, partant de $1$ jusqu'à $1000$, qui contient quatre éléments. Pour l'exemple présenté, les deux instructions génèrent donc le même résultat."
   ]
  },
  {
   "cell_type": "markdown",
   "metadata": {},
   "source": [
    "**Représentation graphique**\n"
   ]
  },
  {
   "cell_type": "code",
   "execution_count": null,
   "metadata": {},
   "outputs": [],
   "source": [
    "import matplotlib.pyplot as plt\n",
    "x = np.linspace(0, 10, 10)\n",
    "y = x**2\n",
    "plt.plot(x, y, '-ro')"
   ]
  },
  {
   "cell_type": "markdown",
   "metadata": {},
   "source": [
    "### Exercice : Graphiques avec les tableau numpy\n",
    "* Q1. Créer le tableau de 50 valeurs de x $\\in[-2\\pi ; 2\\pi]$.\n",
    "* Q2. Représenter sur le même graphique $sin(x)$ et $cos(x)$\n"
   ]
  },
  {
   "cell_type": "code",
   "execution_count": null,
   "metadata": {},
   "outputs": [],
   "source": [
    "x = np.linspace(-2* np.pi, 2*np.pi, 50)\n",
    "y1 = np.sin(x)\n",
    "y2 = np.cos(x)\n",
    "plt.plot(x, y1, label = \"sin(x)\")\n",
    "plt.plot(x, y2, label = \"cos(x)\")\n",
    "plt.legend()"
   ]
  },
  {
   "cell_type": "markdown",
   "metadata": {},
   "source": [
    "## Type de données\n",
    "Les éléments d'un tableau multidimensionnel doivent tous être du même type. Il y a quatre types de données de base qui sont les booléens et les nombres entiers, flottants et complexes.\n",
    "\n",
    "Quand on crée un tableau, le type de données de ses éléments est choisi selon le contexte. Pour connaître ce type, on peut consulter l'attribut `dtype` des objets` ndarray`. Voyons quelques exemples avec différentes techniques de création de tableau vues précédemment :"
   ]
  },
  {
   "cell_type": "code",
   "execution_count": null,
   "metadata": {},
   "outputs": [],
   "source": [
    "a = np.array([1, 2, 3])\n",
    "b = np.zeros(5)\n",
    "c = np.ones(5)\n",
    "d = np.arange(0, 5)\n",
    "e = np.linspace(0, 9, 10)\n",
    "\n",
    "print(a.dtype, b.dtype, c.dtype, d.dtype, e.dtype)"
   ]
  },
  {
   "cell_type": "markdown",
   "metadata": {},
   "source": [
    "Lorsque l'on crée un tableau en fournissant directement les données à y stocker (avec `array` ou `arange`), elles prennent le type des valeurs d'initialisation, à savoir des nombres entiers dans notre exemple (plus précisément, il s'agit du type de données **int64**, car la machine sur laquelle le code a été exécuté est une machine 64 bits). Les fonctions `zeros`, `ones` et `linspace` produisent, quant à elles, des tableaux dont les valeurs sont des nombres flottants.\n",
    "\n",
    "L'exemple suivant fait en sorte que les données des tableaux qui étaient précédemment de type **int64** soient maintenant de type **float64** :"
   ]
  },
  {
   "cell_type": "code",
   "execution_count": null,
   "metadata": {},
   "outputs": [],
   "source": [
    "a = np.array([1.0, 2, 3])\n",
    "d = np.arange(0, 5, step=1.0)\n",
    "\n",
    "print(a.dtype, d.dtype)"
   ]
  },
  {
   "cell_type": "markdown",
   "metadata": {},
   "source": [
    "### Définir le type\n",
    "\n",
    "Les quatre types de base sont représentés par les classes `bool_`, `int_`, `float_` et `complex_`. On peut utiliser ces classes pour transformer une donnée ou une liste Python en un `ndarray` dont les éléments auront le type correspondant. Voici, par exemple, comment créer un tableau dont les éléments sont des nombres complexes :"
   ]
  },
  {
   "cell_type": "code",
   "execution_count": null,
   "metadata": {},
   "outputs": [],
   "source": [
    "print(np.complex_([7, -1, 2]))"
   ]
  },
  {
   "cell_type": "markdown",
   "metadata": {},
   "source": [
    "La liste Python, constituée de nombres entiers, va être transformée en un `ndarray` de nombres complexes, comme on peut le constater sur le résultat de l'exécution.\n",
    "\n",
    "Une autre façon de procéder pour **spécifier le type désiré** lors de la création d'un `ndarray` consiste à utiliser le paramètre optionnel `dtype` lors de sa création. Voici, par exemple, comment créer un `ndarray` de nombres flottants, à partir de nombres entiers :"
   ]
  },
  {
   "cell_type": "code",
   "execution_count": null,
   "metadata": {},
   "outputs": [],
   "source": [
    "print(np.arange(1, 11, dtype=np.float_))"
   ]
  },
  {
   "cell_type": "markdown",
   "metadata": {},
   "source": [
    "Contrairement à ce que l'on a vu précédemment, où la fonction arange créait un tableau de nombres entiers par défaut, on constate ici que l'on a bel et bien des nombres flottants.\n",
    "\n",
    "### Espace mémoire\n",
    "\n",
    "Lorsque l'on utilise les quatre types de base, on n'a pas vraiment de contrôle sur l'espace mémoire occupé par un tableau. On peut connaître cette quantité de mémoire avec l'attribut `itemsize` des `ndarray`. Ce dernier contient le nombre d'octets occupés par chaque élément du tableau. Cette quantité est, pour rappel, identique pour tous les éléments d'un même tableau, puisque ces derniers sont homogènes.\n",
    "\n",
    "Un élément de type `bool_` occupe toujours un octet en mémoire. Pour les trois autres types, à savoir `int_`, `float_` et `complex_`, cela peut varier selon la machine. Si on veut un contrôle précis sur l'espace mémoire, on peut utiliser des types spécifiques, comme **float16**, **float32** et **float64** pour les nombres flottants, par exemple.\n",
    "\n",
    "Le programme suivant compare l'espace mémoire occupé par les différents types pour les nombres flottants :"
   ]
  },
  {
   "cell_type": "code",
   "execution_count": null,
   "metadata": {},
   "outputs": [],
   "source": [
    "print(np.float_(0).itemsize)\n",
    "print(np.float16(0).itemsize)\n",
    "print(np.float32(0).itemsize)\n",
    "print(np.float64(0).itemsize)"
   ]
  },
  {
   "cell_type": "markdown",
   "metadata": {},
   "source": [
    "On remarque que, sur cette machine, le type `float_` est un raccourci pour **float64**, les données de ce type occupant **huit octets** (64 bits) :"
   ]
  },
  {
   "cell_type": "markdown",
   "metadata": {},
   "source": [
    "        8\n",
    "        2\n",
    "        4\n",
    "        8\n"
   ]
  },
  {
   "cell_type": "markdown",
   "metadata": {},
   "source": [
    "Pour rappel, un tableau multidimensionnel NumPy est stocké dans des **blocs mémoire consécutifs**. Plus précisément, on se retrouve avec une organisation structurée par dimensions. La mémoire est tout d'abord découpée en blocs de même taille, en fonction du nombre d'éléments dans le premier axe. Chacun de ces blocs est ensuite lui-même découpé en sous-blocs en fonction du nombre d'éléments du deuxième axe. La découpe continue ainsi de suite pour toutes les dimensions du tableau.\n",
    "\n",
    "Pour mieux comprendre cette organisation en mémoire, prenons l'exemple suivant qui crée un tableau à trois dimensions :"
   ]
  },
  {
   "cell_type": "code",
   "execution_count": null,
   "metadata": {},
   "outputs": [],
   "source": [
    "data = np.array([[[1, 2, 3], [4, 5, 6]],\n",
    "        [[7, 8, 9], [10, 11, 12]],\n",
    "         [[13, 14, 15], [16, 17, 18]]],\n",
    "          dtype=np.int8)\n",
    "print(data)\n",
    "print(data.shape)\n",
    "print(data.itemsize)\n",
    "print(data.nbytes)"
   ]
  },
  {
   "cell_type": "markdown",
   "metadata": {},
   "source": [
    "Comme on le voit sur le résultat de l'exécution, il s'agit d'un tableau de dimensions $(3,2,3)$ dont chaque élément occupe **1 octet** (8 bits) en mémoire. En effet, grâce au paramètre optionnel `dtype`, on a forcé l'utilisation du type `np.int8`. En tout, il faut donc **18 octets** pour stocker tous les éléments du tableau (on a en effet un total de $3 \\times 2 \\times 3=18 \\ éléments \\times 1 \\ octet =18 \\ octets$), ce qu'on confirme en affichant la valeur de l'attribut `nbytes` du tableau qui contient l'espace total occupé en mémoire par le tableau, en octets :"
   ]
  },
  {
   "cell_type": "markdown",
   "metadata": {},
   "source": [
    "        [[[ 1  2  3]\n",
    "          [ 4  5  6]]\n",
    "        \n",
    "         [[ 7  8  9]\n",
    "          [10 11 12]]\n",
    "        \n",
    "         [[13 14 15]\n",
    "          [16 17 18]]]\n",
    "        (3, 2, 3)\n",
    "        1\n",
    "        18\n"
   ]
  },
  {
   "cell_type": "markdown",
   "metadata": {},
   "source": [
    "La [figure](#img:vnd-array-memory-organisation) montre l'organisation en mémoire de ce tableau. La première dimension possède trois éléments et les 18 octets sont donc découpés en trois blocs de 6 octets (D1). Chacun de ces blocs est ensuite lui-même découpé en deux blocs puisque la deuxième dimension possède deux éléments. Chaque bloc de deuxième niveau de 6 octets est donc découpé en deux blocs de 3 octets (D2). Enfin, au troisième niveau, on a une dernière découpe de chaque bloc de deuxième niveau de 3 octets en trois blocs de 1 octet chacun, puisque la troisième dimension possède trois éléments (D3). Comme détaillé à la section suivante, cette organisation permet un accès efficace aux éléments du tableau.\n",
    "\n",
    "<!-- dom:FIGURE: [images/nd-array-memory-organisation.png, width=600 frac=1] Un tableau de dimensions (3,2,3) possède 18 éléments qui sont stockés dans des blocs consécutifs de mémoire et l'organisation est structurée par dimensions. <div id=\"img:vnd-array-memory-organisation\"></div> -->\n",
    "<!-- begin figure -->\n",
    "<div id=\"img:vnd-array-memory-organisation\"></div>\n",
    "\n",
    "<p>Un tableau de dimensions (3,2,3) possède 18 éléments qui sont stockés dans des blocs consécutifs de mémoire et l'organisation est structurée par dimensions.</p>\n",
    "<img src=\"images/nd-array-memory-organisation.png\" width=600>\n",
    "\n",
    "<!-- end figure -->\n",
    "\n",
    "\n",
    "On peut connaître la taille des blocs mémoire pour chacune des dimensions, en octets, en consultant l'attribut `strides` des `ndarray` :"
   ]
  },
  {
   "cell_type": "code",
   "execution_count": null,
   "metadata": {},
   "outputs": [],
   "source": [
    "print(data.strides)"
   ]
  },
  {
   "cell_type": "markdown",
   "metadata": {},
   "source": [
    "Le résultat de l'exécution confirme ce qu'on a déjà pu calculer plus haut. Un bloc en première dimension occupe 6 octets, un bloc en deuxième dimension 3 octets et enfin, les derniers blocs, ceux de la troisième dimension, occupent 1 octet en mémoire.\n",
    "\n",
    "### Erreurs de débordement\n",
    "\n",
    "La taille fixe des types numériques de NumPy peut provoquer des erreurs de débordement lorsqu'une valeur nécessite plus de mémoire que celle disponible dans le type de données. Par exemple, `numpy.power` évalue `100**8` correctement pour les entiers de 64 bits, mais donne 1874919424 (incorrect) pour un entier de 32 bits."
   ]
  },
  {
   "cell_type": "code",
   "execution_count": null,
   "metadata": {},
   "outputs": [],
   "source": [
    "np.power(100, 8, dtype=np.int64)"
   ]
  },
  {
   "cell_type": "code",
   "execution_count": null,
   "metadata": {},
   "outputs": [],
   "source": [
    "np.power(100, 8, dtype=np.int32)"
   ]
  },
  {
   "cell_type": "markdown",
   "metadata": {},
   "source": [
    "Le comportement des types d'entiers de NumPy et de Python diffère considérablement pour les débordements d'entiers et peut dérouter les utilisateurs qui s'attendent à ce que les entiers de NumPy se comportent comme les `int` de Python. Contrairement à NumPy, la taille des `int` de Python est flexible. Cela signifie que les entiers de Python peuvent s'étendre pour accueillir n'importe quel entier et ne déborderont pas.\n",
    "\n",
    "NumPy fournit `numpy.iinfo` et `numpy.finfo` pour vérifier les valeurs minimales ou maximales des valeurs entières et à virgule flottante de NumPy respectivement."
   ]
  },
  {
   "cell_type": "code",
   "execution_count": null,
   "metadata": {},
   "outputs": [],
   "source": [
    "np.iinfo(int) # Les limites de l'entier par défaut sur ce système."
   ]
  },
  {
   "cell_type": "code",
   "execution_count": null,
   "metadata": {},
   "outputs": [],
   "source": [
    "np.iinfo(np.int32) # Limites d'un entier de 32 bits"
   ]
  },
  {
   "cell_type": "code",
   "execution_count": null,
   "metadata": {},
   "outputs": [],
   "source": [
    "np.finfo(np.float64) # Limites d'un entier de 64 bits"
   ]
  },
  {
   "cell_type": "markdown",
   "metadata": {},
   "source": [
    "Si les entiers 64 bits sont encore trop petits, le résultat peut être converti en un nombre à virgule flottante. Les nombres à virgule flottante offrent un éventail plus large, mais inexact, de valeurs possibles."
   ]
  },
  {
   "cell_type": "code",
   "execution_count": null,
   "metadata": {},
   "outputs": [],
   "source": [
    "np.power(100, 100, dtype=np.int64) # Incorrect even with 64-bit int"
   ]
  },
  {
   "cell_type": "code",
   "execution_count": null,
   "metadata": {},
   "outputs": [],
   "source": [
    "np.power(100, 100, dtype=np.float64)"
   ]
  },
  {
   "cell_type": "markdown",
   "metadata": {},
   "source": [
    "## Opérations de base sur les tableaux\n",
    "Une fois que vous avez créé vos tableaux, vous pouvez commencer à vous en servir. Disons, par exemple, que vous avez créé deux tableaux, l'un appelé \"data\" et l'autre \"ones\".\n",
    "\n",
    "<!-- dom:FIGURE: [images/np_array_dataones.png, width=700 frac=1] -->\n",
    "<!-- begin figure -->\n",
    "\n",
    "<p></p>\n",
    "<img src=\"images/np_array_dataones.png\" width=700>\n",
    "\n",
    "<!-- end figure -->\n",
    "\n",
    "\n",
    "Vous pouvez ajouter les tableaux ensemble avec le signe plus."
   ]
  },
  {
   "cell_type": "code",
   "execution_count": null,
   "metadata": {},
   "outputs": [],
   "source": [
    "data = np.array([1, 2])\n",
    "ones = np.ones(2, dtype=int)\n",
    "data + ones"
   ]
  },
  {
   "cell_type": "markdown",
   "metadata": {},
   "source": [
    "<!-- dom:FIGURE: [images/np_data_plus_ones.png, width=700 frac=1] -->\n",
    "<!-- begin figure -->\n",
    "\n",
    "<p></p>\n",
    "<img src=\"images/np_data_plus_ones.png\" width=700>\n",
    "\n",
    "<!-- end figure -->\n",
    "\n",
    "\n",
    "Vous pouvez, bien sûr, faire plus qu'une simple addition !"
   ]
  },
  {
   "cell_type": "code",
   "execution_count": null,
   "metadata": {},
   "outputs": [],
   "source": [
    "data - ones"
   ]
  },
  {
   "cell_type": "code",
   "execution_count": null,
   "metadata": {},
   "outputs": [],
   "source": [
    "data * data"
   ]
  },
  {
   "cell_type": "code",
   "execution_count": null,
   "metadata": {},
   "outputs": [],
   "source": [
    "data / data"
   ]
  },
  {
   "cell_type": "markdown",
   "metadata": {},
   "source": [
    "<!-- dom:FIGURE: [images/np_sub_mult_divide.png, width=700 frac=1] -->\n",
    "<!-- begin figure -->\n",
    "\n",
    "<p></p>\n",
    "<img src=\"images/np_sub_mult_divide.png\" width=700>\n",
    "\n",
    "<!-- end figure -->\n",
    "\n",
    "\n",
    "Les opérations de base sont simples avec NumPy. Si vous voulez trouver la somme des éléments d'un tableau, vous utiliserez `sum()`. Cela fonctionne pour les tableaux 1D, les tableaux 2D et les tableaux de dimensions supérieures."
   ]
  },
  {
   "cell_type": "code",
   "execution_count": null,
   "metadata": {},
   "outputs": [],
   "source": [
    "a = np.array([1, 2, 3, 4])\n",
    "a.sum()"
   ]
  },
  {
   "cell_type": "markdown",
   "metadata": {},
   "source": [
    "Pour ajouter les lignes ou les colonnes d'un tableau 2D, vous devez spécifier des axes.\n",
    "\n",
    "Si vous commencez avec ce tableau :"
   ]
  },
  {
   "cell_type": "code",
   "execution_count": null,
   "metadata": {},
   "outputs": [],
   "source": [
    "b = np.array([[1, 1], [2, 2]])\n",
    "b"
   ]
  },
  {
   "cell_type": "markdown",
   "metadata": {},
   "source": [
    "Vous pouvez additionner les lignes avec :"
   ]
  },
  {
   "cell_type": "code",
   "execution_count": null,
   "metadata": {},
   "outputs": [],
   "source": [
    "b.sum(axis=0)"
   ]
  },
  {
   "cell_type": "markdown",
   "metadata": {},
   "source": [
    "Vous pouvez additionner les colonnes avec :"
   ]
  },
  {
   "cell_type": "code",
   "execution_count": null,
   "metadata": {},
   "outputs": [],
   "source": [
    "b.sum(axis=1)"
   ]
  },
  {
   "cell_type": "markdown",
   "metadata": {},
   "source": [
    "Les opérateurs arithmétiques sur les tableaux s'appliquent par éléments. Un nouveau tableau est créé et rempli avec le résultat.\n",
    "\n",
    "### Broadcasting\n",
    "\n",
    "Il peut arriver que vous souhaitiez effectuer une opération entre un tableau et un seul nombre (également appelée **opération entre un vecteur et un scalaire**) ou entre des tableaux de deux tailles différentes. Par exemple, votre tableau (que nous appellerons \" data \") peut contenir des informations sur la distance en miles, mais vous souhaitez convertir ces informations en kilomètres. Vous pouvez effectuer cette opération avec :"
   ]
  },
  {
   "cell_type": "code",
   "execution_count": null,
   "metadata": {},
   "outputs": [],
   "source": [
    "data = np.array([1.0, 2.0])\n",
    "data * 1.6"
   ]
  },
  {
   "cell_type": "markdown",
   "metadata": {},
   "source": [
    "<!-- dom:FIGURE: [images/np_multiply_broadcasting.png, width=700 frac=1] -->\n",
    "<!-- begin figure -->\n",
    "\n",
    "<p></p>\n",
    "<img src=\"images/np_multiply_broadcasting.png\" width=700>\n",
    "\n",
    "<!-- end figure -->\n",
    "\n",
    "\n",
    "NumPy comprend que la multiplication doit se faire avec chaque cellule. Ce concept est appelé **broadcasting**. Broadcasting est un mécanisme qui permet à NumPy d'effectuer des opérations sur des tableaux de formes différentes. Les dimensions de votre tableau doivent être compatibles, par exemple, lorsque les dimensions des deux tableaux sont égales ou lorsque l'un d'entre eux vaut 1. Si les dimensions ne sont pas compatibles, vous obtiendrez un `ValueError`.\n",
    "\n",
    "### Autres opérations utiles sur les tableaux\n",
    "\n",
    "NumPy propose également des fonctions d'agrégation. En plus de `min`, `max` et `sum`, vous pouvez facilement exécuter `mean` pour obtenir la moyenne, prod pour obtenir le résultat de la multiplication des éléments ensemble, `std` pour obtenir l'écart type, et plus encore."
   ]
  },
  {
   "cell_type": "code",
   "execution_count": null,
   "metadata": {},
   "outputs": [],
   "source": [
    "data.max()"
   ]
  },
  {
   "cell_type": "code",
   "execution_count": null,
   "metadata": {},
   "outputs": [],
   "source": [
    "data.min()"
   ]
  },
  {
   "cell_type": "code",
   "execution_count": null,
   "metadata": {},
   "outputs": [],
   "source": [
    "data.sum()"
   ]
  },
  {
   "cell_type": "markdown",
   "metadata": {},
   "source": [
    "<!-- dom:FIGURE: [images/np_aggregation.png, width=700 frac=1] -->\n",
    "<!-- begin figure -->\n",
    "\n",
    "<p></p>\n",
    "<img src=\"images/np_aggregation.png\" width=700>\n",
    "\n",
    "<!-- end figure -->\n",
    "\n",
    "\n",
    "Commençons par ce tableau, appelé \"a\"."
   ]
  },
  {
   "cell_type": "markdown",
   "metadata": {},
   "source": [
    "Il est très courant de vouloir agréger sur une ligne ou une colonne. Par défaut, chaque fonction d'agrégation de NumPy renvoie l'agrégat de l'ensemble du tableau. Pour trouver la somme ou le minimum des éléments de votre tableau, exécutez :"
   ]
  },
  {
   "cell_type": "code",
   "execution_count": null,
   "metadata": {},
   "outputs": [],
   "source": [
    "a.sum()"
   ]
  },
  {
   "cell_type": "markdown",
   "metadata": {},
   "source": [
    "Ou :"
   ]
  },
  {
   "cell_type": "code",
   "execution_count": null,
   "metadata": {},
   "outputs": [],
   "source": [
    "a.min()"
   ]
  },
  {
   "cell_type": "markdown",
   "metadata": {},
   "source": [
    "Vous pouvez spécifier sur quel axe vous souhaitez que la fonction d'agrégation soit calculée. Par exemple, vous pouvez trouver la valeur minimale dans chaque colonne en spécifiant `axis=0`."
   ]
  },
  {
   "cell_type": "code",
   "execution_count": null,
   "metadata": {},
   "outputs": [],
   "source": [
    "print(a)\n",
    "a.min(axis=0)"
   ]
  },
  {
   "cell_type": "markdown",
   "metadata": {},
   "source": [
    "Les quatre valeurs énumérées ci-dessus correspondent au nombre de colonnes de votre tableau. Avec un tableau à quatre colonnes, vous obtiendrez quatre valeurs comme résultat.\n",
    "\n",
    "# Matrice\n",
    "Les tableaux multidimensionnels de NumPy sont une structure de données très riche. Par exemple, une image en noir et blanc peut être représentée par un tableau à deux dimensions, dont chaque élément représente un pixel de l'image. Une image en couleurs peut, quant à elle, être représentée par un tableau à trois dimensions, superposant trois canaux (rouge, vert et bleu), comme illustré par la [figure](#img:numpy-image).\n",
    "\n",
    "<!-- dom:FIGURE: [images/numpy-image.png, width=700 frac=1] Les tableaux multidimensionnels de NumPy peuvent être utilisés pour représenter des images en noir et blanc (avec deux dimensions) ou des images en couleurs (avec trois dimensions). <div id=\"img:numpy-image\"></div> -->\n",
    "<!-- begin figure -->\n",
    "<div id=\"img:numpy-image\"></div>\n",
    "\n",
    "<p>Les tableaux multidimensionnels de NumPy peuvent être utilisés pour représenter des images en noir et blanc (avec deux dimensions) ou des images en couleurs (avec trois dimensions).</p>\n",
    "<img src=\"images/numpy-image.png\" width=700>\n",
    "\n",
    "<!-- end figure -->\n",
    "\n",
    "\n",
    "En pratique, et notamment en algèbre linéaire, on se retrouve à devoir manipuler des matrices. On pourrait se contenter d'utiliser des tableaux à deux dimensions pour représenter et manipuler des matrices.\n",
    "\n",
    "## Création de matrice\n",
    "Une matrice se représente en NumPy à l'aide d'un objet `matrix`. Il s'agit en fait d'une sous-classe de ndarray, c'est-à-dire que tout ce que l'on a vu au chapitre précédent s'applique également aux objets `matrix`. La manière la plus immédiate de créer une matrice consiste à utiliser la fonction `matrix`, comme dans l'exemple suivant :"
   ]
  },
  {
   "cell_type": "code",
   "execution_count": null,
   "metadata": {},
   "outputs": [],
   "source": [
    "mat = np.matrix([[1, 2, 3], [4, 5, 6]])\n",
    "print(mat)"
   ]
  },
  {
   "cell_type": "code",
   "execution_count": null,
   "metadata": {},
   "outputs": [],
   "source": [
    "print(mat.shape)"
   ]
  },
  {
   "cell_type": "code",
   "execution_count": null,
   "metadata": {},
   "outputs": [],
   "source": [
    "print(type(mat))"
   ]
  },
  {
   "cell_type": "markdown",
   "metadata": {},
   "source": [
    "Une autre façon de créer une matrice consiste à transformer un tableau multidimensionnel à l'aide de la fonction mat. Voici deux exemples qui utilisent cette fonction :"
   ]
  },
  {
   "cell_type": "code",
   "execution_count": null,
   "metadata": {},
   "outputs": [],
   "source": [
    "a = np.arange(4)\n",
    "print(a)\n",
    "b = a.copy().reshape(2, 2)\n",
    "print(np.mat(a))"
   ]
  },
  {
   "cell_type": "code",
   "execution_count": null,
   "metadata": {},
   "outputs": [],
   "source": [
    "print(np.mat(b))"
   ]
  },
  {
   "cell_type": "markdown",
   "metadata": {},
   "source": [
    "* Dans le premier cas, la fonction mat a transformé un tableau unidimensionnel en un vecteur, c'est-à-dire une matrice-ligne.\n",
    "\n",
    "* Dans le deuxième cas, elle transforme simplement un tableau à deux dimensions en une matrice.\n",
    "\n",
    "Il existe une autre façon de créer une matrice, pas disponible pour les tableaux multidimensionnels de manière générale. Il s'agit de décrire les éléments de la matrice par une chaîne de caractères où les éléments d'une même ligne de la matrice sont séparés par des virgules, et où les lignes sont séparées par un point-virgule. On peut, par exemple, écrire l'instruction suivante :"
   ]
  },
  {
   "cell_type": "code",
   "execution_count": null,
   "metadata": {},
   "outputs": [],
   "source": [
    "print(np.matrix('1,2;3,4;5,6'))"
   ]
  },
  {
   "cell_type": "markdown",
   "metadata": {},
   "source": [
    "Enfin, vous pouvez passer des listes de listes Python pour créer un tableau 2-D (ou \"matrice\") afin de les représenter dans NumPy."
   ]
  },
  {
   "cell_type": "code",
   "execution_count": null,
   "metadata": {},
   "outputs": [],
   "source": [
    "data = np.array([[1, 2], [3, 4], [5, 6]])\n",
    "data"
   ]
  },
  {
   "cell_type": "markdown",
   "metadata": {},
   "source": [
    "<!-- dom:FIGURE: [images/np_create_matrix.png, width=700 frac=1.2] -->\n",
    "<!-- begin figure -->\n",
    "\n",
    "<p></p>\n",
    "<img src=\"images/np_create_matrix.png\" width=700>\n",
    "\n",
    "<!-- end figure -->\n",
    "\n",
    "\n",
    "Les opérations d'indexation et de découpage sont utiles lorsque vous manipulez des matrices :"
   ]
  },
  {
   "cell_type": "code",
   "execution_count": null,
   "metadata": {},
   "outputs": [],
   "source": [
    "data[0, 1]"
   ]
  },
  {
   "cell_type": "code",
   "execution_count": null,
   "metadata": {},
   "outputs": [],
   "source": [
    "data[1:3]"
   ]
  },
  {
   "cell_type": "code",
   "execution_count": null,
   "metadata": {},
   "outputs": [],
   "source": [
    "data[0:2,0]"
   ]
  },
  {
   "cell_type": "code",
   "execution_count": null,
   "metadata": {},
   "outputs": [],
   "source": [
    "data[2,1]"
   ]
  },
  {
   "cell_type": "code",
   "execution_count": null,
   "metadata": {},
   "outputs": [],
   "source": [
    "data[:,:]"
   ]
  },
  {
   "cell_type": "markdown",
   "metadata": {},
   "source": [
    "<!-- dom:FIGURE: [images/np_matrix_indexing.png, width=700 frac=1.2] -->\n",
    "<!-- begin figure -->\n",
    "\n",
    "<p></p>\n",
    "<img src=\"images/np_matrix_indexing.png\" width=700>\n",
    "\n",
    "<!-- end figure -->\n",
    "\n",
    "\n",
    "## Transposer et remodeler une matrice\n",
    "Il est courant d'avoir besoin de transposer vos matrices. Les tableaux NumPy possèdent la propriété `T` qui vous permet de transposer une matrice.\n",
    "\n",
    "<!-- dom:FIGURE: [images/np_transposing_reshaping.png, width=700 frac=1.2] -->\n",
    "<!-- begin figure -->\n",
    "\n",
    "<p></p>\n",
    "<img src=\"images/np_transposing_reshaping.png\" width=700>\n",
    "\n",
    "<!-- end figure -->\n",
    "\n",
    "\n",
    "Vous pouvez également avoir besoin de changer les dimensions d'une matrice. Cela peut se produire lorsque, par exemple, vous avez un modèle qui attend une certaine forme d'entrée qui est différente de votre ensemble de données. C'est là que la méthode `reshape` peut être utile. Il vous suffit de transmettre les nouvelles dimensions que vous souhaitez pour la matrice."
   ]
  },
  {
   "cell_type": "code",
   "execution_count": null,
   "metadata": {},
   "outputs": [],
   "source": [
    "data.reshape(2, 3)"
   ]
  },
  {
   "cell_type": "code",
   "execution_count": null,
   "metadata": {},
   "outputs": [],
   "source": [
    "data.reshape(3, 2)"
   ]
  },
  {
   "cell_type": "markdown",
   "metadata": {},
   "source": [
    "<!-- dom:FIGURE: [images/np_reshape.png, width=700 frac=1.2] -->\n",
    "<!-- begin figure -->\n",
    "\n",
    "<p></p>\n",
    "<img src=\"images/np_reshape.png\" width=700>\n",
    "\n",
    "<!-- end figure -->\n",
    "\n",
    "\n",
    "Vous pouvez également utiliser `.transpose()` pour inverser ou modifier les axes d'un tableau en fonction des valeurs que vous spécifiez.\n",
    "\n",
    "Si vous commencez avec ce tableau :"
   ]
  },
  {
   "cell_type": "code",
   "execution_count": null,
   "metadata": {},
   "outputs": [],
   "source": [
    "arr = np.arange(6).reshape((2, 3))\n",
    "arr"
   ]
  },
  {
   "cell_type": "markdown",
   "metadata": {},
   "source": [
    "Vous pouvez transposer votre tableau avec `arr.transpose()`."
   ]
  },
  {
   "cell_type": "code",
   "execution_count": null,
   "metadata": {},
   "outputs": [],
   "source": [
    "arr.transpose()"
   ]
  },
  {
   "cell_type": "markdown",
   "metadata": {},
   "source": [
    "Vous pouvez également utiliser `arr.T` :"
   ]
  },
  {
   "cell_type": "code",
   "execution_count": null,
   "metadata": {},
   "outputs": [],
   "source": [
    "arr.T"
   ]
  },
  {
   "cell_type": "markdown",
   "metadata": {},
   "source": [
    "# Calcul vectoriel\n",
    "Dans la section précédente, on a vu comment créer des matrices et donc indirectement des vecteurs qui sont en fait simplement des matrices avec une ligne ou une colonne. Dans cette section, on va se concentrer sur les calculs qu'il est possible de réaliser sur base de vecteurs.\n",
    "\n",
    "Un vecteur est donc une matrice-ligne ou une matrice-colonne. Les premières pouvant être tout simplement représentées par des tableaux à une dimension, on les préfère souvent. L'exemple suivant crée deux vecteurs $u$ et $v$ représentant deux points dans l'espace :"
   ]
  },
  {
   "cell_type": "code",
   "execution_count": null,
   "metadata": {},
   "outputs": [],
   "source": [
    "u = np.array([1, 2, 3])\n",
    "v = np.array([4, 5, 6])\n",
    "print(u)"
   ]
  },
  {
   "cell_type": "code",
   "execution_count": null,
   "metadata": {},
   "outputs": [],
   "source": [
    "print(v)"
   ]
  },
  {
   "cell_type": "markdown",
   "metadata": {},
   "source": [
    "Les deux vecteurs créés sont en fait des tableaux de formes (3,). Notez bien la différence avec une véritable matrice-ligne qui aurait une forme de (1,3), c'est-à-dire une matrice avec une ligne de trois éléments.\n",
    "\n",
    "## Opération de base\n",
    "On peut facilement calculer la **somme** et la **différence** de deux vecteurs, et la **multiplication par un scalaire**, à l'aide des opérateurs arithmétiques habituels que l'on a vu précédemment avec les `ndarray`. Voici un exemple de calcul vectoriel qui combine ces opérations :"
   ]
  },
  {
   "cell_type": "code",
   "execution_count": null,
   "metadata": {},
   "outputs": [],
   "source": [
    "print(2 * u + v)"
   ]
  },
  {
   "cell_type": "markdown",
   "metadata": {},
   "source": [
    "Cette instruction calcule le nouveau vecteur $2u+v$, en multipliant donc d'abord le vecteur $u$ par deux pour ensuite additionner le résultat obtenu avec le vecteur $v$.\n",
    "\n",
    "## Norme\n",
    "Une autre information de base souvent utilisée en calcul vectoriel consiste à calculer la **norme d'un vecteur**. Il existe plusieurs définitions possibles de norme d'un vecteur. La plus classique est la **norme euclidienne** qui, étant donné un vecteur $\\overrightarrow{u} = (u_1, ..., u_k)$, se calcule comme suit :\n",
    "$$\\left\\| \\overrightarrow{u} \\right\\| = \\sqrt{u_1^2 + ... + u_k^2}.$$\n",
    "On pourrait la calculer soi-même, mais il faut avant tout comprendre comment fonctionne le produit de vecteurs qui est expliqué un peu plus loin dans cette section sur le calcul vectoriel. Une autre solution consiste à utiliser la fonction `norm` du module `numpy.linalg`. Celle-ci permet de calculer plusieurs normes différentes et voici comment l'utiliser pour trouver la norme euclidienne d'un vecteur :"
   ]
  },
  {
   "cell_type": "code",
   "execution_count": null,
   "metadata": {},
   "outputs": [],
   "source": [
    "print(np.linalg.norm(u))"
   ]
  },
  {
   "cell_type": "markdown",
   "metadata": {},
   "source": [
    "Utilisée avec les valeurs par défaut de ses paramètres, la fonction `norm` calcule donc bien la norme euclidienne, puisque le résultat affiché après exécution est de $\\sqrt{1 + 4 + 9} = \\sqrt{14} = 3,\\!74...$\n",
    "\n",
    "## Produit\n",
    "Calculer le produit de deux vecteurs peut se faire de différentes manière puisqu'il y a différents produits qui sont définis sur les vecteurs.\n",
    "### Produit scalaire\n",
    "\n",
    "Une première possibilité est le produit scalaire qui multiplie deux vecteurs de même longueur pour produire un scalaire comme résultat. Pour rappel, étant donné les vecteurs $\\overrightarrow{u} = (u_1, ..., u_k)$ et $\\overrightarrow{v} = (v_1, ..., v_k)$, leur produit scalaire est défini par :\n",
    "$$\\overrightarrow{u} \\cdot \\overrightarrow{v} = \\sum_{i = 0}^k u_i v_i = u_1 v_1 + ... + u_k v_k$$\n",
    "Le produit scalaire de deux vecteurs, appelé \"*dot product*\" en anglais, se calcule avec la fonction `vdot`. Voici comment calculer le produit scalaire des deux vecteurs $u$ et $v$ définis précédemment :"
   ]
  },
  {
   "cell_type": "code",
   "execution_count": null,
   "metadata": {},
   "outputs": [],
   "source": [
    "print(np.vdot(u, v))"
   ]
  },
  {
   "cell_type": "markdown",
   "metadata": {},
   "source": [
    "Le résultat produit par l'exécution affiche bien le produit scalaire des deux vecteurs, à savoir $\\overrightarrow{u} \\cdot \\overrightarrow{v} = 1 \\cdot 4 + 2 \\cdot 5 + 3 \\cdot 6 = 4 + 10 + 18 = 32$.\n",
    "\n",
    "### Produit vectoriel\n",
    "\n",
    "On peut également calculer le produit vectoriel de deux vecteurs. Pour rappel, ce dernier n'est applicable qu'aux vecteurs de longueur 3 et calcule un vecteur de longueur 3 comme résultat. Le produit vectoriel des deux vecteurs $\\overrightarrow{u} = (u_1, ..., u_k)$ et $\\overrightarrow{v} = (v_1, ..., v_k)$ vaut :\n",
    "$$\\overrightarrow{u} \\times \\overrightarrow{v} = (u_2v_3 - u_3v_2, u_3v_1 - u_1v_3, u_1v_2 - u_2v_1)$$\n",
    "Avec NumPy, pas besoin de retenir cette formule, il suffit d'utiliser la fonction `cross`, comme dans l'exemple suivant :"
   ]
  },
  {
   "cell_type": "code",
   "execution_count": null,
   "metadata": {},
   "outputs": [],
   "source": [
    "print(np.cross(u, v))"
   ]
  },
  {
   "cell_type": "markdown",
   "metadata": {},
   "source": [
    "Le résultat obtenu après exécution est bien un vecteur de longueur 3 et les valeurs de ses éléments correspondent bien à la formule du produit vectoriel, rappelée plus haut.\n",
    "\n",
    "### Produit par élément\n",
    "\n",
    "Un autre type de produit, que l'on peut réaliser, consiste à multiplier les éléments des vecteurs entre eux. Cette opération, similaire au produit de Hadamard pour les matrices, multiplie deux vecteurs de mêmes longueurs et produit comme résultat un vecteur de même longueur dont chaque élément est le produit des éléments situés à la même position dans les deux vecteurs multipliés. Le produit par élément des deux vecteurs $\\overrightarrow{u} = (u_1, ..., u_k)$ et $\\overrightarrow{v} = (v_1, ..., v_k)$ vaut :\n",
    "$$\\overrightarrow{u} \\circ \\overrightarrow{v} = (u_1v_1, ..., u_kv_k)$$\n",
    "Pour calculer ce produit, il suffit d'utiliser l'opérateur `*` sur deux vecteurs qui ont la même longueur, comme par exemple :"
   ]
  },
  {
   "cell_type": "code",
   "execution_count": null,
   "metadata": {},
   "outputs": [],
   "source": [
    "print(u * v)"
   ]
  },
  {
   "cell_type": "markdown",
   "metadata": {},
   "source": [
    "Grâce à ce produit, on peut maintenant comprendre comment la norme euclidienne d'un vecteur peut être calculée autrement qu'avec la fonction norm. Il suffit en fait de faire la racine carrée de la somme des éléments du vecteur obtenu en multipliant par lui-même celui dont on cherche la norme. Ainsi, l'instruction `print(np.linalg.norm(u))` est équivalente à :"
   ]
  },
  {
   "cell_type": "markdown",
   "metadata": {},
   "source": [
    "Évidemment, c'est plus efficace et lisible d'utiliser la fonction `norm` plutôt que de faire le calcul explicitement.\n",
    "\n",
    "# Calcul matriciel\n",
    "Maintenant que l'on maîtrise les vecteurs et les calculs qu'il est possible de faire avec ces derniers, on va s'intéresser aux opérations sur les matrices. Pour rappel, voici un exemple de code qui crée trois matrices :"
   ]
  },
  {
   "cell_type": "code",
   "execution_count": null,
   "metadata": {},
   "outputs": [],
   "source": [
    "u = np.array([1, 2, 3])\n",
    "A = np.matrix('1 2 3;4 5 6')\n",
    "B = np.identity(2)\n",
    "C = np.diag(u)"
   ]
  },
  {
   "cell_type": "markdown",
   "metadata": {},
   "source": [
    "La première matrice est créée directement en spécifiant ses valeurs, la deuxième est une matrice identité d'ordre 2 et enfin la troisième est une matrice diagonale dont les éléments sont ceux du vecteur $\\overrightarrow{u}$  :\n",
    "$$A = \\left( \\begin{array}{ccc}1&2&3 \\\\4&5&6 \\end{array} \\right), \\quad B = \\left( \\begin{array}{cc}1&0 \\\\0&1 \\end{array} \\right), \\quad C = \\left( \\begin{array}{ccc}1&0&0 \\\\ 0&2&0 \\\\ 0&0&3 \\end{array} \\right).$$\n",
    "Les matrices $B$ et $C$ sont des matrices carrées, c'est-à-dire qu'elles ont le même nombre de lignes que de colonnes, et la matrice $A$ est une matrice rectangulaire. L'exécution du code produit exactement ces trois matrices, sans surprise :"
   ]
  },
  {
   "cell_type": "markdown",
   "metadata": {},
   "source": [
    "        [[1 2 3]\n",
    "         [4 5 6]]\n",
    "        \n",
    "        [[1. 0.]\n",
    "         [0. 1.]]\n",
    "        \n",
    "        [[1 0 0]\n",
    "         [0 2 0]\n",
    "         [0 0 3]]\n"
   ]
  },
  {
   "cell_type": "markdown",
   "metadata": {},
   "source": [
    "## Propriété\n",
    "Une fois un objet `matrix` créé, on peut obtenir la valeur de propriétés spécifiques aux matrices, en plus de toutes les propriétés des ndarray, évidemment. Certaines propriétés sont directement accessibles par un attribut et d'autres sont obtenues en appelant une fonction. Enfin, pour certaines autres propriétés, comme tester si une matrice est carrée ou non, il faudra effectuer un calcul.\n",
    "\n",
    "### Dimension\n",
    "\n",
    "La première information intéressante que l'on peut obtenir à propos d'une matrice est sa dimension, également appelée taille. On l'obtient simplement avec l'attribut `shape`. On l'utilise également pour tester si une matrice est carrée, en comparant les deux valeurs de sa forme, comme dans l'exemple ci-dessous :"
   ]
  },
  {
   "cell_type": "code",
   "execution_count": null,
   "metadata": {},
   "outputs": [],
   "source": [
    "dim = A.shape\n",
    "print(dim)"
   ]
  },
  {
   "cell_type": "code",
   "execution_count": null,
   "metadata": {},
   "outputs": [],
   "source": [
    "print(dim[0] == dim[1])"
   ]
  },
  {
   "cell_type": "markdown",
   "metadata": {},
   "source": [
    "### Diagonale principale\n",
    "\n",
    "Une deuxième propriété d'une matrice est sa diagonale principale, c'est-à-dire les éléments $(a)_{ij}$ tels que $i=j$\n",
    "\n",
    "ou, dis autrement, ceux situés à l'intersection d'un même numéro de ligne et de colonne. On obtient cette diagonale principale avec la fonction `diag`. L'exemple suivant extrait deux diagonales d'une matrice :"
   ]
  },
  {
   "cell_type": "code",
   "execution_count": null,
   "metadata": {},
   "outputs": [],
   "source": [
    "print(np.diag(A))"
   ]
  },
  {
   "cell_type": "code",
   "execution_count": null,
   "metadata": {},
   "outputs": [],
   "source": [
    "print(np.diag(A, k=1))"
   ]
  },
  {
   "cell_type": "markdown",
   "metadata": {},
   "source": [
    "La première instruction extrait la diagonale principale et la seconde extrait celle se trouvant une position plus haut, grâce au paramètre optionnel k.\n",
    "\n",
    "### Trace\n",
    "\n",
    "La trace d'une matrice carrée est la somme des éléments de sa diagonale principale. On peut l'obtenir avec la fonction `trace`. L'exemple suivant calcule la trace d'une matrice identité d'ordre 2 :"
   ]
  },
  {
   "cell_type": "code",
   "execution_count": null,
   "metadata": {},
   "outputs": [],
   "source": [
    "print(np.trace(B))"
   ]
  },
  {
   "cell_type": "markdown",
   "metadata": {},
   "source": [
    "Une matrice identité n'ayant que des 1 sur sa diagonale principale et la matrice B étant d'ordre 2, sa trace vaut 2. Comme les éléments de la matrice sont des données de type float, le résultat de l'exécution est aussi un nombre flottant.\n",
    "\n",
    "\n",
    "### Rang\n",
    "\n",
    "Le rang d'une matrice est une autre information intéressante qui s'obtient avec la fonction `matrix_rank` du module `numpy.linalg`. Il représente notamment le nombre de lignes linéairement indépendantes d'une matrice quelconque. L'exemple suivant calcule le rang de deux matrices :"
   ]
  },
  {
   "cell_type": "code",
   "execution_count": null,
   "metadata": {},
   "outputs": [],
   "source": [
    "D = np.matrix('1 2 3;2 4 6;3 6 9')\n",
    "print(np.linalg.matrix_rank(A))"
   ]
  },
  {
   "cell_type": "code",
   "execution_count": null,
   "metadata": {},
   "outputs": [],
   "source": [
    "print(np.linalg.matrix_rank(D))"
   ]
  },
  {
   "cell_type": "markdown",
   "metadata": {},
   "source": [
    "Le rang de la matrice A vaut 2, car ses deux lignes ne sont pas liées entre elles. Par contre, celui de la matrice D vaut 1, même si elle a trois lignes, car peu importe la ligne que l'on sélectionne, on peut obtenir les deux autres à partir de celle choisie:\n",
    "* Si on sélectionne la première ligne $L_1=(1,2,3)$, on se rend directement compte que l'on a$L_2=2L_1$ et $L_3=3L_1$.\n",
    "\n",
    "* Une seule ligne suffit donc à caractériser la matrice d'où son rang de 1.\n",
    "\n",
    "### Déterminant\n",
    "\n",
    "Une autre propriété, uniquement définie sur les matrices carrées cette fois-ci, peut également être obtenue à partir d'une fonction du module `numpy.linalg`. Il s'agit du déterminant, puissant outil intervenant notamment dans la résolution de systèmes d'équations linéaires. On l'obtient avec la fonction `det`, illustrée dans l'exemple suivant :"
   ]
  },
  {
   "cell_type": "code",
   "execution_count": null,
   "metadata": {},
   "outputs": [],
   "source": [
    "D = np.matrix('1 2 3;2 4 6;3 6 9')\n",
    "print(np.linalg.det(C))"
   ]
  },
  {
   "cell_type": "code",
   "execution_count": null,
   "metadata": {},
   "outputs": [],
   "source": [
    "print(np.linalg.det(D))"
   ]
  },
  {
   "cell_type": "markdown",
   "metadata": {},
   "source": [
    "La matrice C étant diagonale, son déterminant est simplement égal à la somme des éléments de sa diagonale, c'est-à-dire sa trace. Le déterminant de la matrice D est, quant à lui, nul, car ses lignes sont liées entre elles, comme on l'a vu précédemment lorsque l'on a calculé son rang qui est strictement inférieur à son ordre.\n",
    "\n",
    "## Opération de base\n",
    "Tout comme pour les vecteurs, on peut facilement faire la **somme** et la **différence** de deux matrices de mêmes dimensions, et la **multiplication par un scalaire**, à l'aide des opérateurs arithmétiques habituels vus avec les `ndarray`. Voici un exemple de calcul matriciel qui combine ces différentes opérations :"
   ]
  },
  {
   "cell_type": "code",
   "execution_count": null,
   "metadata": {},
   "outputs": [],
   "source": [
    "print(2 * A[:,:2] + B)"
   ]
  },
  {
   "cell_type": "markdown",
   "metadata": {},
   "source": [
    "On commence par multiplier par deux la sous-matrice de A qui ne prend que ses deux premières colonnes, de sorte à avoir une matrice carrée d'ordre 2. On ajoute ensuite la matrice B au résultat du calcul précédent. Le calcul réalisé est donc le suivant :\n",
    "$$2 \\left( \\begin{array}{cc}1&2 \\\\ 4&5 \\end{array} \\right) + \\left( \\begin{array}{cc} 1&0 \\\\ 0&1 \\end{array} \\right) = \\left( \\begin{array}{cc} 3&4 \\\\ 8&11 \\end{array} \\right).$$\n",
    "Comme la matrice B, créée avec la fonction identity, est de type float par défaut, le résultat final sera également de ce type, comme le confirme le résultat de l'exécution, qui donne d'ailleurs bien la réponse attendue.\n",
    "\n",
    "## Produit\n",
    "Tout comme pour les vecteurs, différentes possibilités existent pour le produit de matrices. Ces différentes opérations sont évidemment supportées par NumPy.\n",
    "\n",
    "### Produit matriciel\n",
    "\n",
    "Étant donné deux matrices compatibles, c'est-à-dire que le nombre de colonnes de la première est égal au nombre de lignes de la seconde, on peut effectuer un produit matriciel entre ces deux matrices.\n",
    "\n",
    "Pour rappel, le résultat du produit matriciel est une matrice dont chaque élément en position $(i,j)$ correspond au produit scalaire de la $i^e$ ligne de la première matrice avec la $j^e$ colonne de la seconde. Soient les deux matrices A et B suivantes, respectivement de dimensions $m \\times n$ et $n \\times p$, et donc compatibles :\n",
    "$$A = \\left( \\begin{array}{ccc} a_{11} & \\dots &a_{1n} \\\\ \\vdots & \\ddots & \\vdots \\\\ a_{m1}& \\dots &a_{mn} \\end{array} \\right), \\qquad B = \\left( \\begin{array}{ccc} b_{11} & \\dots &b_{1p} \\\\ \\vdots & \\ddots & \\vdots \\\\ b_{n1} & \\dots &b_{np} \\end{array} \\right),$$\n",
    "leur produit $AB$ est une matrice $C$ de dimensions $m \\times p$ dont la valeur des éléments est donnée par :\n",
    "$$c_{ij} = a_{i\\bullet} \\cdot b_{\\bullet j} = \\left( \\begin{array}{ccc} a_{i1} & \\dots &a_{in} \\end{array} \\right) \\left( \\begin{array}{c} b_{1j} \\\\ \\vdots \\\\ b_{nj} \\end{array} \\right) = \\sum_{k = 0}^n a_{ik} b_{kj}.$$\n",
    "En NumPy, le produit matriciel s'obtient avec l'opérateur `*`. On peut donc, par exemple, écrire les instructions suivantes pour multiplier entre elles deux matrices compatibles :"
   ]
  },
  {
   "cell_type": "code",
   "execution_count": null,
   "metadata": {},
   "outputs": [],
   "source": [
    "print(D * C[:,:2])"
   ]
  },
  {
   "cell_type": "code",
   "execution_count": null,
   "metadata": {},
   "outputs": [],
   "source": [
    "U = np.mat(u)\n",
    "print(U * D)"
   ]
  },
  {
   "cell_type": "markdown",
   "metadata": {},
   "source": [
    "La première instruction multiplie une matrice $3\\times3$ par une $3\\times2$ pour produire une matrice $3\\times2$ comme résultat, tandis que la seconde multiplication se fait entre une matrice $1\\times3$ et une $3\\times3$ pour produire une matrice $1\\times3$ comme résultat :\n",
    "$$\\left( \\begin{array}{ccc} 1 &2 &3 \\\\ 2 &4 &6 \\\\ 3 &6 &9 \\end{array} \\right) \\left( \\begin{array}{cc} 1 &0 \\\\ 0 &2 \\\\ 0 &0 \\end{array} \\right) = \\left( \\begin{array}{cc} 1 &4 \\\\ 2 &8 \\\\ 3 &12 \\end{array} \\right)$$\n",
    "\n",
    "$$\\left( \\begin{array}{ccc} 1 &2 &3 \\end{array} \\right) \\left( \\begin{array}{ccc} 1 &2 &3 \\\\ 2 &4 &6 \\\\ 3 &6 &9 \\end{array} \\right) = \\left( \\begin{array}{ccc} 14 &28 &42 \\end{array} \\right)$$\n",
    "\n",
    "### Produit par élément\n",
    "\n",
    "Un autre type de produit que l'on peut vouloir faire entre deux matrices de mêmes dimensions est le produit par élément, comme celui que l'on a déjà vu plus haut pour les vecteurs.\n",
    "\n",
    "Ce produit est en fait celui qui se fait entre deux tableaux multidimensionnels avec l'opérateur `*`, en profitant éventuellement de l'opérateur de *broadcasting*. Néanmoins, lorsque l'on utilise cet opérateur entre deux `matrix`, on n'obtient pas un produit par élément, même si cette dernière est une sous-classe de `ndarray`.\n",
    "\n",
    "Pour comprendre les différences entre ce qui se passe avec l'opérateur `*` entre deux `ndarray` ou entre deux `matrix`, examinons l'exemple suivant :"
   ]
  },
  {
   "cell_type": "code",
   "execution_count": null,
   "metadata": {},
   "outputs": [],
   "source": [
    "data = np.array([[1, 2], [3, 4]])\n",
    "E = np.mat(data)\n",
    "print(type(E))\n",
    "print(type(data))\n",
    "print(data * data)"
   ]
  },
  {
   "cell_type": "code",
   "execution_count": null,
   "metadata": {},
   "outputs": [],
   "source": [
    "print(E * E)"
   ]
  },
  {
   "cell_type": "markdown",
   "metadata": {},
   "source": [
    "Pour être sûrs de ce que l'on calcule, on peut utiliser des fonctions de NumPy. La fonction `matmul` permet de calculer un **produit matriciel** entre deux `ndarray`, tandis que la fonction `multiply` fait un **produit par élément** entre deux matrices. Pour compléter l'exemple précédent, et calculer les deux produits manquants, on peut donc écrire :"
   ]
  },
  {
   "cell_type": "code",
   "execution_count": null,
   "metadata": {},
   "outputs": [],
   "source": [
    " print(np.matmul(data, data))"
   ]
  },
  {
   "cell_type": "code",
   "execution_count": null,
   "metadata": {},
   "outputs": [],
   "source": [
    " print(np.multiply(E, E))"
   ]
  },
  {
   "cell_type": "markdown",
   "metadata": {},
   "source": [
    "Pour éviter de rendre le code illisible, avec des appels à la fonction `matmul`, NumPy propose l'opérateur `@` comme raccourci de cette fonction. On aurait donc pu écrire l'instruction suivante :"
   ]
  },
  {
   "cell_type": "code",
   "execution_count": null,
   "metadata": {},
   "outputs": [],
   "source": [
    " print(data @ data)"
   ]
  },
  {
   "cell_type": "markdown",
   "metadata": {},
   "source": [
    "### Exponentiation\n",
    "\n",
    "Enfin, une dernière opération qui intervient dans de nombreux calculs en algèbre linéaire est la **puissance matricielle**, c'est-à-dire la multiplication d'une matrice par elle-même, un certain nombre de fois. On peut réaliser cette opération avec l'opérateur `**`, le même qu'avec Python. Voici, par exemple, comment élever une matrice au carré :"
   ]
  },
  {
   "cell_type": "code",
   "execution_count": null,
   "metadata": {},
   "outputs": [],
   "source": [
    " print(E ** 2)"
   ]
  },
  {
   "cell_type": "markdown",
   "metadata": {},
   "source": [
    "Puisque les dimensions doivent être compatibles pour pouvoir réaliser une multiplication matricielle, on en déduit que la puissance matricielle est une opération limitée aux matrices carrées. Pour calculer une telle puissance, on peut également passer par la fonction `matrix_power` du module `numpy.linalg`. Cette dernière prend en paramètres une matrice et la puissance à laquelle il faut l'élever. L'exemple précédent aurait donc aussi pu s'écrire comme suit :"
   ]
  },
  {
   "cell_type": "markdown",
   "metadata": {},
   "source": [
    "Si E avait été un `ndarray`, l'opérateur `**` aurait fait plusieurs produits par élément successifs, et donc pas une puissance matricielle. Par contre, utiliser la fonction `matrix_power` garanti que l'opération réalisée est bien une puissance matricielle, même avec des `ndarray`. En cas de doutes, mieux vaut donc utiliser cette fonction à la place de l'opérateur `**`.\n",
    "\n",
    "### Inverse\n",
    "\n",
    "Une autre opération très importante en algèbre linéaire, notamment pour résoudre des systèmes d'équations linéaires, consiste à calculer l'inverse d'une matrice carrée. Si la matrice est inversible, alors on obtient son inverse avec l'attribut `I`. Repartons de la matrice $E$ de dimensions $2\\times2$, vue un peu plus haut :\n",
    "$$E = \\left( \\begin{array}{cc} 1 &2 \\\\ 3 &4 \\end{array} \\right).$$\n",
    "Pour rappel, l'inverse d'une matrice $E$, notée $E^{-1}$, est la matrice par laquelle il faut multiplier $E$ pour obtenir la matrice identité comme résultat, autrement dit, c'est la matrice $E^{-1}$ telle que $EE^{-1} = I$. Pour notre exemple, on peut écrire l'égalité suivante :\n",
    "$$EE^{-1} = \\left( \\begin{array}{cc} 1 &2 \\\\ 3 &4 \\end{array} \\right) \\left( \\begin{array}{cc} -2 &1 \\\\ 3/2 &-1/2 \\end{array} \\right) = \\left( \\begin{array}{cc} 1 &0 \\\\ 0 &1 \\end{array} \\right) = I.$$\n",
    "\n",
    "Vérifions maintenant cette propriété en utilisant l'attribut I pour trouver l'inverse de la matrice $E$, puis en calculant le produit matriciel de $E$ avec son inverse obtenu avec `E.I` :"
   ]
  },
  {
   "cell_type": "code",
   "execution_count": null,
   "metadata": {},
   "outputs": [],
   "source": [
    " print(E.I)"
   ]
  },
  {
   "cell_type": "code",
   "execution_count": null,
   "metadata": {},
   "outputs": [],
   "source": [
    "print(np.linalg.inv(data))"
   ]
  },
  {
   "cell_type": "code",
   "execution_count": null,
   "metadata": {},
   "outputs": [],
   "source": [
    " print(E * E.I)"
   ]
  },
  {
   "cell_type": "markdown",
   "metadata": {},
   "source": [
    "On a presqu'une matrice identité puisque l'élément situé à la première colonne de la deuxième ligne ne vaut pas exactement zéro, mais il est par contre très petit ($8,88⋅10^{-16}$). Le problème vient du calcul en nombres flottants qui n'est, par nature, pas précis.\n",
    "\n",
    "Pour s'en sortir lorsque l'on fait des calculs en nombres flottants, il ne faut jamais comparer deux valeurs avec l'opérateur d'égalité. Une solution pour comparer deux matrices de float consiste à utiliser la fonction `allclose` qui permet de faire une égalité approximative :"
   ]
  },
  {
   "cell_type": "code",
   "execution_count": null,
   "metadata": {},
   "outputs": [],
   "source": [
    " print(np.allclose(E * E.I, np.identity(2)))"
   ]
  },
  {
   "cell_type": "markdown",
   "metadata": {},
   "source": [
    "La fonction `allclose` teste si les éléments aux mêmes positions de deux matrices sont proches, c'est-à-dire qu'ils seraient égaux si l'on n'avait pas les imprécisions dues au calcul en nombres flottants. Cette fois-ci, la propriété que l'on voulait vérifier est bien satisfaite, `E * E.I` donne bien une matrice identité.\n",
    "\n",
    "La matrice inverse peut se calculer de deux autres manières. La première consiste à utiliser la fonction d'exponentiation `matrix_power` pour élever la matrice à la puissance $-1$. On peut aussi utiliser la fonction `inv` du module `numpy.linalg`. Les deux instructions suivantes sont donc équivalentes et calculent l'inverse de E :"
   ]
  },
  {
   "cell_type": "markdown",
   "metadata": {},
   "source": [
    "# Algèbre linéaire\n",
    "On va aborder la résolution de systèmes d'équations linéaires, l'utilisation de valeurs et vecteurs propres et la décomposition de matrices.\n",
    "\n",
    "## Systèmes d'équations linéaires\n",
    "Le premier type de problème qui nous intéresse est la résolution d'un système d'équations linéaires. Pour rappel, il s'agit d'un système de $m$ équations qui portent sur les mêmes $n$ inconnues. On peut écrire un tel système, de manière générale, comme suit :\n",
    "$$\\left\\{ \\begin{array}{*{7}{c}}\n",
    "\t\ta_{11} x_1 & + & \\dots & + & a_{1n} x_n & = & b_1 \\\\\n",
    "\t\t\\vdots & & \\ddots & & \\vdots & = & \\vdots \\\\\n",
    "\t\ta_{m1} x_1 & + & \\dots & + & a_{mn} x_n & = & b_m \\\\\n",
    "\t\\end{array} \\right.$$\n",
    "\n",
    "Il y a en tout $m \\times n$ coefficients ($a_{ij}$), $n$ variables ($x_j$) et $m$ termes indépendants ($b_i$). Ce système d'équations linéaires peut s'écrire de manière plus compacte, par l'équation matricielle $Ax=b$, avec les définitions de matrices suivantes :\n",
    "$$A = \\left( \\begin{array}{ccc} a_{11} & \\dots &a_{1n} \\\\ \\vdots &\\ddots &\\vdots \\\\ a_{m1} &\\dots &a_{mn} \\end{array} \\right), \\quad x = \\left( \\begin{array}{c} x_1 \\\\ \\vdots \\\\ x_n \\end{array} \\right), \\quad b = \\left( \\begin{array}{c} b_1 \\\\ \\vdots \\\\ b_n \\end{array} \\right).$$\n",
    "\n",
    "### Résolution exacte\n",
    "\n",
    "Résoudre un système d'équations linéaires revient à trouver les valeurs des $n$ variables $x_j$, telles que les $m$ équations soient satisfaites. En multipliant les deux membres de l'équation matricielle par $A^{-1}$, à gauche, on déduit que la solution est simplement $x=A^{-1}b$. C'est donc assez facile de résoudre un système d'équations linéaires avec NumPy, à partir d'une description de ce dernier par les matrices $A$ et $b$. L'exemple suivant résout un tel système :"
   ]
  },
  {
   "cell_type": "code",
   "execution_count": null,
   "metadata": {},
   "outputs": [],
   "source": [
    "A = np.matrix('1 2;3 4')\n",
    "b = np.matrix('1;0')\n",
    "x = A.I * b\n",
    "print(x)"
   ]
  },
  {
   "cell_type": "markdown",
   "metadata": {},
   "source": [
    "La solution à ce système est unique et s'obtient assez facilement à la main, en isolant l'une des variables dans l'une des équations pour ensuite injecter sa valeur dans l'autre équation. Finalement, on trouve :\n",
    "$$\\left\\{ \\begin{array}{*{5}{c}}\n",
    "\tx_1 & + & 2x_2 & = & 1 \\\\\n",
    "\t3x_1 & + & 4x_2 & = & 0 \\\\\n",
    "\\end{array} \\right. \\Leftrightarrow \\left\\{ \\begin{array}{rcl}\n",
    "\tx_1 & = & -2 \\\\\n",
    "\tx_2 & = & 1,\\!5 \\\\\n",
    "\\end{array} \\right.$$\n",
    "\n",
    "Résoudre le système en calculant la valeur de `A.I * b` fonctionne lorsque l'on a des objets de type `matrix`. De manière générale, si on a des objets `ndarray`, on peut passer par la fonction `inv` du module `numpy.linalg` pour calculer l'inverse et par la méthode dot des tableaux pour calculer le produit matriciel. On peut également directement utiliser la fonction `solve` du même module, qui offre un raccourci d'écriture. On aurait donc pu être plus général en écrivant :"
   ]
  },
  {
   "cell_type": "markdown",
   "metadata": {},
   "source": [
    "## Valeur et vecteur propre\n",
    "Le deuxième type de problème que l'on peut vouloir résoudre consiste à retrouver les **valeurs et vecteurs propres** d'une matrice. Ces deux éléments jouent un rôle dans beaucoup de problèmes, comme pour décomposer une matrice afin d'accélérer certaines opérations, ou encore pour trouver quelle page web est la plus populaire sur internet.\n",
    "\n",
    "Pour rappel, pour une matrice carrée $A$ d'ordre $n$, le scalaire $\\lambda$ est une valeur propre de cette matrice s'il existe un vecteur $x$, non-nul et de longueur $n$, tel que l'équation suivante soit satisfaite :\n",
    "$$Ax = \\lambda x.$$\n",
    "Multiplier la matrice $A$ par ce vecteur $x$ revient donc simplement à multiplier le vecteur $x$ par le scalaire $\\lambda$. Ce vecteur $x$ est appelé **vecteur propre** de $A$ associé à la **valeur propre** $\\lambda$. Un même vecteur propre ne peut d'ailleurs pas être associé à des valeurs propres différentes.\n",
    "\n",
    "### Application linéaire\n",
    "\n",
    "On peut comprendre plus intuitivement les notions de valeurs et vecteurs propres en s'intéressant au concept **d'application linéaire**. Sans rentrer dans les détails, il s'agit de réaliser une transformation des vecteurs d'un espace donné, de sorte que l'addition et la colinéarité soient préservés après transformation.\n",
    "\n",
    "Par exemple, dans le plan, des transformations géométriques, telles que la symétrie d'axe $x$ ou une rotation de centre $(0,0)$, sont des applications linéaires. On peut représenter une telle transformation à l'aide d'une matrice, par laquelle il suffit de multiplier les vecteurs pour les transformer. Prenons comme simple exemple une mise à l'échelle verticale dans le plan, d'un facteur $1/2$. La [figure](#img:vertical-scaling) montre un triangle avant et après transformation.\n",
    "\n",
    "<!-- dom:FIGURE: [images/vertical-scaling.png, width=500 frac=0.8] Après application d'une transformation linéaire, de type mise à l'échelle verticale d'un facteur $1/2$, tous les vecteurs représentant les points du triangle se retrouvent dans une nouvelle position, rapprochés de l'axe $x$. <div id=\"img:vertical-scaling\"></div> -->\n",
    "<!-- begin figure -->\n",
    "<div id=\"img:vertical-scaling\"></div>\n",
    "\n",
    "<p>Après application d'une transformation linéaire, de type mise à l'échelle verticale d'un facteur $1/2$, tous les vecteurs représentant les points du triangle se retrouvent dans une nouvelle position, rapprochés de l'axe $x$.</p>\n",
    "<img src=\"images/vertical-scaling.png\" width=500>\n",
    "\n",
    "<!-- end figure -->\n",
    "\n",
    "\n",
    "Pour réaliser la mise à l'échelle, on va représenter chaque point du triangle par un vecteur avec deux composantes, ses coordonnées en $x$ et en $y$. Les trois points $A$, $B$ et $C$ du triangle sont donc, respectivement, représentés par les vecteurs $(1,0)$, $(−2,2)$ et $(−1,−3)$. La matrice qui représente la mise à l'échelle verticale d'un facteur $1/2$ est la suivante :\n",
    "$$T = \\left( \\begin{array}{cc} 1 &0 \\\\ 0 &1/2 \\end{array} \\right).$$\n",
    "On obtient les points $A'$, $B'$ et $C'$ du triangle transformé en multipliant la matrice $T$ par les vecteurs représentant chacun des points du triangle :\n",
    "$$A' = TA = \\left( \\begin{array}{cc} 1 &0 \\\\ 0 &1/2 \\end{array} \\right) \\left( \\begin{array}{c} 1 \\\\ 0 \\end{array} \\right) = \\left( \\begin{array}{c} 1 \\\\ 0 \\end{array} \\right),$$\n",
    "$$B' = TB = \\left( \\begin{array}{cc} 1 &0 \\\\ 0 &1/2 \\end{array} \\right) \\left( \\begin{array}{c} -2 \\\\ 2 \\end{array} \\right) = \\left( \\begin{array}{c} -2 \\\\ 1 \\end{array} \\right),$$\n",
    "$$C' = TC = \\left( \\begin{array}{cc} 1 &0 \\\\ 0 &1/2 \\end{array} \\right) \\left( \\begin{array}{c} -1 \\\\ -3 \\end{array} \\right) = \\left( \\begin{array}{c} -1 \\\\ -3/2 \\end{array} \\right).$$\n",
    "On obtient exactement les mêmes résultats avec les instructions suivantes, où on a transposé les matrices représentant les points du triangle pour pouvoir appliquer la multiplication matricielle :"
   ]
  },
  {
   "cell_type": "code",
   "execution_count": null,
   "metadata": {},
   "outputs": [],
   "source": [
    "T = np.matrix('1 0;0 0.5')\n",
    "triangle = [\n",
    "  np.matrix('1 0'),\n",
    "  np.matrix('-2 2'),\n",
    "  np.matrix('-1 -3')\n",
    "]\n",
    "\n",
    "for p in triangle:\n",
    "    print(T * p.T)"
   ]
  },
  {
   "cell_type": "markdown",
   "metadata": {},
   "source": [
    "Chacun des points du triangle subit donc la transformation, de par la multiplication matricielle par $T$ que l'on applique, pour donner le même résultat que celui calculé plus haut :"
   ]
  },
  {
   "cell_type": "markdown",
   "metadata": {},
   "source": [
    "        [[1.]\n",
    "         [0.]]\n",
    "        \n",
    "        [[-2.]\n",
    "         [ 1.]]\n",
    "        \n",
    "        [[-1. ]\n",
    "         [-1.5]]\n"
   ]
  },
  {
   "cell_type": "markdown",
   "metadata": {},
   "source": [
    "### Interprétation géométrique\n",
    "\n",
    "Intuitivement, un **vecteur propre** est un vecteur qui garde la même direction après avoir subi une transformation linéaire. Par contre, il pourrait très bien avoir changé de longueur, voire de sens. Le facteur de multiplication subi par le vecteur est en fait donné par la **valeur propre** associée au vecteur propre.\n",
    "\n",
    "Pour cet exemple de transformation, les deux vecteurs propres sont $(1,0)$ et $(0,1)$. Si on applique la transformation dessus, en les pré-multipliant par $T$, on obtient les vecteurs transformés suivants :\n",
    "$$\\left( \\begin{array}{cc} 1 &0 \\\\ 0 &1/2 \\end{array} \\right) \\left( \\begin{array}{c} 1 \\\\ 0 \\end{array} \\right) = \\left( \\begin{array}{c} 1 \\\\ 0 \\end{array} \\right) \\textrm{ et } \\left( \\begin{array}{cc} 1 &0 \\\\ 0 &1/2 \\end{array} \\right) \\left( \\begin{array}{c} 0 \\\\ 1 \\end{array} \\right) = \\left( \\begin{array}{c} 0 \\\\ 1/2 \\end{array} \\right).$$\n",
    "\n",
    "Pour le premier vecteur propre, on voit qu'il reste le même après transformation, la valeur propre associée est donc de $1$, et pour le second, il a été compressé d'un facteur $1/2$ et la valeur propre associé est donc $1/2$.\n",
    "\n",
    "### Fonction `eig`\n",
    "\n",
    "Pour obtenir les valeurs et vecteurs propres d'une matrice carrée, on utilise la fonction `eig` du module `numpy.linalg`. Cette dernière renvoie un tuple les contenant, comme le montre l'exemple suivant :"
   ]
  },
  {
   "cell_type": "code",
   "execution_count": null,
   "metadata": {},
   "outputs": [],
   "source": [
    "eigval, eigvec = np.linalg.eig(T)\n",
    "print(eigval)"
   ]
  },
  {
   "cell_type": "code",
   "execution_count": null,
   "metadata": {},
   "outputs": [],
   "source": [
    "print(eigvec)"
   ]
  },
  {
   "cell_type": "markdown",
   "metadata": {},
   "source": [
    "Le premier élément du tuple contient un tableau avec les valeurs propres, sous forme de nombres complexes, et le second élément du tuple contient un tableau avec les vecteurs propres associés.\n",
    "\n",
    "## Décomposition de matrice\n",
    "On a vu, dans la section précédente, que l'on pouvait représenter un système d'équations linéaires par une matrice $A$ et une matrice $b$. Pour résoudre le système, il suffit essentiellement d'inverser la matrice $A$, ce qui peut d'ailleurs coûter assez cher en temps de calcul. En réalité, on peut tirer pleins d'autres propriétés intéressantes sur le système et ses solutions en analysant cette matrice $A$. Il est donc assez important d'être capable de faire des opérations de manière efficace sur cette dernière.\n",
    "\n",
    "### Diagonalisation\n",
    "\n",
    "Si une matrice carrée $A$ d'ordre $n$ possède exactement $n$ vecteurs propres indépendants, on peut la diagonaliser, c'est-à-dire l'écrire sous la forme suivante,\n",
    "$$A = P D P^{-1}.$$\n",
    "où $P$ et $D$ sont des matrices carrées d'ordre $n$ et où $D$ est en plus une matrice diagonale.\n",
    "\n",
    "On construit la matrice $P$ en y plaçant simplement les vecteurs propres de $A$ et la matrice $D$ est une matrice diagonale constituée avec les valeurs propres de $A$. Voyons un exemple qui illustre cette décomposition :"
   ]
  },
  {
   "cell_type": "code",
   "execution_count": null,
   "metadata": {},
   "outputs": [],
   "source": [
    "A = np.matrix('2 1;1 2')\n",
    "eigval, eigvec = np.linalg.eig(A)\n",
    "P = np.mat(eigvec)\n",
    "D = np.diag(eigval)\n",
    "print(P * D * P.I)"
   ]
  },
  {
   "cell_type": "markdown",
   "metadata": {},
   "source": [
    "On a donc réussi à décomposer la matrice $A$ en un produit de trois matrices, plus simples que $A$ :\n",
    "$$A = \\left( \\begin{array}{cc} 2 &1 \\\\ 1 &2 \\end{array} \\right) = \\left( \\begin{array}{cc} 0,\\!7 &-0,\\!7 \\\\ 0,\\!7 &0,\\!7 \\end{array} \\right) \\left( \\begin{array}{cc} 3 &0 \\\\ 0 &1 \\end{array} \\right) \\left( \\begin{array}{cc} 0,\\!7 &0,\\!7 \\\\ -0,\\!7 &0,\\!7 \\end{array} \\right).$$\n",
    "\n",
    "L'un des intérêts de la diagonalisation est qu'elle permet de calculer des puissances de matrices de manière très efficace. On peut en effet se baser sur la propriété suivante :\n",
    "$$A^k = (PDP^{-1})^k = PD^kP^{-1},$$\n",
    "\n",
    "sachant qu'élever une matrice diagonale à la puissance $k$ revient à élever chacun des éléments de sa diagonale par $k$. Pour calculer la $k^e$ puissance de la matrice $A$, cela prend en moyenne 0,025 ms si on choisit $k=50$, alors qu'il ne faut que 0,008 ms pour obtenir le même résultat à partir de la forme diagonalisée de $A$, soit une amélioration de 68$\\%$.\n",
    "\n",
    "Pour être précis, il faudrait prendre en compte le temps nécessaire à la diagonalisation en tant que telle, mais c'est une opération qu'il ne faut faire qu'une seule fois. Il s'agit donc d'investir un peu de temps de calcul pour ensuite accélérer l'exécution des calculs futurs."
   ]
  },
  {
   "cell_type": "code",
   "execution_count": null,
   "metadata": {},
   "outputs": [],
   "source": [
    "np.linalg?"
   ]
  },
  {
   "cell_type": "code",
   "execution_count": null,
   "metadata": {},
   "outputs": [],
   "source": []
  }
 ],
 "metadata": {
  "kernelspec": {
   "display_name": "Python 3",
   "language": "python",
   "name": "python3"
  },
  "language_info": {
   "codemirror_mode": {
    "name": "ipython",
    "version": 3
   },
   "file_extension": ".py",
   "mimetype": "text/x-python",
   "name": "python",
   "nbconvert_exporter": "python",
   "pygments_lexer": "ipython3",
   "version": "3.7.6"
  }
 },
 "nbformat": 4,
 "nbformat_minor": 4
}
