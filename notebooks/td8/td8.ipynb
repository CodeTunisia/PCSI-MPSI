{
 "cells": [
  {
   "cell_type": "markdown",
   "metadata": {},
   "source": [
    "<!-- dom:TITLE: TD 8 : Complexité algorithmique -->\n",
    "# TD 8 : Complexité algorithmique\n",
    "<!-- dom:AUTHOR: Ahmed Ammar at Institut Préparatoire aux Études Scientifiques et Techniques, Université de Carthage. -->\n",
    "<!-- Author: -->  \n",
    "**Ahmed Ammar**, Institut Préparatoire aux Études Scientifiques et Techniques, Université de Carthage.\n",
    "\n",
    "\n",
    "Date: **Jan 10, 2021**\n",
    "\n",
    "<!-- TOC: on -->\n",
    "\n",
    "# Exercice 1 : Suite de Fibonnacci\n",
    "La suite de Fibonnacci est définie par $(u_n)$ telle que $\\begin{cases} u_0 = 0 \\\\u_1 = 1 \\end{cases}$ et pour tout $n \\in \\mathbb{N}^* : u_{n+2} = u_{n+1} + u_{n}$.\n",
    "\n",
    "Pour calculer le terme $u_n$, nous disposons des 2 algorithmes suivants :\n",
    "\n",
    "<!-- dom:FIGURE:[figures/fiboAlgs.png, width=700 frac=1] -->\n",
    "<!-- begin figure -->\n",
    "\n",
    "<p></p>\n",
    "<img src=\"figures/fiboAlgs.png\" width=700>\n",
    "\n",
    "<!-- end figure -->\n",
    "\n",
    "\n",
    "Nous allons évaluer le temps de calcul de chacun des algorithmes de calcul précédents de façon expérimentale et théorique.\n",
    "## Étude expérimentale\n",
    "En Python, il est possible de déterminer le temps de calcul d’un algorithme grâce aux instructions suivantes :\n",
    "<!-- dom:FIGURE:[figures/time.png, width=700 frac=1] -->\n",
    "<!-- begin figure -->\n",
    "\n",
    "<p></p>\n",
    "<img src=\"figures/time.png\" width=700>\n",
    "\n",
    "<!-- end figure -->\n",
    "\n",
    "\n",
    "* **Q1.** Concevoir deux fonctions `tp1(n)` et `tp2(n)` donnant le temps d'exécution des instructions `u1(n)` et `u2(n)`.\n",
    "\n",
    "* **Q2.** En déduire deux fonctions `graphe1(N,p)` et `graphe2(N,p)` permettant de représenter le temps d'exécution de chacune des deux fonctions `u1(n)` et `u2(n)` pour `n` allant de 0 à N par pas de $p \\in \\mathbb{N}^*$.\n",
    "\n",
    "Lancer alors les instructions `graphe1(100,1)` et `graphe2(35,3)`.\n",
    "* **Q3.** Répondez alors aux questions suivantes :\n",
    "\n",
    " * **a)** Quel est le programme le plus rapide ?\n",
    "\n",
    " * **b)** Quelle conjecture peut-on faire sur la nature de la complexité de chacun des deux algorithmes?\n",
    "\n",
    " * **c)** Comment interpréter :\n",
    "\n",
    "  * les valeurs qui semblent aberrantes?\n",
    "\n",
    "  * les différences obtenues lorsqu'on lance deux fois la même instruction?\n",
    "\n",
    "  * les discontinuités qui apparaissent éventuellement?\n",
    "\n",
    "\n",
    "\n",
    "## Étude théorique\n",
    "Donner sous la forme d’un \"grand O\" la complexité des deux algorithmes précédents.\n",
    "\n",
    "On considérera :\n",
    "* 1. La taille de la donnée :n\n",
    "\n",
    "* 2. L'opération significative : l'addition\n",
    "\n",
    "Cette étude théorique vient-elle confirmer les conjectures précédentes?"
   ]
  },
  {
   "cell_type": "markdown",
   "metadata": {},
   "source": [
    "## Solution :"
   ]
  },
  {
   "cell_type": "code",
   "execution_count": 5,
   "metadata": {},
   "outputs": [],
   "source": [
    "def u1(n) :\n",
    "    '''\n",
    "    Algorithme usuel\n",
    "    '''\n",
    "    S1, S2 = 0, 1\n",
    "    for i in range(2,n+1):\n",
    "        S1, S2 = S2, S1 + S2\n",
    "    return S2\n",
    "def u2(n) :\n",
    "    '''\n",
    "    algorithme récursif\n",
    "    '''\n",
    "    if n == 0 : \n",
    "        return 0\n",
    "    elif n == 1 : \n",
    "        return 1\n",
    "    else :\n",
    "        return u2(n-1) + u2(n-2)"
   ]
  },
  {
   "cell_type": "code",
   "execution_count": 31,
   "metadata": {},
   "outputs": [],
   "source": [
    "# %load scripts/tp.py\n",
    "def tp1(n):\n",
    "    from time import time\n",
    "    t1 = time()\n",
    "    A = u1(n)\n",
    "    t2 = time()\n",
    "    return t2 - t1\n",
    "def tp2(n):\n",
    "    from time import time\n",
    "    t1 = time()\n",
    "    A = u2(n)\n",
    "    t2 = time()\n",
    "    return t2 - t1"
   ]
  },
  {
   "cell_type": "code",
   "execution_count": 38,
   "metadata": {},
   "outputs": [
    {
     "data": {
      "image/png": "[encoded data removed]",
      "text/plain": [
       "<Figure size 432x288 with 1 Axes>"
      ]
     },
     "metadata": {
      "needs_background": "light"
     },
     "output_type": "display_data"
    }
   ],
   "source": [
    "## Q2.GRAPHE 1\n",
    "def graphe1(N, p):\n",
    "    import matplotlib.pyplot as plt\n",
    "    X = [x for x in range(0, N+1, p)]\n",
    "    Y = [tp1(x) for x in X]\n",
    "    plt.plot(X, Y, \"o\")\n",
    "    plt.show()\n",
    "graphe1(100, 1)"
   ]
  },
  {
   "cell_type": "code",
   "execution_count": 41,
   "metadata": {},
   "outputs": [
    {
     "data": {
      "image/png": "[encoded data removed]",
      "text/plain": [
       "<Figure size 432x288 with 1 Axes>"
      ]
     },
     "metadata": {
      "needs_background": "light"
     },
     "output_type": "display_data"
    }
   ],
   "source": [
    "## Q2.GRAPHE 2\n",
    "def graphe2(N, p):\n",
    "    import matplotlib.pyplot as plt\n",
    "    X = [x for x in range(0, N+1, p)]\n",
    "    Y = [tp2(x) for x in X]\n",
    "    plt.plot(X, Y, \"o\")\n",
    "    plt.show()\n",
    "graphe2(35, 3)\n"
   ]
  },
  {
   "cell_type": "markdown",
   "metadata": {},
   "source": [
    "# Exercice 2 : Exemples de calculs de complexité\n",
    "Calculer le coûts et donner sous la forme d'un \"grand O\" la complexité des algorithmes suivants :\n",
    "* **Q1.** Le code ci-dessous consiste à programmer la fonction append :"
   ]
  },
  {
   "cell_type": "code",
   "execution_count": 1,
   "metadata": {},
   "outputs": [],
   "source": [
    "def AjoutFin(L,a) :\n",
    "    L=L+[a]\n",
    "    return L"
   ]
  },
  {
   "cell_type": "markdown",
   "metadata": {},
   "source": [
    "Exemple :"
   ]
  },
  {
   "cell_type": "code",
   "execution_count": 2,
   "metadata": {},
   "outputs": [],
   "source": [
    "L = [1, 2]\n",
    "AjoutFin(L, 3)"
   ]
  },
  {
   "cell_type": "markdown",
   "metadata": {},
   "source": [
    "* **Q2.** Le code ci-dessous consiste à programmer la fonction insert :"
   ]
  },
  {
   "cell_type": "code",
   "execution_count": 3,
   "metadata": {},
   "outputs": [],
   "source": [
    "def AjoutElement(L,a,i) :\n",
    "    L[i :i]=[a]\n",
    "    return L"
   ]
  },
  {
   "cell_type": "markdown",
   "metadata": {},
   "source": [
    "Exemple :"
   ]
  },
  {
   "cell_type": "code",
   "execution_count": 4,
   "metadata": {},
   "outputs": [],
   "source": [
    "L = [1, 2]\n",
    "AjoutElement(L, 3, 1)"
   ]
  },
  {
   "cell_type": "markdown",
   "metadata": {},
   "source": [
    "* **Q3.** boucle simple :"
   ]
  },
  {
   "cell_type": "code",
   "execution_count": 5,
   "metadata": {},
   "outputs": [],
   "source": [
    "for i in range(n) :\n",
    "    print(\"Bonjour\") #une instruction p"
   ]
  },
  {
   "cell_type": "markdown",
   "metadata": {},
   "source": [
    "* **Q4.** remplir un tableau :"
   ]
  },
  {
   "cell_type": "code",
   "execution_count": 6,
   "metadata": {},
   "outputs": [],
   "source": [
    "def RemplirTab(T) :\n",
    "    for i in range(len(T)) :\n",
    "        print(\"T[\",i,\"]=\", end = \"\")\n",
    "        T[i]=int(input())"
   ]
  },
  {
   "cell_type": "markdown",
   "metadata": {},
   "source": [
    "* **Q4.** recherche séquentielle :"
   ]
  },
  {
   "cell_type": "code",
   "execution_count": 7,
   "metadata": {},
   "outputs": [],
   "source": [
    "def Recherche Seq(T , n, x) :\n",
    "    i=0\n",
    "    while i<n and T[i] !=x :\n",
    "        i=i+1\n",
    "    if i<n :\n",
    "        return 1\n",
    "    else :\n",
    "        return 0"
   ]
  },
  {
   "cell_type": "markdown",
   "metadata": {},
   "source": [
    "* **Q5.** Recherche dichotomique :"
   ]
  },
  {
   "cell_type": "code",
   "execution_count": 8,
   "metadata": {},
   "outputs": [],
   "source": [
    "def RechDichotomique(T,x) :\n",
    "    g,d=0,len(T)-1\n",
    "    while g<=d :\n",
    "        m=(g+d)//2\n",
    "        if T[m]==x :\n",
    "            return True\n",
    "        if T[m]<x :\n",
    "            g=m+1\n",
    "        else :\n",
    "            d=m-1\n",
    "    return False"
   ]
  },
  {
   "cell_type": "markdown",
   "metadata": {},
   "source": [
    "* **Q6.** Recherche d’un mot dans une chaîne de caractères :"
   ]
  },
  {
   "cell_type": "code",
   "execution_count": 9,
   "metadata": {},
   "outputs": [],
   "source": [
    "def searchWord(mot,texte) :\n",
    "    if len(mot)>len(texte) :\n",
    "        return False\n",
    "    for i in range(1+len(texte)-len(mot)) :\n",
    "        j=0\n",
    "        while j < len(mot) and mot[j] == texte[i + j] :\n",
    "            j=j+1\n",
    "        if j == len(mot) :\n",
    "            return i\n",
    "    return None"
   ]
  }
 ],
 "metadata": {
  "kernelspec": {
   "display_name": "Python 3",
   "language": "python",
   "name": "python3"
  },
  "language_info": {
   "codemirror_mode": {
    "name": "ipython",
    "version": 3
   },
   "file_extension": ".py",
   "mimetype": "text/x-python",
   "name": "python",
   "nbconvert_exporter": "python",
   "pygments_lexer": "ipython3",
   "version": "3.7.6"
  }
 },
 "nbformat": 4,
 "nbformat_minor": 4
}
