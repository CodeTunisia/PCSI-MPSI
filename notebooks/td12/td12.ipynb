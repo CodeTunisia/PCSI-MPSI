{
 "cells": [
  {
   "cell_type": "markdown",
   "metadata": {},
   "source": [
    "<!-- dom:TITLE: TD 12 : Tableaux et calcul matriciel avec NumPy -->\n",
    "# TD 12 : Tableaux et calcul matriciel avec NumPy\n",
    "<!-- dom:AUTHOR: Ahmed Ammar Email:ahmed.ammar@fst.utm.tn at Classes Sup : IPEST-La Marsa, Universit\\'e de Carthage. -->\n",
    "<!-- Author: -->  \n",
    "**Ahmed Ammar** (email: `ahmed.ammar@fst.utm.tn`), Classes Sup : IPEST-La Marsa, Universit\\'e de Carthage.\n",
    "\n",
    "Date: **Lundi, 17 mai 2021**\n",
    "\n",
    "<!-- TOC: on -->\n",
    "\n",
    "Pour manipuler les matrices, nous importerons le module numpy par `import numpy as np`. Ce module permet de coder plus efficacement les matrices (ligne, colonne ou rectangulaire) que la structure classique de liste par les contraintes plus fortes qui existent sur le type `array` :\n",
    "* un tableau est homogène (il ne contient que des entiers, ou que des flottants, ou que des booléens...) ;\n",
    "\n",
    "* un tableau n'est pas redimensionnable (contrairement à une liste, à laquelle on peut ajouter un élément avec append).\n",
    "\n",
    "Comme conséquence du premier point : si, lors de le création d’un tableau, on mélange des flottants et des entiers, il y a conversion automatique des entiers en flottants par exemple.\n",
    "### Copie\n",
    "\n",
    "Comme pour les listes, la définition $t_1 = t$ ne crée pas une copie du tableau $t$, mais un deuxième nom pour le même tableau. Ainsi, toute modification effectuée sur $t_1$ est aussi effectuée sur t : c’est le même tableau! Pour créer une copie du tableau, il faut écrire `t1 = np.copy(t)`.\n",
    "\n",
    "### Slicing et vues\n",
    "\n",
    "Si $l$ est une liste, un peut en obtenir une tranche par la syntaxe `l[1:4]` : c’est la sous-liste formée des éléments de $l$ dont les indices appartiennent à l’ensemble $[1, 4[$. Cette tranche est une copie de la liste : si l’on définit une nouvelle liste par `l1 = l[1:4]`, une modification de la liste `l1` n’entraîne aucune modification de la liste l (et inversement).\n",
    "\n",
    "Pour les tableaux en revanche, la même syntaxe renvoie une vue sur le tableau : si l’on définit `t1` par\n",
    "`t1 = t[1:4]`, `t1` désigne une partie du tableau `t`. Par suite, toute modification effectuée sur `t1` se répercute sur `t` (et inversement)."
   ]
  },
  {
   "cell_type": "code",
   "execution_count": null,
   "metadata": {},
   "outputs": [],
   "source": [
    "import numpy as np"
   ]
  },
  {
   "cell_type": "markdown",
   "metadata": {},
   "source": [
    "## Exercise 1: Calcul matriciel\n",
    "\n",
    "Soit les matrices suivantes :\n",
    "$$ R =\\left( \\begin{array}{ccc} 1 &2 &3 \\\\ 4 &5 &6 \\end{array} \\right) \\ , \\ S = \\left( \\begin{array}{ccc} 1 &-1 &3 \\\\ 2 &-1 &0 \\\\ -1 &0 &-2 \\end{array} \\right) \\ et \\ T = \\left( \\begin{array}{ccc} 1 &1 &-2 \\\\ 1 &0 &-1 \\\\ 1 &0 &-1 \\end{array} \\right)$$\n",
    "### Trace d'une matrice\n",
    "\n",
    "Pour une matrice carrée, on appelle trace la somme des coefficients de la diagonale de la matrice.\n",
    "* **Q1.** Écrire une fonction `trace(M)` qui prend en entrée une matrice carrée $M$ et renvoie la trace de la matrice."
   ]
  },
  {
   "cell_type": "code",
   "execution_count": null,
   "metadata": {},
   "outputs": [],
   "source": [
    "# Q1."
   ]
  },
  {
   "cell_type": "markdown",
   "metadata": {},
   "source": [
    "* **Q2.** Tester votre fonction avec la matrice $S$."
   ]
  },
  {
   "cell_type": "code",
   "execution_count": null,
   "metadata": {},
   "outputs": [],
   "source": [
    "# Q2."
   ]
  },
  {
   "cell_type": "markdown",
   "metadata": {},
   "source": [
    "* **Q3.** Ajouter un test dans votre fonction qui permettra de renvoyer le texte `\"La matrice n’est pas carrée ! \"` si la matrice $M$ entrée n’est pas carrée."
   ]
  },
  {
   "cell_type": "code",
   "execution_count": null,
   "metadata": {},
   "outputs": [],
   "source": [
    "# Q3."
   ]
  },
  {
   "cell_type": "markdown",
   "metadata": {},
   "source": [
    "* **Q4.** Tester votre fonction avec la matrice $R$."
   ]
  },
  {
   "cell_type": "code",
   "execution_count": null,
   "metadata": {},
   "outputs": [],
   "source": [
    "# Q4."
   ]
  },
  {
   "cell_type": "markdown",
   "metadata": {},
   "source": [
    "### Transposée d'une matrice\n",
    "\n",
    "* **Q1.** Écrire une fonction `transpose(M)` qui prend en entrée une matrice M et renvoie la transposée de cette matrice."
   ]
  },
  {
   "cell_type": "code",
   "execution_count": null,
   "metadata": {},
   "outputs": [],
   "source": [
    "# Q1."
   ]
  },
  {
   "cell_type": "markdown",
   "metadata": {},
   "source": [
    "* **Q2.** Tester votre fonction avec la matrice R."
   ]
  },
  {
   "cell_type": "code",
   "execution_count": null,
   "metadata": {},
   "outputs": [],
   "source": [
    "# Q2."
   ]
  },
  {
   "cell_type": "markdown",
   "metadata": {},
   "source": [
    "### Produit matriciel\n",
    "\n",
    "* **Q1.** Écrire une fonction produit(A,B) qui prend en entrée deux matrices et renvoie le produit des deux matrices. (en supposant que celui-ci est possible)."
   ]
  },
  {
   "cell_type": "code",
   "execution_count": null,
   "metadata": {},
   "outputs": [],
   "source": [
    "# Q1."
   ]
  },
  {
   "cell_type": "markdown",
   "metadata": {},
   "source": [
    "* **Q2.** Tester votre fonction avec les matrices R et S. *Faire le produit dans le bon sens !*"
   ]
  },
  {
   "cell_type": "code",
   "execution_count": null,
   "metadata": {},
   "outputs": [],
   "source": [
    "# Q2."
   ]
  },
  {
   "cell_type": "markdown",
   "metadata": {},
   "source": [
    "* **Q3.** En profiter pour calculer le cube de la matrice $T$. Que peut-on en déduire ?"
   ]
  },
  {
   "cell_type": "code",
   "execution_count": null,
   "metadata": {},
   "outputs": [],
   "source": [
    "# Q3."
   ]
  },
  {
   "cell_type": "markdown",
   "metadata": {},
   "source": [
    "* **Q4.** Ajouter un bloc `try:...except:...` dans votre fonction qui permettra de renvoyer le texte `\"Le produit n’est pas possible ! \"` si le produit matriciel est impossible à effectuer."
   ]
  },
  {
   "cell_type": "code",
   "execution_count": null,
   "metadata": {},
   "outputs": [],
   "source": [
    "# Q4."
   ]
  },
  {
   "cell_type": "markdown",
   "metadata": {},
   "source": [
    "* **Q5.** Tester votre fonction avec les matrices R et S. *Faire le produit dans le mauvais sens cette fois !*"
   ]
  },
  {
   "cell_type": "code",
   "execution_count": null,
   "metadata": {},
   "outputs": [],
   "source": [
    "# Q5."
   ]
  },
  {
   "cell_type": "markdown",
   "metadata": {},
   "source": [
    "## Exercise 2: Systèmes linéaires\n",
    "<div id=\"sec:sys_lin\"></div>\n",
    "\n",
    "* **Q1.** Écrire des fonctions `transvecLigne(A,i,j,c)`, `permutLigne(A,i,j)` et `dilatLigne(A,i,c)` telles que `transvecLigne(A,i,j,c)` modifie la matrice $A$ par l’opération $L_i \\leftarrow L_i +  c L_j$ (et des opérations similaires pour les deux autres fonctions). Ces fonctions modifient la matrice passée en argument et ne renvoient rien."
   ]
  },
  {
   "cell_type": "code",
   "execution_count": null,
   "metadata": {},
   "outputs": [],
   "source": [
    "# Q1."
   ]
  },
  {
   "cell_type": "markdown",
   "metadata": {},
   "source": [
    "* **Q2. a)** Écrire une fonction `systLin(A,B)` qui résout le système linéaire de matrice $A$ (carrée et inversible) et de second membre $B$ par la méthode du *pivot de Gauss*. La fonction ne devra modifier ni la matrice $A$, ni la matrice $B$ (il faudra en faire des copies, sur lesquelles on fera les opérations). La matrice $B$ ne sera pas nécessairement une matrice colonne (quel format doit avoir l’inconnue $X$ lorsque $B$ a $p$ colonnes ?). Quel est le résultat renvoyé lorsque l’on prend $B = I_n$ ?"
   ]
  },
  {
   "cell_type": "code",
   "execution_count": null,
   "metadata": {},
   "outputs": [],
   "source": [
    "# Q2.a)"
   ]
  },
  {
   "cell_type": "markdown",
   "metadata": {},
   "source": [
    "* **b)** Évaluer le nombre de multiplications (ou divisions) effectuées pour la résolution du système (dans le cas où $B$ est une matrice colonne)."
   ]
  },
  {
   "cell_type": "markdown",
   "metadata": {},
   "source": [
    "**SOLUTION : b)**\n",
    "\n",
    ".................................................\n",
    "\n",
    "................................................."
   ]
  },
  {
   "cell_type": "markdown",
   "metadata": {},
   "source": [
    "* **Q3.** Dans la pratique, on rencontre parfois un pivot nul sur la diagonale principale. Il faut alors permuter la ligne correspondante avec une ligne située en-dessous pour retrouver un pivot non nul et poursuivre l’algorithme. Cette opération de permutation est intéressante même lorsque le pivot diagonal n’est pas nul : utiliser le plus grand (en valeur absolue) pivot possible permet de réduire l’effet des erreurs d’arrondi résultant des divisions par le pivot.\n",
    "\n",
    "* **a)** Tester la fonction `systLin(A,B)` sur le système linéaire :\n",
    "\n",
    "$$\\left\\{ \\begin{array}{*{5}{c}}\n",
    "\t10^{-20}x & + & y & = & 1 \\\\\n",
    "\tx & + & y & = & 2 \\\\\n",
    "\\end{array} \\right.$$\n",
    "et comparer à la véritable solution (calculée à la main)."
   ]
  },
  {
   "cell_type": "code",
   "execution_count": null,
   "metadata": {},
   "outputs": [],
   "source": [
    "# Q3 a)"
   ]
  },
  {
   "cell_type": "markdown",
   "metadata": {},
   "source": [
    "**SOLUTION : clacul à la main**\n",
    "\n",
    ".................................................\n",
    "\n",
    "................................................."
   ]
  },
  {
   "cell_type": "markdown",
   "metadata": {},
   "source": [
    "* **b)** Écrire une fonction pivot(A,j) qui renvoie l’indice i du plus grand (en valeur absolue) des coefficients $A_{j,j} , . . . , A {n-1,j}$ ($n$ : nombre le lignes de la matrice)."
   ]
  },
  {
   "cell_type": "code",
   "execution_count": null,
   "metadata": {},
   "outputs": [],
   "source": [
    "# Q3 b)"
   ]
  },
  {
   "cell_type": "markdown",
   "metadata": {},
   "source": [
    "* **c)** Écrire une fonction `systLinPivot(A,B)`, spécifiée comme `systLin(A,B)`, mais qui utilise la méthode du pivot partiel.\n",
    "\n",
    "Tester la fonction sur le système précédent."
   ]
  },
  {
   "cell_type": "code",
   "execution_count": null,
   "metadata": {},
   "outputs": [],
   "source": [
    "# Q3 c)"
   ]
  },
  {
   "cell_type": "markdown",
   "metadata": {},
   "source": [
    "* **Q4.** Écrire une fonction `determinant(A)` qui calcule le déterminant d’une matrice."
   ]
  },
  {
   "cell_type": "code",
   "execution_count": null,
   "metadata": {},
   "outputs": [],
   "source": [
    "# Q4."
   ]
  },
  {
   "cell_type": "markdown",
   "metadata": {},
   "source": [
    "### Décomposition LU\n",
    "\n",
    "Lorsque l’on a de nombreux systèmes linéaires à résoudre avec la même matrice $A$ (inversible), il peut être judicieux de trouver une décomposition de $A$ sous la forme $A = LU$ , où $L$ est triangulaire inférieure (lower) et $U$ triangulaire supérieure (upper). En introduisant l’inconnue $Z$ définie par $Z = U Y$ , la résolution du système linéaire $AX = Y$ est alors ramenée à la résolution de deux systèmes plus simples (car triangulaires) : $LZ = Y$ et $U X = Z$.\n",
    "\n",
    "L’algorithme pour trouver cette décomposition consiste à manipuler deux suites $(L_k)_k$ et $(U_k)_k$ de matrices vérifiant $L_k U_k = A$ pour tout $k$. On initialise avec $L_0 = I_n$ et $U_0 = A$. Puis on pratique l’algorithme du pivot de Gauss sur la matrice $U$ pour la transformer en matrice échelonnée en lignes (donc triangulaire supérieure). Pour cela, on lui fait subir des opérations du type $L_i \\leftarrow L_i + \\lambda L_j$ , avec $i > j$. Autrement dit, on passe de la matrice $U_k$ à la matrice $U_{k+1}$ par une opération du type $U_{k+1} = T_{i,j,\\lambda} U_k$ (les valeurs de $i$, $j$ et $\\lambda$ changeant bien sûr à chaque étape). Pour conserver l’égalité $L_{k+1} U_{k+1} = A$, il faut alors poser $L_{k+1} = L_k T_{i,j,\\lambda}^{-1} = L_k T_{i,j,-\\lambda}$ , i.e. passer de la matrice $L_k$ à $L_{k+1}$ par l’opération $C_j \\leftarrow C_j - \\lambda C_i$.\n",
    "\n",
    "À la fin de l’algorithme, la matrice $U$ est triangulaire supérieure, et la matrice $L$ triangulaire inférieure, ses coefficients diagonaux étant tous égaux à 1. En effet, par construction, la matrice $L$ est un produit de matrices de transvections $T_{i,j,-\\lambda}$ avec à chaque fois $i \\ge j$. Ces matrices sont toutes triangulaires inférieures de coefficients diagonaux égaux à 1, donc il en est de même de leur produit.\n",
    "\n",
    "* **Q5.** Traiter à la main l’exemple de la matrice\n",
    "$$A = \\left( \\begin{array}{ccc} 1 &4 &-2 \\\\ 2 &6 &1 \\\\ 3 &5 &3 \\end{array} \\right)$$"
   ]
  },
  {
   "cell_type": "code",
   "execution_count": null,
   "metadata": {},
   "outputs": [],
   "source": [
    "# Q5."
   ]
  },
  {
   "cell_type": "markdown",
   "metadata": {},
   "source": [
    "* **Q6.** Écrire une fonction `LU(A)` qui renvoie le couple `(L, U)` de la décomposition $A = LU$. Vérifier que l’on retrouve bien le résultat obtenu à la main sur l’exemple précédent.\n"
   ]
  },
  {
   "cell_type": "code",
   "execution_count": null,
   "metadata": {},
   "outputs": [],
   "source": [
    "# Q6."
   ]
  },
  {
   "cell_type": "code",
   "execution_count": null,
   "metadata": {},
   "outputs": [],
   "source": []
  }
 ],
 "metadata": {
  "kernelspec": {
   "display_name": "Python 3",
   "language": "python",
   "name": "python3"
  },
  "language_info": {
   "codemirror_mode": {
    "name": "ipython",
    "version": 3
   },
   "file_extension": ".py",
   "mimetype": "text/x-python",
   "name": "python",
   "nbconvert_exporter": "python",
   "pygments_lexer": "ipython3",
   "version": "3.7.6"
  }
 },
 "nbformat": 4,
 "nbformat_minor": 4
}
