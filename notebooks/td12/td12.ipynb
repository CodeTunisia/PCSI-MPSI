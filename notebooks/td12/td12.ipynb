{
 "cells": [
  {
   "cell_type": "markdown",
   "metadata": {},
   "source": [
    "<!-- dom:TITLE: TD 12 : Tableaux et calcul matriciel avec NumPy -->\n",
    "# TD 12 : Tableaux et calcul matriciel avec NumPy\n",
    "<!-- dom:AUTHOR: Ahmed Ammar Email:ahmed.ammar@fst.utm.tn at Classes Sup : IPEST-La Marsa, Universit\\'e de Carthage. -->\n",
    "<!-- Author: -->  \n",
    "**Ahmed Ammar** (email: `ahmed.ammar@fst.utm.tn`), Classes Sup : IPEST-La Marsa, Universit\\'e de Carthage.\n",
    "\n",
    "Date: **Lundi, 17 mai 2021**\n",
    "\n",
    "<!-- TOC: on -->\n",
    "\n",
    "Pour manipuler les matrices, nous importerons le module numpy par `import numpy as np`. Ce module permet de coder plus efficacement les matrices (ligne, colonne ou rectangulaire) que la structure classique de liste par les contraintes plus fortes qui existent sur le type `array` :\n",
    "* un tableau est homogène (il ne contient que des entiers, ou que des flottants, ou que des booléens...) ;\n",
    "\n",
    "* un tableau n'est pas redimensionnable (contrairement à une liste, à laquelle on peut ajouter un élément avec append).\n",
    "\n",
    "Comme conséquence du premier point : si, lors de le création d’un tableau, on mélange des flottants et des entiers, il y a conversion automatique des entiers en flottants par exemple.\n",
    "### Copie\n",
    "\n",
    "Comme pour les listes, la définition $t_1 = t$ ne crée pas une copie du tableau $t$, mais un deuxième nom pour le même tableau. Ainsi, toute modification effectuée sur $t_1$ est aussi effectuée sur t : c’est le même tableau! Pour créer une copie du tableau, il faut écrire `t1 = np.copy(t)`.\n",
    "\n",
    "### Slicing et vues\n",
    "\n",
    "Si $l$ est une liste, un peut en obtenir une tranche par la syntaxe `l[1:4]` : c’est la sous-liste formée des éléments de $l$ dont les indices appartiennent à l’ensemble $[1, 4[$. Cette tranche est une copie de la liste : si l’on définit une nouvelle liste par `l1 = l[1:4]`, une modification de la liste `l1` n’entraîne aucune modification de la liste l (et inversement).\n",
    "\n",
    "Pour les tableaux en revanche, la même syntaxe renvoie une vue sur le tableau : si l’on définit `t1` par\n",
    "`t1 = t[1:4]`, `t1` désigne une partie du tableau `t`. Par suite, toute modification effectuée sur `t1` se répercute sur `t` (et inversement)."
   ]
  },
  {
   "cell_type": "code",
   "execution_count": 1,
   "metadata": {},
   "outputs": [],
   "source": [
    "import numpy as np"
   ]
  },
  {
   "cell_type": "markdown",
   "metadata": {},
   "source": [
    "## Exercise 1: Calcul matriciel\n",
    "\n",
    "Soit les matrices suivantes :\n",
    "$$ R =\\left( \\begin{array}{ccc} 1 &2 &3 \\\\ 4 &5 &6 \\end{array} \\right) \\ , \\ S = \\left( \\begin{array}{ccc} 1 &-1 &3 \\\\ 2 &-1 &0 \\\\ -1 &0 &-2 \\end{array} \\right) \\ et \\ T = \\left( \\begin{array}{ccc} 1 &1 &-2 \\\\ 1 &0 &-1 \\\\ 1 &0 &-1 \\end{array} \\right)$$\n",
    "\n",
    "### Trace d'une matrice\n",
    "\n",
    "Pour une matrice carrée, on appelle trace la somme des coefficients de la diagonale de la matrice.\n",
    "* **Q1.** Écrire une fonction `trace(M)` qui prend en entrée une matrice carrée $M$ et renvoie la trace de la matrice."
   ]
  },
  {
   "cell_type": "code",
   "execution_count": 2,
   "metadata": {},
   "outputs": [],
   "source": [
    "R= np.array([[1, 2, 3], [4, 5, 6]])\n",
    "S= np.array([[1, -1,3], [2,-1,0],[-1,0,-2]])\n",
    "T= np.array([[1,1,-2],[1,0,-1],[1,0,-1]])"
   ]
  },
  {
   "cell_type": "code",
   "execution_count": 3,
   "metadata": {},
   "outputs": [],
   "source": [
    "# Q1.\n",
    "def trace(M):\n",
    "    trace=0\n",
    "    n=len(M)\n",
    "    for k in range(n):\n",
    "        trace+=M[k,k]\n",
    "    return trace"
   ]
  },
  {
   "cell_type": "markdown",
   "metadata": {},
   "source": [
    "* **Q2.** Tester votre fonction avec la matrice $S$."
   ]
  },
  {
   "cell_type": "code",
   "execution_count": 4,
   "metadata": {},
   "outputs": [
    {
     "data": {
      "text/plain": [
       "-2"
      ]
     },
     "execution_count": 4,
     "metadata": {},
     "output_type": "execute_result"
    }
   ],
   "source": [
    "# Q2.\n",
    "trace(S)"
   ]
  },
  {
   "cell_type": "code",
   "execution_count": 5,
   "metadata": {},
   "outputs": [
    {
     "data": {
      "text/plain": [
       "-2"
      ]
     },
     "execution_count": 5,
     "metadata": {},
     "output_type": "execute_result"
    }
   ],
   "source": [
    "# avec numpy\n",
    "np.trace(S)"
   ]
  },
  {
   "cell_type": "markdown",
   "metadata": {},
   "source": [
    "* **Q3.** Ajouter un test dans votre fonction qui permettra de renvoyer le texte `\"La matrice n’est pas carrée ! \"` si la matrice $M$ entrée n’est pas carrée."
   ]
  },
  {
   "cell_type": "code",
   "execution_count": 6,
   "metadata": {},
   "outputs": [],
   "source": [
    "# Q3.\n",
    "def trace(M):\n",
    "    trace=0\n",
    "    n=len(M)\n",
    "    if M.shape[0] != M.shape[1]:\n",
    "        return \"La matrice n'est pas carrée! \"\n",
    "    else:\n",
    "        for k in range(n):\n",
    "            trace+=M[k,k]\n",
    "        return trace"
   ]
  },
  {
   "cell_type": "markdown",
   "metadata": {},
   "source": [
    "* **Q4.** Tester votre fonction avec la matrice $R$."
   ]
  },
  {
   "cell_type": "code",
   "execution_count": 7,
   "metadata": {},
   "outputs": [
    {
     "data": {
      "text/plain": [
       "\"La matrice n'est pas carrée! \""
      ]
     },
     "execution_count": 7,
     "metadata": {},
     "output_type": "execute_result"
    }
   ],
   "source": [
    "# Q4.\n",
    "trace(R)"
   ]
  },
  {
   "cell_type": "markdown",
   "metadata": {},
   "source": [
    "### Transposée d'une matrice\n",
    "\n",
    "* **Q1.** Écrire une fonction `transpose(M)` qui prend en entrée une matrice M et renvoie la transposée de cette matrice."
   ]
  },
  {
   "cell_type": "code",
   "execution_count": 8,
   "metadata": {},
   "outputs": [],
   "source": [
    "# Q1.\n",
    "def transpose(M):\n",
    "    n, p =M.shape[0], M.shape[1]\n",
    "    Transp=np.zeros((p,n))\n",
    "    for i in range(n):\n",
    "        for j in range(p):\n",
    "            Transp[j,i]=M[i,j]\n",
    "    return Transp"
   ]
  },
  {
   "cell_type": "markdown",
   "metadata": {},
   "source": [
    "* **Q2.** Tester votre fonction avec la matrice R."
   ]
  },
  {
   "cell_type": "code",
   "execution_count": 9,
   "metadata": {},
   "outputs": [
    {
     "name": "stdout",
     "output_type": "stream",
     "text": [
      "R = \n",
      " [[1 2 3]\n",
      " [4 5 6]]\n",
      "R_T = \n",
      " [[1. 4.]\n",
      " [2. 5.]\n",
      " [3. 6.]]\n"
     ]
    }
   ],
   "source": [
    "# Q2.\n",
    "print(\"R = \\n\", R)\n",
    "print(\"R_T = \\n\", transpose(R))"
   ]
  },
  {
   "cell_type": "markdown",
   "metadata": {},
   "source": [
    "### Produit matriciel\n",
    "\n",
    "* **Q1.** Écrire une fonction produit(A,B) qui prend en entrée deux matrices et renvoie le produit des deux matrices. (en supposant que celui-ci est possible)."
   ]
  },
  {
   "cell_type": "code",
   "execution_count": 10,
   "metadata": {},
   "outputs": [],
   "source": [
    "# Q1.\n",
    "def produit(A,B):\n",
    "    n, p, q = A.shape[0], A.shape[1], B.shape[1]\n",
    "    C = np.zeros((n,q))\n",
    "    for i in range(n):\n",
    "        for j in range(q):\n",
    "            for k in range(p):\n",
    "                C[i,j] += A[i,k]*B[k,j]\n",
    "    return C"
   ]
  },
  {
   "cell_type": "markdown",
   "metadata": {},
   "source": [
    "* **Q2.** Tester votre fonction avec les matrices R et S. *Faire le produit dans le bon sens !*"
   ]
  },
  {
   "cell_type": "code",
   "execution_count": 11,
   "metadata": {},
   "outputs": [
    {
     "data": {
      "text/plain": [
       "array([[ 2., -3., -3.],\n",
       "       [ 8., -9.,  0.]])"
      ]
     },
     "execution_count": 11,
     "metadata": {},
     "output_type": "execute_result"
    }
   ],
   "source": [
    "# Q2.\n",
    "produit(R, S)"
   ]
  },
  {
   "cell_type": "code",
   "execution_count": 12,
   "metadata": {},
   "outputs": [
    {
     "data": {
      "text/plain": [
       "array([[ 2, -3, -3],\n",
       "       [ 8, -9,  0]])"
      ]
     },
     "execution_count": 12,
     "metadata": {},
     "output_type": "execute_result"
    }
   ],
   "source": [
    "# avec numpy\n",
    "R @ S #np.dot(R, S)"
   ]
  },
  {
   "cell_type": "markdown",
   "metadata": {},
   "source": [
    "* **Q3.** En profiter pour calculer le cube de la matrice $T$. Que peut-on en déduire ?"
   ]
  },
  {
   "cell_type": "code",
   "execution_count": 13,
   "metadata": {},
   "outputs": [
    {
     "data": {
      "text/plain": [
       "array([[0., 0., 0.],\n",
       "       [0., 0., 0.],\n",
       "       [0., 0., 0.]])"
      ]
     },
     "execution_count": 13,
     "metadata": {},
     "output_type": "execute_result"
    }
   ],
   "source": [
    "# Q3.\n",
    "T2 = produit(T, T)\n",
    "produit(T2, T)"
   ]
  },
  {
   "cell_type": "markdown",
   "metadata": {},
   "source": [
    "<span style=\"color:blue\">**Déduction :**</span>.\n",
    "\n",
    "<span style=\"color:blue\">Il existe un vecteur $x$ tel que $T^2 x \\ne 0$; à partir de là on écrit *l'endomorphisme* représenté dans la base $\\{x, T x, T^2 x \\}$</span>.\n"
   ]
  },
  {
   "cell_type": "markdown",
   "metadata": {},
   "source": [
    "* **Q4.** Ajouter un bloc `try:...except:...` dans votre fonction qui permettra de renvoyer le texte `\"Le produit n’est pas possible ! \"` si le produit matriciel est impossible à effectuer."
   ]
  },
  {
   "cell_type": "code",
   "execution_count": 14,
   "metadata": {},
   "outputs": [],
   "source": [
    "# Q4.\n",
    "def produit(A,B):\n",
    "    n, p, q = A.shape[0], A.shape[1], B.shape[1]\n",
    "    C = np.zeros((n,q))\n",
    "    try:\n",
    "        for i in range(n):\n",
    "            for j in range(q):\n",
    "                for k in range(p):\n",
    "                    C[i,j] += A[i,k]*B[k,j]\n",
    "        return C\n",
    "    except IndexError:\n",
    "        return \"Le produit n'est pas possible!\""
   ]
  },
  {
   "cell_type": "markdown",
   "metadata": {},
   "source": [
    "* **Q5.** Tester votre fonction avec les matrices R et S. *Faire le produit dans le mauvais sens cette fois !*"
   ]
  },
  {
   "cell_type": "code",
   "execution_count": 15,
   "metadata": {},
   "outputs": [
    {
     "data": {
      "text/plain": [
       "\"Le produit n'est pas possible!\""
      ]
     },
     "execution_count": 15,
     "metadata": {},
     "output_type": "execute_result"
    }
   ],
   "source": [
    "# Q5.\n",
    "produit(S, R)"
   ]
  },
  {
   "cell_type": "markdown",
   "metadata": {},
   "source": [
    "## Exercise 2: Systèmes linéaires\n",
    "<div id=\"sec:sys_lin\"></div>\n",
    "\n",
    "* **Q1.** Écrire des fonctions `transvecLigne(A,i,j,c)`, `permutLigne(A,i,j)` et `dilatLigne(A,i,c)` telles que `transvecLigne(A,i,j,c)` modifie la matrice $A$ par l’opération $L_i \\leftarrow L_i +  c L_j$ (et des opérations similaires pour les deux autres fonctions). Ces fonctions modifient la matrice passée en argument et ne renvoient rien."
   ]
  },
  {
   "cell_type": "code",
   "execution_count": 2,
   "metadata": {},
   "outputs": [],
   "source": [
    "# Q1.\n",
    "def transvecLigne(A ,i ,j ,c):\n",
    "    \"\"\"opération L_i <-- L_i + c * L_j sur A.\"\"\"\n",
    "    A[i] += c * A[j]\n",
    "\n",
    "def permutLigne(A, i1, i2):\n",
    "    \"\"\" permute les lignes d'indices i1 et i2 de A.\"\"\"\n",
    "    A[i1], A[i2] = np.copy(A[i2]), np.copy(A[i1])\n",
    "    \n",
    "def dilatLigne(A ,i ,c):\n",
    "    \"\"\"opération L_i <-- c * L_i sur A.\"\"\"\n",
    "    A[i] *= c\n",
    "def transvecCol (A, i, j, c):\n",
    "    \"\"\" opération L_i <-- c * L_i sur A.\"\"\"\n",
    "    A[:, i] += c * A[:, j]"
   ]
  },
  {
   "cell_type": "markdown",
   "metadata": {},
   "source": [
    "* **Q2. a)** Écrire une fonction `systLin(A,B)` qui résout le système linéaire de matrice $A$ (carrée et inversible) et de second membre $B$ par la méthode du *pivot de Gauss*. La fonction ne devra modifier ni la matrice $A$, ni la matrice $B$ (il faudra en faire des copies, sur lesquelles on fera les opérations). La matrice $B$ ne sera pas nécessairement une matrice colonne (quel format doit avoir l’inconnue $X$ lorsque $B$ a $p$ colonnes ?). Quel est le résultat renvoyé lorsque l’on prend $B = I_n$ ?"
   ]
  },
  {
   "cell_type": "code",
   "execution_count": 3,
   "metadata": {},
   "outputs": [],
   "source": [
    "# Q2.a)\n",
    "def systLin(A, B):\n",
    "    n = len(A)\n",
    "    A1 = np.copy(A)\n",
    "    B1 = np.copy(B)\n",
    "    for j in range(n-1):\n",
    "        for i in range(j+1, n):\n",
    "            # pivot\n",
    "            c = A1[i, j]/A1[j, j]\n",
    "            # annuler les coeffs Ai,j pour i>j\n",
    "            transvecLigne(A1 ,i ,j ,-c)\n",
    "            transvecLigne(B1 ,i ,j ,-c)\n",
    "    \n",
    "    # phase de remontée\n",
    "    for j in range(n-1, -1, -1):\n",
    "        for i in range(j-1 ,-1 ,-1):\n",
    "            # pivot\n",
    "            c = A1[i ,j]/A1[j, j]\n",
    "            # annuler les coeffs au-dessus du diag principal\n",
    "            transvecLigne(A1 ,i ,j , -c)\n",
    "            transvecLigne(B1 ,i ,j , -c)\n",
    "        # le système est diagonale --> dilatation pour obtenir les xi\n",
    "        dilatLigne(B1 ,j ,1/A1[j,j])\n",
    "    return B1"
   ]
  },
  {
   "cell_type": "markdown",
   "metadata": {},
   "source": [
    "* <span style=\"color:blue\">**Quel format doit avoir l’inconnue $X$ lorsque $B$ a $p$ colonnes ?**</span>\n",
    "\n",
    "Si la matrice $B$ comporte $p$ colonnes, l’inconnue $X$ doit aussi en comporter $p$ ; la résolution du système $A [X_1 \\dots X_p] = [B_1 \\dots B_p]$ équivaut à la résolution des $p$ systèmes linéaires $AX_i = B_i$.\n",
    "\n",
    "\n",
    "* <span style=\"color:blue\">**Quel est le résultat renvoyé lorsque l’on prend $B = I_n$ ?**</span>\n",
    "\n",
    "\n",
    "Lorsque l'on prend $B = I_n$, la solution calculée est la matrice $A^{-1}$.\n"
   ]
  },
  {
   "cell_type": "markdown",
   "metadata": {},
   "source": [
    "* **b)** Évaluer le nombre de multiplications (ou divisions) effectuées pour la résolution du système (dans le cas où $B$ est une matrice colonne)."
   ]
  },
  {
   "cell_type": "markdown",
   "metadata": {},
   "source": [
    "<span style=\"color:blue\">**SOLUTION : b)**</span> \n",
    "\n",
    "Dans la **phase de descente** :\n",
    "* pour chaque passage dans la boucle indexée par $i$, on effectue une division et $n + 1$ multiplications.\n",
    "* pour chaque valeur de $i$ entre $j+1$ et $n-1$, il y a $(n - 1) - (j + 1) + 1 = n - j - 1$ passages dans cette boucle.\n",
    "\n",
    "L’indice j varie de 0 à $n - 1$, donc il y a $$(n+2) \\sum_{j = 0}^{n-1} \\sum_{i = j+1}^{n-1} 1 = (n+2) \\sum_{j = 0}^{n-1} (n - j - 1) \\approx (n+2) \\frac{n(n-1)}{2}$$\n",
    "\n",
    "La **phase de remontée** comporte autant d’opérations, ainsi que quelques dilatations.\n",
    "\n",
    "Au total, le nombre d’opérations est équivalent à $n^3$.\n"
   ]
  },
  {
   "cell_type": "markdown",
   "metadata": {},
   "source": [
    "* **Q3.** Dans la pratique, on rencontre parfois un pivot nul sur la diagonale principale. Il faut alors permuter la ligne correspondante avec une ligne située en-dessous pour retrouver un pivot non nul et poursuivre l’algorithme. Cette opération de permutation est intéressante même lorsque le pivot diagonal n’est pas nul : utiliser le plus grand (en valeur absolue) pivot possible permet de réduire l’effet des erreurs d’arrondi résultant des divisions par le pivot.\n",
    "\n",
    "* **a)** Tester la fonction `systLin(A,B)` sur le système linéaire :\n",
    "\n",
    "$$\\left\\{ \\begin{array}{*{5}{c}}\n",
    "\t10^{-20}x & + & y & = & 1 \\\\\n",
    "\tx & + & y & = & 2 \\\\\n",
    "\\end{array} \\right.$$\n",
    "et comparer à la véritable solution (calculée à la main)."
   ]
  },
  {
   "cell_type": "code",
   "execution_count": 4,
   "metadata": {},
   "outputs": [
    {
     "data": {
      "text/plain": [
       "array([[0.],\n",
       "       [1.]])"
      ]
     },
     "execution_count": 4,
     "metadata": {},
     "output_type": "execute_result"
    }
   ],
   "source": [
    "# Q3 a)\n",
    "A = np.array([[1e-20, 1], [1, 1]])\n",
    "B = np.array([[1.], [2]])\n",
    "systLin(A, B)"
   ]
  },
  {
   "cell_type": "markdown",
   "metadata": {},
   "source": [
    "\n",
    "La solution exacte est donnée par :\n",
    "$$x = \\dfrac{\n",
    "\\begin{vmatrix}\n",
    "1 &1 \\\\\n",
    "2 &1\n",
    "\\end{vmatrix}\n",
    "}{\\begin{vmatrix} \n",
    "10^{-20} &1 \\\\\n",
    "1 &1\n",
    "\\end{vmatrix}} = \\dfrac{-1}{10^{-20} - 1}\\approx 1 \\quad et \\quad y = \\dfrac{\n",
    "\\begin{vmatrix}\n",
    "10^{-20} &1 \\\\\n",
    "1 &2\n",
    "\\end{vmatrix}\n",
    "}{\\begin{vmatrix} \n",
    "10^{-20} &1 \\\\\n",
    "1 &1\n",
    "\\end{vmatrix}} = \\dfrac{2\\times10^{-20} - 1}{10^{-20} - 1}\\approx 1$$\n",
    "\n"
   ]
  },
  {
   "cell_type": "markdown",
   "metadata": {},
   "source": [
    "* **b)** Écrire une fonction `pivot(A,j)` qui renvoie l’indice $i$ du plus grand (en valeur absolue) des coefficients $A_{j,j} , . . . , A_{n-1,j}$ ($n$ : nombre le lignes de la matrice)."
   ]
  },
  {
   "cell_type": "code",
   "execution_count": 5,
   "metadata": {},
   "outputs": [],
   "source": [
    "# Q3 b) \n",
    "def pivot(A, j):\n",
    "    n = len(A)\n",
    "    imax = j\n",
    "    for i in range(j+1, n):\n",
    "        if abs(A[i, j]) > abs(A[imax, j]):\n",
    "            imax = i\n",
    "    return imax"
   ]
  },
  {
   "cell_type": "markdown",
   "metadata": {},
   "source": [
    "* **c)** Écrire une fonction `systLinPivot(A,B)`, spécifiée comme `systLin(A,B)`, mais qui utilise la méthode du pivot partiel."
   ]
  },
  {
   "cell_type": "code",
   "execution_count": 6,
   "metadata": {},
   "outputs": [],
   "source": [
    "# Q3 c)\n",
    "def systLinPivot(A,B):\n",
    "    n = len(A)\n",
    "    A1 = np.copy(A)\n",
    "    B1 = np.copy(B)\n",
    "    for j in range(n-1):\n",
    "        # plus grand pivot possible\n",
    "        imax = pivot(A1, j)\n",
    "        permutLigne(A1, j, imax)\n",
    "        permutLigne(B1, j, imax)\n",
    "        for i in range(j+1, n):\n",
    "            # pivot\n",
    "            c = A1[i, j]/A1[j, j]\n",
    "            # annuler les coeffs Ai,j pour i>j\n",
    "            transvecLigne(A1 ,i ,j ,-c)\n",
    "            transvecLigne(B1 ,i ,j ,-c)\n",
    "    # phase de remontée\n",
    "    for j in range(n-1, -1, -1):\n",
    "        for i in range(j-1 ,-1 ,-1):\n",
    "            # pivot\n",
    "            c = A1[i ,j]/A1[j, j]\n",
    "            # annuler les coeffs au-dessus du diag principal\n",
    "            transvecLigne(A1 ,i ,j , -c)\n",
    "            transvecLigne(B1 ,i ,j , -c)\n",
    "        # le système est diagonale --> dilatation pour obtenir les xi\n",
    "        dilatLigne(B1 ,j ,1/A1[j,j])\n",
    "    return B1"
   ]
  },
  {
   "cell_type": "markdown",
   "metadata": {},
   "source": [
    "* Tester la fonction sur le système précédent."
   ]
  },
  {
   "cell_type": "code",
   "execution_count": 7,
   "metadata": {},
   "outputs": [
    {
     "data": {
      "text/plain": [
       "array([[1.],\n",
       "       [1.]])"
      ]
     },
     "execution_count": 7,
     "metadata": {},
     "output_type": "execute_result"
    }
   ],
   "source": [
    "systLinPivot(A, B)"
   ]
  },
  {
   "cell_type": "markdown",
   "metadata": {},
   "source": [
    "* **Q4.** Écrire une fonction `determinant(A)` qui calcule le déterminant d’une matrice."
   ]
  },
  {
   "cell_type": "code",
   "execution_count": 8,
   "metadata": {},
   "outputs": [],
   "source": [
    "# Q4. \n",
    "def determinant(A):\n",
    "    n = len(A)\n",
    "    A1 = np.copy(A)\n",
    "    signe = 1\n",
    "    for j in range(n-1):\n",
    "        imax = pivot(A1, j)\n",
    "        if imax > j : # chaque échange d’une ligne avec une autre\n",
    "            # change le signe du déterminant de la matrice\n",
    "            signe = - signe\n",
    "            permutLigne(A1, j, imax)\n",
    "        for i in range(j+1, n):\n",
    "            c = A1[i, j]/A1[j, j]\n",
    "            transvecLigne(A1, i, j, -c)\n",
    "    produit = signe\n",
    "    for j in range(n):\n",
    "        produit *= A1[j, j]\n",
    "    return produit"
   ]
  },
  {
   "cell_type": "code",
   "execution_count": 9,
   "metadata": {},
   "outputs": [
    {
     "data": {
      "text/plain": [
       "-1.0"
      ]
     },
     "execution_count": 9,
     "metadata": {},
     "output_type": "execute_result"
    }
   ],
   "source": [
    "determinant(A)"
   ]
  },
  {
   "cell_type": "markdown",
   "metadata": {},
   "source": [
    "### Décomposition LU\n",
    "\n",
    "Lorsque l’on a de nombreux systèmes linéaires à résoudre avec la même matrice $A$ (inversible), il peut être judicieux de trouver une décomposition de $A$ sous la forme $A = LU$ , où $L$ est triangulaire inférieure (lower) et $U$ triangulaire supérieure (upper). En introduisant l’inconnue $Z$ définie par $Z = U Y$ , la résolution du système linéaire $AX = Y$ est alors ramenée à la résolution de deux systèmes plus simples (car triangulaires) : $LZ = Y$ et $U X = Z$.\n",
    "\n",
    "L’algorithme pour trouver cette décomposition consiste à manipuler deux suites $(L_k)_k$ et $(U_k)_k$ de matrices vérifiant $L_k U_k = A$ pour tout $k$. On initialise avec $L_0 = I_n$ et $U_0 = A$. Puis on pratique l’algorithme du pivot de Gauss sur la matrice $U$ pour la transformer en matrice échelonnée en lignes (donc triangulaire supérieure). Pour cela, on lui fait subir des opérations du type $L_i \\leftarrow L_i + \\lambda L_j$ , avec $i > j$. Autrement dit, on passe de la matrice $U_k$ à la matrice $U_{k+1}$ par une opération du type $U_{k+1} = T_{i,j,\\lambda} U_k$ (les valeurs de $i$, $j$ et $\\lambda$ changeant bien sûr à chaque étape). \n",
    "\n",
    "Pour conserver l’égalité $L_{k+1} U_{k+1} = A$, il faut alors poser $L_{k+1} = L_k T_{i,j,\\lambda}^{-1} = L_k T_{i,j,-\\lambda}$ , i.e. passer de la matrice $L_k$ à $L_{k+1}$ par l’opération $C_j \\leftarrow C_j - \\lambda C_i$.\n",
    "\n",
    "À la fin de l’algorithme, la matrice $U$ est triangulaire supérieure, et la matrice $L$ triangulaire inférieure, ses coefficients diagonaux étant tous égaux à 1. En effet, par construction, la matrice $L$ est un produit de matrices de transvections $T_{i,j,-\\lambda}$ avec à chaque fois $i \\ge j$. Ces matrices sont toutes triangulaires inférieures de coefficients diagonaux égaux à 1, donc il en est de même de leur produit.\n",
    "\n",
    "* **Q5.** Traiter à la main l’exemple de la matrice\n",
    "$$A = \\left( \\begin{array}{ccc} 1 &4 &-2 \\\\ 2 &6 &1 \\\\ 3 &5 &3 \\end{array} \\right)$$"
   ]
  },
  {
   "cell_type": "markdown",
   "metadata": {},
   "source": [
    "* <span style=\"color:blue\">**Q5. clacul à la main :**</span>\n",
    "\n",
    "L'application de l'algorith à la main donne :\n",
    "$$L = \\left( \\begin{array}{ccc} 1 &0 &0 \\\\ 2 &1 &0 \\\\ 3 &\\dfrac{7}{2} &1 \\end{array} \\right) \\quad et \\quad U = \\left( \\begin{array}{ccc} 1 &4 &-2 \\\\ 0 &-2 &5 \\\\ 0 &0 &\\dfrac{-17}{2} \\end{array} \\right)$$\n",
    "-->"
   ]
  },
  {
   "cell_type": "markdown",
   "metadata": {},
   "source": [
    "* **Q6.** Écrire une fonction `LU(A)` qui renvoie le couple `(L, U)` de la décomposition $A = LU$. Vérifier que l’on retrouve bien le résultat obtenu à la main sur l’exemple précédent.\n"
   ]
  },
  {
   "cell_type": "code",
   "execution_count": 13,
   "metadata": {},
   "outputs": [],
   "source": [
    "# Q6.\n",
    "def LU(A):\n",
    "    n = len(A)\n",
    "    L = np.identity(n) # np.eye(n)\n",
    "    U = np.copy(A)\n",
    "    for j in range(n-1):\n",
    "        for i in range(j+1, n):\n",
    "            c = U[i, j]/U[j, j]\n",
    "            transvecLigne (U, i, j, -c)\n",
    "            transvecCol(L, j, i, c)\n",
    "    return (L, U)"
   ]
  },
  {
   "cell_type": "code",
   "execution_count": 11,
   "metadata": {},
   "outputs": [
    {
     "name": "stdout",
     "output_type": "stream",
     "text": [
      "L = \n",
      " [[1.  0.  0. ]\n",
      " [2.  1.  0. ]\n",
      " [3.  3.5 1. ]]\n",
      "U = \n",
      " [[ 1.   4.  -2. ]\n",
      " [ 0.  -2.   5. ]\n",
      " [ 0.   0.  -8.5]]\n"
     ]
    }
   ],
   "source": [
    "A = np.array([[1, 4, -2], [2, 6, 1], [3, 5, 3]], dtype=np.float_)\n",
    "L, U = LU(A)\n",
    "print(\"L = \\n\", L)\n",
    "print(\"U = \\n\", U)"
   ]
  },
  {
   "cell_type": "code",
   "execution_count": 12,
   "metadata": {},
   "outputs": [
    {
     "data": {
      "text/plain": [
       "array([[ 1.,  4., -2.],\n",
       "       [ 2.,  6.,  1.],\n",
       "       [ 3.,  5.,  3.]])"
      ]
     },
     "execution_count": 12,
     "metadata": {},
     "output_type": "execute_result"
    }
   ],
   "source": [
    "np.dot(L, U)"
   ]
  },
  {
   "cell_type": "code",
   "execution_count": null,
   "metadata": {},
   "outputs": [],
   "source": []
  }
 ],
 "metadata": {
  "kernelspec": {
   "display_name": "Python 3",
   "language": "python",
   "name": "python3"
  },
  "language_info": {
   "codemirror_mode": {
    "name": "ipython",
    "version": 3
   },
   "file_extension": ".py",
   "mimetype": "text/x-python",
   "name": "python",
   "nbconvert_exporter": "python",
   "pygments_lexer": "ipython3",
   "version": "3.7.6"
  }
 },
 "nbformat": 4,
 "nbformat_minor": 4
}
