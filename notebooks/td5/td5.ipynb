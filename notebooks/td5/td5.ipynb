{
 "cells": [
  {
   "cell_type": "markdown",
   "metadata": {},
   "source": [
    "<!-- dom:TITLE: TD 5 : Fonctions et procédures -->\n",
    "# TD 5 : Fonctions et procédures\n",
    "<!-- dom:AUTHOR: Ahmed Ammar at Institut Préparatoire aux Études Scientifiques et Techniques, Université de Carthage. -->\n",
    "<!-- Author: -->  \n",
    "**Ahmed Ammar**, Institut Préparatoire aux Études Scientifiques et Techniques, Université de Carthage.\n",
    "\n",
    "\n",
    "Date: **Nov 28, 2020**\n",
    "\n",
    "<!-- TOC: on -->\n",
    "\n",
    "\n",
    "\n",
    "\n",
    "\n",
    "<!-- --- begin exercise --- -->\n",
    "\n",
    "## Exercise 1: Échange des clés et des valeurs dans un dictionnaire\n",
    "\n",
    "Écrire une fonction `inverse(dico)` qui échange les clés et les valeurs d’un dictionnaire `dico` (ce qui permettra par exemple de transformer un dictionnaire anglais/français en un dictionnaire français/anglais).On suppose que le dictionnaire ne contient pas plusieurs valeurs identiques.\n",
    "\n",
    "**Exemple :**"
   ]
  },
  {
   "cell_type": "markdown",
   "metadata": {},
   "source": [
    "```python\n",
    ">>> dico = {'Computer': 'Ordinateur',\n",
    "        'Mouse': 'Souris',\n",
    "        'Keyboard': 'Clavier', \n",
    "        'Hard disk': 'Disque dur', \n",
    "        'Screen': 'Écran'}\n",
    ">>> inverse(dico)\n",
    "{'Ordinateur': 'Computer',\n",
    " 'Souris': 'Mouse',\n",
    " 'Clavier': 'Keyboard',\n",
    " 'Disque dur': 'Hard disk',\n",
    " 'Écran': 'Screen'}\n",
    "```"
   ]
  },
  {
   "cell_type": "code",
   "execution_count": 1,
   "metadata": {},
   "outputs": [],
   "source": [
    "# %load scripts/ex1.py\n",
    "def inverse(dico):\n",
    "    \"Construction d'un nouveau dico, pas à pas\"    \n",
    "    dic_inv ={}\n",
    "    for cle in dico.keys():\n",
    "        val = dico[cle]\n",
    "        dic_inv[val] = cle\n",
    "    return dic_inv\n"
   ]
  },
  {
   "cell_type": "code",
   "execution_count": 2,
   "metadata": {},
   "outputs": [
    {
     "data": {
      "text/plain": [
       "{'Ordinateur': 'Computer',\n",
       " 'Souris': 'Mouse',\n",
       " 'Clavier': 'Keyboard',\n",
       " 'Disque dur': 'Hard disk',\n",
       " 'Écran': 'Screen'}"
      ]
     },
     "execution_count": 2,
     "metadata": {},
     "output_type": "execute_result"
    }
   ],
   "source": [
    "dico = {'Computer': 'Ordinateur',\n",
    "        'Mouse': 'Souris',\n",
    "        'Keyboard': 'Clavier', \n",
    "        'Hard disk': 'Disque dur', \n",
    "        'Screen': 'Écran'}\n",
    "inverse(dico)"
   ]
  },
  {
   "cell_type": "markdown",
   "metadata": {},
   "source": [
    "<!-- --- end exercise --- -->\n",
    "\n",
    "\n",
    "\n",
    "\n",
    "<!-- --- begin exercise --- -->\n",
    "\n",
    "## Exercise 2: Suite définie par récurrence\n",
    "\n",
    "Écrire une fonction `vn(N)`, qui pour un entier $N \\ge 1$, calcule la suite des valeurs $v_n$ définies par"
   ]
  },
  {
   "cell_type": "markdown",
   "metadata": {},
   "source": [
    "$$\n",
    "\\begin{align*}\n",
    "\\begin{cases} v_{n + 1} = \\dfrac{2 v_n + 3}{v_n +4} \\\\ v_0 = 0 \\end{cases}\n",
    "\\end{align*}\n",
    "$$"
   ]
  },
  {
   "cell_type": "markdown",
   "metadata": {},
   "source": [
    "pour $0 \\le n \\le N$ et la fonction `vn(N)` retourne la liste de tous les termes de la suite ($v_n$).\n",
    "\n",
    "<!-- --- end exercise --- -->"
   ]
  },
  {
   "cell_type": "code",
   "execution_count": 3,
   "metadata": {},
   "outputs": [],
   "source": [
    "# %load scripts/ex2.py\n",
    "## Ex2.\n",
    "def vn(N):\n",
    "    v0 = 0 # valeur v0\n",
    "    L = [0] * (N+1)\n",
    "    L[0] = v0\n",
    "    for n in range(0, N):\n",
    "        L[n+1] = (2*L[n]+3)/(L[n]+4)\n",
    "    return L\n"
   ]
  },
  {
   "cell_type": "code",
   "execution_count": 4,
   "metadata": {},
   "outputs": [
    {
     "data": {
      "text/plain": [
       "[0,\n",
       " 0.75,\n",
       " 0.9473684210526315,\n",
       " 0.9893617021276595,\n",
       " 0.9978678038379531,\n",
       " 0.9995733788395904,\n",
       " 0.9999146684870723,\n",
       " 0.9999829334061509,\n",
       " 0.9999965866695794,\n",
       " 0.9999993173334499,\n",
       " 0.9999998634666714]"
      ]
     },
     "execution_count": 4,
     "metadata": {},
     "output_type": "execute_result"
    }
   ],
   "source": [
    "vn(10)"
   ]
  },
  {
   "cell_type": "markdown",
   "metadata": {},
   "source": [
    "## Exercise 3: Calcul de Arctan(x)\n",
    "\n",
    "La valeur de $Arctan(x)$ peut être approximer par la formule suivante :"
   ]
  },
  {
   "cell_type": "markdown",
   "metadata": {},
   "source": [
    "$$\n",
    "\\begin{align*}\n",
    " Arctan(x) = \\sum_{k=0}^{+ \\infty} (-1)^k \\dfrac{x^{2k+1}}{2k+1}\n",
    "\\end{align*}\n",
    "$$"
   ]
  },
  {
   "cell_type": "markdown",
   "metadata": {},
   "source": [
    "* **Q1** Écrire la fonction `mon_arctan(x,K)` qui retourne en tuple, la valeur approximative de $Arctan(x)$ et l'erreur par rapport à la fonction `atan()` du module `math`.\n",
    "\n",
    "* **Q2** Écrire la fonction `dico_arctan()` qui retourne un dictionnaire dont les clés sont les nombres d'itérations tel que $N \\in [10, 100, 1000, 10000]$ et les valeurs sont les tuples résultats de l'appel de `mon_arctan(x,K)`.\n",
    "\n",
    "**Exemple :**"
   ]
  },
  {
   "cell_type": "markdown",
   "metadata": {},
   "source": [
    "* **Q3.** Nous aurons besoin de calculer une fois pour toute $Arctan(10^{-i})$, pour $i=0,...,8$, c’est-à-dire que l’on cherche les angles $\\theta_i \\in ]-2 \\pi,2 \\pi[$ tel que $tan(\\theta_i)=10^{-i}$. Construire et afficher la liste des valeur de $\\theta_i$.\n",
    "\n",
    "<!-- --- end exercise --- -->"
   ]
  },
  {
   "cell_type": "code",
   "execution_count": 5,
   "metadata": {},
   "outputs": [
    {
     "name": "stdout",
     "output_type": "stream",
     "text": [
      "[0.7854231608976336, 0.09966865249116201, 0.009999666686665238, 0.0009999996666668666, 9.999999966666667e-05, 9.999999999666668e-06, 9.999999999996666e-07, 9.999999999999966e-08, 1e-08]\n"
     ]
    }
   ],
   "source": [
    "# %load scripts/ex3.py\n",
    "def mon_arctan(x, N):\n",
    "    from math import atan\n",
    "    somme = 0\n",
    "    for k in range(0, N+1):\n",
    "        if k%2 == 0: # si k est pair signe +\n",
    "            somme += 1/(2*k+1) * (x **(2*k+1))\n",
    "        else: # si k est impair signe -\n",
    "            somme -= 1/(2*k+1) * (x **(2*k+1))\n",
    "    err = abs(atan(x) - somme)\n",
    "    return somme, err\n",
    "\n",
    "def dico_arctan(x):\n",
    "    listeN = [10, 100, 1000, 10000]\n",
    "    dico = {}\n",
    "    for n in listeN:\n",
    "        dico[n] = mon_arctan(x, n)\n",
    "    return dico\n",
    "\n",
    "print([mon_arctan(1/10**i, 10000)[0] for i in range(9)])\n",
    "\n"
   ]
  },
  {
   "cell_type": "code",
   "execution_count": 6,
   "metadata": {},
   "outputs": [
    {
     "data": {
      "text/plain": [
       "{10: (0.8080789523513985, 0.022680788953950204),\n",
       " 100: (0.7878733502677479, 0.0024751868702995727),\n",
       " 1000: (0.7856479135848861, 0.00024975018743778055),\n",
       " 10000: (0.7854231608976336, 2.4997500185364174e-05)}"
      ]
     },
     "execution_count": 6,
     "metadata": {},
     "output_type": "execute_result"
    }
   ],
   "source": [
    "dico_arctan(x = 1)"
   ]
  },
  {
   "cell_type": "markdown",
   "metadata": {},
   "source": [
    "<!-- --- begin exercise --- -->\n",
    "\n",
    "## Exercise 4: Compter les voyelles\n",
    "\n",
    "* **Q1** Écrire une fonction `voyelle(car)`, qui renvoie `True` si le caractère fourni en argument est une voyelle et `False` sinon.\n",
    "\n",
    "* **Q2** une fonction `compteVoyelles(phrase)`, qui renvoie le nombre de voyelles contenues dans une phrase donnée.\n",
    "\n",
    "<!-- --- end exercise --- -->"
   ]
  },
  {
   "cell_type": "code",
   "execution_count": 7,
   "metadata": {},
   "outputs": [
    {
     "name": "stdout",
     "output_type": "stream",
     "text": [
      "13\n"
     ]
    }
   ],
   "source": [
    "# %load scripts/ex4.py\n",
    "def voyelle(car):\n",
    "    \"teste si le caractère <car> est une voyelle\"\n",
    "    if car in \"AEIOUYÀÉÈÊËÎÏÔÛÙaeiouyàéèêëîïôûù\":\n",
    "        return True     \n",
    "    else:\n",
    "        return False\n",
    "\n",
    "def compteVoyelles(phrase):\n",
    "    \"compte les voyelles présentes dans la chaîne de caractères\"\n",
    "    n = 0\n",
    "    for c in phrase:\n",
    "        if voyelle(c):\n",
    "            n = n + 1 \n",
    "    return n\n",
    "\n",
    "texte =\"Maître corbeau sur un arbre perché\"\n",
    "\n",
    "print(compteVoyelles(texte))\n"
   ]
  },
  {
   "cell_type": "markdown",
   "metadata": {},
   "source": [
    "<!-- --- begin exercise --- -->\n",
    "\n",
    "## Exercise 5: calcul de durée\n",
    "\n",
    "* **Q1** Écrire une fonction `heure_to_sec(h, m, s)` qui prend en arguments trois entiers représentant une durée exprimée en heures/minutes/secondes et qui retourne cette durée exprimée en secondes.\n",
    "\n",
    "* **Q2** Écrire une fonction `sec_to_heure(s)` qui prend en argument un nombre entier de secondes et qui affiche cette durée au format `hh:mm:ss`.\n",
    "\n",
    "* **Q3** En déduire une fonction `duree(h1, m1, s1, h2, m2, s2)` qui prend en arguments six entiers représentant deux dates $d_1$ et $d_2$ et qui affiche la durée de $d_2 - d_1$ au format `hh:mm:ss` (on supposera $d_1 < d_2$).\n",
    "\n",
    "<!-- --- end exercise --- -->"
   ]
  },
  {
   "cell_type": "code",
   "execution_count": 8,
   "metadata": {},
   "outputs": [
    {
     "name": "stdout",
     "output_type": "stream",
     "text": [
      "3660\n",
      "01:01:00\n",
      "01:00:00\n"
     ]
    }
   ],
   "source": [
    "# %load scripts/ex5.py\n",
    "## Q1.\n",
    "def heure_to_sec(h, m, s):\n",
    "    return h * 3600 + m * 60 + s\n",
    "print(heure_to_sec(1, 1, 0))\n",
    "## Q2.\n",
    "def sec_to_heure(s):\n",
    "    m, s = s // 60, s % 60\n",
    "    h, m = m // 60, m % 60\n",
    "    print('{:02d}:{:02d}:{:02d}'.format(h, m, s))\n",
    "sec_to_heure(3660)\n",
    "## Q3.\n",
    "def duree(h1, m1, s1, h2, m2, s2):\n",
    "    s = heure_to_sec(h2, m2, s2) - heure_to_sec(h1, m1, s1)\n",
    "    sec_to_heure(s)\n",
    "    \n",
    "duree(11, 30, 0, 12, 30, 0)"
   ]
  }
 ],
 "metadata": {
  "kernelspec": {
   "display_name": "Python 3",
   "language": "python",
   "name": "python3"
  },
  "language_info": {
   "codemirror_mode": {
    "name": "ipython",
    "version": 3
   },
   "file_extension": ".py",
   "mimetype": "text/x-python",
   "name": "python",
   "nbconvert_exporter": "python",
   "pygments_lexer": "ipython3",
   "version": "3.7.6"
  }
 },
 "nbformat": 4,
 "nbformat_minor": 4
}
