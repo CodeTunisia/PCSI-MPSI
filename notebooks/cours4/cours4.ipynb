{
 "cells": [
  {
   "cell_type": "markdown",
   "metadata": {},
   "source": [
    "<!-- dom:TITLE: Chapitre 4 : Complexité algorithmique -->\n",
    "# Chapitre 4 : Complexité algorithmique\n",
    "<!-- dom:AUTHOR: Ahmed Ammar at Institut Préparatoire aux Études Scientifiques et Techniques, Université de Carthage. -->\n",
    "<!-- Author: -->  \n",
    "**Ahmed Ammar**, Institut Préparatoire aux Études Scientifiques et Techniques, Université de Carthage.\n",
    "\n",
    "\n",
    "Date: **Jan 8, 2021**\n",
    "\n",
    "<!-- TOC: on -->"
   ]
  },
  {
   "cell_type": "code",
   "execution_count": 65,
   "metadata": {},
   "outputs": [
    {
     "name": "stdout",
     "output_type": "stream",
     "text": [
      "1610377020.0772257\n"
     ]
    }
   ],
   "source": [
    "from time import time \n",
    "# sinon \"from time import clock\" pour certeines versions Python\n",
    "print(time())"
   ]
  },
  {
   "cell_type": "markdown",
   "metadata": {},
   "source": [
    "# Introduction\n",
    "\n",
    "**Exercice :** Écrire en python une fonction qui prend en argument une chaîne de caractères et détermine si le caractère 'a' est présent dans la chaîne (on retourne soit `True` soit `False`).\n",
    "\n",
    "Analysons plusieurs solutions :\n",
    "\n",
    "1. Première solution :"
   ]
  },
  {
   "cell_type": "code",
   "execution_count": 63,
   "metadata": {},
   "outputs": [],
   "source": [
    "def contienta1(chaine) :\n",
    "    k=0\n",
    "    N = len(chaine)\n",
    "    result = False\n",
    "    while (result == False and k < N):\n",
    "        if chaine[k] == 'a' :\n",
    "            result = True\n",
    "        k=k+1\n",
    "    return result"
   ]
  },
  {
   "cell_type": "code",
   "execution_count": 66,
   "metadata": {},
   "outputs": [
    {
     "name": "stdout",
     "output_type": "stream",
     "text": [
      "True\n",
      "0.0012042522430419922\n"
     ]
    }
   ],
   "source": [
    "t1 = time()\n",
    "print(contienta1(\"ahmed\"))\n",
    "t2 = time()\n",
    "print(t2 - t1)\n"
   ]
  },
  {
   "cell_type": "markdown",
   "metadata": {},
   "source": [
    "2. Deuxième solution :"
   ]
  },
  {
   "cell_type": "code",
   "execution_count": 17,
   "metadata": {},
   "outputs": [],
   "source": [
    "def contienta2(chaine) :\n",
    "    for i in range(len(chaine)):\n",
    "        if chaine[i] == 'a' :\n",
    "            return True\n",
    "    return False"
   ]
  },
  {
   "cell_type": "code",
   "execution_count": 67,
   "metadata": {},
   "outputs": [
    {
     "name": "stdout",
     "output_type": "stream",
     "text": [
      "True\n",
      "0.0036509037017822266\n"
     ]
    }
   ],
   "source": [
    "t1 = time()\n",
    "print(contienta2(\"ahmed\"))\n",
    "t2 = time()\n",
    "print(t2 - t1)\n"
   ]
  },
  {
   "cell_type": "markdown",
   "metadata": {},
   "source": [
    "3. Troisième solution :"
   ]
  },
  {
   "cell_type": "code",
   "execution_count": 19,
   "metadata": {},
   "outputs": [],
   "source": [
    "def contienta3(chaine) :\n",
    "    n = chaine.count('a')\n",
    "    return bool(n)"
   ]
  },
  {
   "cell_type": "code",
   "execution_count": 68,
   "metadata": {},
   "outputs": [
    {
     "name": "stdout",
     "output_type": "stream",
     "text": [
      "True\n",
      "0.004728794097900391\n"
     ]
    }
   ],
   "source": [
    "t1 = time()\n",
    "print(contienta3(\"ahmed\"))\n",
    "t2 = time()\n",
    "print(t2 - t1)\n"
   ]
  },
  {
   "cell_type": "markdown",
   "metadata": {},
   "source": [
    "4. Quatrième solution :"
   ]
  },
  {
   "cell_type": "code",
   "execution_count": 36,
   "metadata": {},
   "outputs": [],
   "source": [
    "def contienta4(chaine) :\n",
    "    return ('a' in chaine)"
   ]
  },
  {
   "cell_type": "code",
   "execution_count": 74,
   "metadata": {},
   "outputs": [
    {
     "name": "stdout",
     "output_type": "stream",
     "text": [
      "True\n",
      "0.0007836818695068359\n"
     ]
    }
   ],
   "source": [
    "t1 = time()\n",
    "print(contienta4(\"ahmed\"))\n",
    "t2 = time()\n",
    "print(t2 - t1)\n"
   ]
  },
  {
   "cell_type": "markdown",
   "metadata": {},
   "source": [
    "**Quelques questions :**\n",
    "\n",
    "* que remarquez vous concernant cet exercice ?\n",
    "\n",
    "* Le code le plus court ! Est-il meilleur ?\n",
    "\n",
    "* Comment peut-on désigner le meilleur code parmi ces quatre solutions ?\n",
    "\n",
    "**Définition :**\n",
    "\n",
    "* La complexité d’un problème mathématique $P$ est une mesure de la quantité de ressources nécessaires à la résolution du problème $P$.\n",
    "\n",
    "* Cette mesure est basée sur une estimation du nombre d’opérations de base effectuées par l’algorithme en fonction de la taille des données en entrée de l’algorithme.\n",
    "\n",
    "* Généralement, pour le même problème P, on peut trouver plusieurs algorithmes ($Alg_1$ , $Alg_2$ , .., $Alg_n$).\n",
    "\n",
    "* L’objectif de la complexité est d’évaluer **le coût d’exécution** de chaque algorithme afin de choisir le meilleur.\n",
    "\n",
    "# Calcul du coût\n",
    "Le temps d’exécution d’un programme **dépend fortement** de la machine qui l’exécute, du langage dans lequel il est écrit et de l’algorithme sous-jacent. Pour des données de grandes tailles, l’algorithme est la cause déterminante du temps d’exécution d’un programme. Des méthodes rationnelles permettent de calculer le coût d’un programme exprimé en nombre d’opérations élémentaires exécutées par la machine afin d’obtenir le résultat final. Généralement, ce nombre est fonction de la taille $n$ des données à traiter.\n",
    "\n",
    "Le coût se calcule comme suit :\n",
    "* Coût d’une opération élémentaire $op = 1$;\n",
    "\n",
    "* Coût d'une séquence de $k$ instructions $p_1$ ; $p_2$ ; ... $p_k = \\sum_{i = 1}^{k} coût(p_i)$ ;\n",
    "\n",
    "* Coût d'une structure conditionnelle simple `if c: p else : q` <= $coût(c) + max(coût(q),coût(p))$;\n",
    "\n",
    "* Coût d'une structure conditionnelle complète `if c_1: p_1 elif c_2 : p_2 ... elif c_k : p_k else : p_k+1` = $(\\sum_{i = 1}^k coût(c_i)) + \\max\\limits_{1 \\le i \\le k+1} coût(p_i)$;\n",
    "\n",
    "* Coût d'une boucle `for i in iterable : p_i` = $\\sum_{i \\in iterable} coût(pi)$;\n",
    "\n",
    "* Coût d'une boucle `while c : p` est le plus difficile à exprimer (*nombre d'itérations non connu à priori*) $\\rightarrow$ **majorer** le nombre de répétitions $\\rightarrow$  $NombreRépétitions*(coût(c)+ coût(p)) + 1 * coût(c)$.\n",
    "\n",
    "**Exemple : Calcul $x^n$ :**\n",
    "\n",
    "* Approche naïve :"
   ]
  },
  {
   "cell_type": "code",
   "execution_count": 7,
   "metadata": {},
   "outputs": [],
   "source": [
    "def puiss1(x,n):\n",
    "    r = 1                  # 1 affectation\n",
    "    for i in range(n):     # n affectations\n",
    "        r *= x             # 1 affectation + 1 multiplication\n",
    "    return r               # 1 retour"
   ]
  },
  {
   "cell_type": "markdown",
   "metadata": {},
   "source": [
    "Le Coût total = f(n) = 2n + 2.\n",
    "\n",
    "* Exponentiation rapide :"
   ]
  },
  {
   "cell_type": "code",
   "execution_count": 8,
   "metadata": {},
   "outputs": [],
   "source": [
    "def puiss2(x,n):\n",
    "    r= 1                # 1 affectation\n",
    "    u= x                # 1 affectation\n",
    "    while n != 0:       # (int(log2(n)) + 1) comparaisons\n",
    "        if n % 2 == 1:  # 2 = modulo + comparaison\n",
    "            r*= u       # 2 = multiplication + affectation\n",
    "        u*= u           # 2 = multiplication + affectation\n",
    "        n//= 2          # 2 = division + affectation\n",
    "    return r            # 1 retour"
   ]
  },
  {
   "cell_type": "markdown",
   "metadata": {},
   "source": [
    "Le Coût total = f(n) = 9 E[log2(n)]+ 3.\n",
    "\n",
    "# Complexité asymptotique\n",
    "La complexité asymptotique consiste à estimer l’ordre de grandeur du nombre d’opérations effectuées par un programme sans effectuer un décomptage minutieux. Cette complexité est exprimée en **Grand-O** (notation de Landau).\n",
    "\n",
    "Soit $f$, $g$ : $\\mathbb{N} \\rightarrow \\mathbb{R}_+^*$  deux fonctions. $f(n)$ est dite $O(g(n)) \\Rightarrow f$ est dominée par $g$ quand $n \\rightarrow + \\infty$.\n",
    "\n",
    "* $f(n)$ est $O(g(n))$ et $c$ une constante, alors :\n",
    "\n",
    " * $c + f(n)$ est aussi $O(g(n))$;\n",
    "\n",
    " * $c \\times f(n)$ est aussi $O(g(n))$.\n",
    "\n",
    " * Les facteurs constants sont ignorés dans le calcul de la complexité asymptotique.\n",
    "\n",
    "\n",
    "* $f_1(n)$ est $O(g_1(n))$ et $f_2(n)$ est $O(g_2(n))$, alors :\n",
    "\n",
    " * $f_1(n)$ + $f_2(n)$ est $O(g_1(n) + g_2(n))$;\n",
    "\n",
    " * $f_1(n) \\times f_2(n)$ est $O(g_1(n) \\times g_2(n))$.\n",
    "\n",
    "\n",
    "* $f_1(n)$ est $O(f_2(n))$ et $f_2(n)$ est $O(f_3(n))$ , alors :\n",
    "\n",
    " * $f_1(n)$ est $O(f_3(n))$.\n",
    "\n",
    "\n",
    "# Classes de complexité asymptotique\n",
    "\n",
    "<!-- dom:FIGURE:[figures/table.png, width=700 frac=0.9] -->\n",
    "<!-- begin figure -->\n",
    "\n",
    "<p></p>\n",
    "<img src=\"figures/table.png\" width=700>\n",
    "\n",
    "<!-- end figure -->\n",
    "\n",
    "\n",
    "**Exemples :**\n",
    "\n",
    "* $4*n + 100000000$ est $O(n)$.\n",
    "\n",
    "* $100*n^2 + n^{10} + 300000*n$ est $O(n^{10})$.\n",
    "\n",
    "* $2^n +n^{1000000} $ est $O(2^n)$.\n",
    "\n",
    "* $2^n + n!$ est $O(n!)$."
   ]
  },
  {
   "cell_type": "code",
   "execution_count": null,
   "metadata": {},
   "outputs": [],
   "source": []
  }
 ],
 "metadata": {
  "kernelspec": {
   "display_name": "Python 3",
   "language": "python",
   "name": "python3"
  },
  "language_info": {
   "codemirror_mode": {
    "name": "ipython",
    "version": 3
   },
   "file_extension": ".py",
   "mimetype": "text/x-python",
   "name": "python",
   "nbconvert_exporter": "python",
   "pygments_lexer": "ipython3",
   "version": "3.7.6"
  }
 },
 "nbformat": 4,
 "nbformat_minor": 4
}
