{
 "cells": [
  {
   "cell_type": "markdown",
   "metadata": {},
   "source": [
    "<!-- dom:TITLE: Chapitre 2 : Les procédures et les fonctions en Python -->\n",
    "# Chapitre 2 : Les procédures et les fonctions en Python\n",
    "<!-- dom:AUTHOR: Ahmed Ammar at Institut Préparatoire aux Études Scientifiques et Techniques, Université de Carthage. -->\n",
    "<!-- Author: -->  \n",
    "**Ahmed Ammar**, Institut Préparatoire aux Études Scientifiques et Techniques, Université de Carthage.\n",
    "\n",
    "\n",
    "Date: **Dec 6, 2020**\n",
    "\n",
    "<!-- TOC: on -->\n",
    "\n",
    "# Introduction\n",
    "En plus des alternatives conditionnelles et des boucles, on veut aussi pouvoir réutiliser à différents endroits dans le programme des blocs de séquences d'instructions sans avoir à dupliquer leur code, pouvoir définir des **sous-programmes** qui effectuent des taches particulières correspondant à des sous-parties de l'algorithme et ensuite les appeler simplement.\n",
    "\n",
    "On a déjà vu des fonctions standards Python (`print()`, `input()`, `abs()`, `len()`... ainsi que les fonctions de calcul du module `math`) et la façon de les appeler simplement en leur fournissant des valeurs comme arguments entre parenthèses.\n",
    "\n",
    "# Les procédures\n",
    "Une procédure est une série d'instructions :\n",
    "* qui porte un nom ;\n",
    "\n",
    "* qui effectue un travail dont le résultat dépend de paramètres (appelées *arguments*) ;\n",
    "\n",
    "* qui ne renvoie pas de résultat.\n",
    "\n",
    "Pour définir une procédure, on utilise le mot clé `def`."
   ]
  },
  {
   "cell_type": "markdown",
   "metadata": {},
   "source": [
    "```Python\n",
    "        def nom_de_la_procedure(par1, par2, par3,...):\n",
    "            # une indentation de 4 espaces est obligatoire\n",
    "            instruction 1\n",
    "            instruction 2\n",
    "            .............\n",
    "            instruction n\n",
    "```"
   ]
  },
  {
   "cell_type": "markdown",
   "metadata": {},
   "source": [
    "Le nom de la procédure ne doit pas faire intervenir de paramètres accentués. Le nom donné doit être en adéquation avec ce que vous voulez faire, afin d'associer à telle procédure telle utilité.\n",
    "\n",
    "**Notice.**\n",
    "\n",
    "* Les paramètres `par1, par2, par3,...` *lorsqu'ils existent* sont appelés des **paramètres positionnels**. Ce sont des paramètres obligatoirement renseignés lors de l'exécution de la procédure.\n",
    "\n",
    "* Les éventuels **paramètres optionnels** sont mis ensuite. Ceux-ci sont affectés à une valeur par défaut éventuellement modifiable lors de l'exécution de la procédure. Ils apparaissent sous la forme `par = valeur_par_defaut` et lors de l'exécution de la procédure, ils peuvent ne pas être renseignés ou figurer avec une autre valeur sous la forme `par = autre_valeur` ou directement `autre_valeur` à la bonne place dans la liste complète des paramètres de la procédure.\n",
    "\n",
    "\n",
    "\n",
    "## Exemple 1 : Procédure taille d'une liste\n",
    "Une procédure `ajout_taille()` qui ajoute la taille d'une liste au niveau de sa dernière composante :"
   ]
  },
  {
   "cell_type": "code",
   "execution_count": null,
   "metadata": {},
   "outputs": [],
   "source": [
    "def ajout_taille(L):\n",
    "    n = len(L)\n",
    "    L.append(\"taille = \" + str(n))"
   ]
  },
  {
   "cell_type": "markdown",
   "metadata": {},
   "source": [
    "On remarque que ce programme ne renvoie rien, mais modifie le contenu de la donnée `L` qui se trouve en argument.\n",
    "\n",
    "**Exemple d'utilisation :**"
   ]
  },
  {
   "cell_type": "code",
   "execution_count": null,
   "metadata": {},
   "outputs": [],
   "source": [
    "L = [1, 2, 3, 4, 5]\n",
    "ajout_taille(L)\n",
    "print(L)"
   ]
  },
  {
   "cell_type": "markdown",
   "metadata": {},
   "source": [
    "## Exemple 2 : Procédure avec plusieurs paramètres\n",
    "La fonction `tableMulti()` telle que définie ci-dessous utilise les paramètres **positionnels** `base` et `debut`, et un paramètre **optionnel** `fin=10` pour calculer par défaut les dix premiers termes de la table de multiplication correspondante."
   ]
  },
  {
   "cell_type": "code",
   "execution_count": null,
   "metadata": {},
   "outputs": [],
   "source": [
    "def tableMulti(base, debut, fin=10):\n",
    "    print('Fragment de la table de multiplication par', base, ':')\n",
    "    n = debut\n",
    "    while n <= fin :\n",
    "        print(\"{}*{} ={}\".format(n, base, n*base))\n",
    "        n = n +1"
   ]
  },
  {
   "cell_type": "markdown",
   "metadata": {},
   "source": [
    "**Exemple d'utilisation :**"
   ]
  },
  {
   "cell_type": "code",
   "execution_count": null,
   "metadata": {},
   "outputs": [],
   "source": [
    "tableMulti(8, 1)"
   ]
  },
  {
   "cell_type": "code",
   "execution_count": null,
   "metadata": {},
   "outputs": [],
   "source": [
    "tableMulti(8, 1,fin = 5)"
   ]
  },
  {
   "cell_type": "markdown",
   "metadata": {},
   "source": [
    "## Exemple 3 : Procédure interactive somme\n",
    "Une procédure interactive `somme()` pour calculer la somme de deux nombres entiers :"
   ]
  },
  {
   "cell_type": "code",
   "execution_count": null,
   "metadata": {},
   "outputs": [],
   "source": [
    "def somme():\n",
    "    print(\"Nous allons calculer la somme de deux nombres.\")\n",
    "    a = int(input(\"Entrer une première valeur : \"))\n",
    "    b = int(input(\"Entrer une deuxième valeur : \"))\n",
    "    print(\"la somme des deux valeurs est : \", a+b)"
   ]
  },
  {
   "cell_type": "markdown",
   "metadata": {},
   "source": [
    "On remarque que ce programme ne renvoie rien, mais se contente d'afficher un résultat à l'écran.\n",
    "\n",
    "**Exemple d'utilisation :**"
   ]
  },
  {
   "cell_type": "code",
   "execution_count": null,
   "metadata": {},
   "outputs": [],
   "source": [
    "somme()"
   ]
  },
  {
   "cell_type": "markdown",
   "metadata": {},
   "source": [
    "# Les fonctions\n",
    "Une fonction est une procédure qui renvoie en plus un résultat avec le mot-clé `return`. La syntaxe classique est :"
   ]
  },
  {
   "cell_type": "markdown",
   "metadata": {},
   "source": [
    "```Python\n",
    "        def nom_de_la_procedure(par1, par2, par3,...):\n",
    "            # une indentation de 4 espaces est obligatoire\n",
    "            instruction 1\n",
    "            instruction 2\n",
    "            .............\n",
    "            instruction n\n",
    "            return sortie\n",
    "```"
   ]
  },
  {
   "cell_type": "markdown",
   "metadata": {},
   "source": [
    "Tout comme les procédures, il faut adapter le nom des fonctions à leur utilité. Les remarques faites sur les paramètres optionnels ou positionnels restent valables pour les fonctions.\n",
    "\n",
    "Il faut éviter dans la mesure du possible de multiplier les syntaxes `return` au sein d'une même fonction. Si le as se présente, c'est le premier `return` rencontré qui compte.\n",
    "\n",
    "## Exemple 1 : Fonction booléenne\n",
    "Une fonction booléenne `pair()` qui teste la parité d'un entier :"
   ]
  },
  {
   "cell_type": "code",
   "execution_count": null,
   "metadata": {},
   "outputs": [],
   "source": [
    "def pair(a):\n",
    "    if a % 2 == 0:\n",
    "        return True\n",
    "    else:\n",
    "        return False"
   ]
  },
  {
   "cell_type": "markdown",
   "metadata": {},
   "source": [
    "**Exemple d'utilisation :**"
   ]
  },
  {
   "cell_type": "code",
   "execution_count": null,
   "metadata": {},
   "outputs": [],
   "source": [
    "pair(4)"
   ]
  },
  {
   "cell_type": "code",
   "execution_count": null,
   "metadata": {},
   "outputs": [],
   "source": [
    "pair(7)"
   ]
  },
  {
   "cell_type": "markdown",
   "metadata": {},
   "source": [
    "## Exemple 2 : Volume d'une sphère\n",
    "Soit le petit programme ci-dessous, lequel calcule le volume d'une sphère à l'aide de la formule que vous connaissez certainement : $V = \\dfrac{4}{3} \\pi R^3$."
   ]
  },
  {
   "cell_type": "code",
   "execution_count": null,
   "metadata": {},
   "outputs": [],
   "source": [
    "def cube(x):\n",
    "    return x**3\n",
    "def volumeSphere(r):\n",
    "    from math import pi\n",
    "    return 4 * pi * cube(r)/3"
   ]
  },
  {
   "cell_type": "markdown",
   "metadata": {},
   "source": [
    "À l'intérieur de la fonction `volumeSphere()`, il y a un appel de la fonction `cube()`.\n",
    "\n",
    "**Exemple d'utilisation :**"
   ]
  },
  {
   "cell_type": "code",
   "execution_count": null,
   "metadata": {},
   "outputs": [],
   "source": [
    "r = float(input('Entrez la valeur du rayon : '))"
   ]
  },
  {
   "cell_type": "code",
   "execution_count": null,
   "metadata": {},
   "outputs": [],
   "source": [
    "print('Le volume de cette sphère vaut', volumeSphere(r))"
   ]
  },
  {
   "cell_type": "markdown",
   "metadata": {},
   "source": [
    "# Les fonctions `lambda`\n",
    " L'opérateur `lambda` ou la fonction `lambda` est un moyen de créer de petites **fonctions anonymes**, c'est-à-dire des fonctions sans nom. Ces fonctions sont des fonctions jetables, c'est-à-dire qu'elles ne sont nécessaires que là où elles ont été créées.\n",
    "\n",
    " La syntaxe générale d'une fonction `lambda` est assez simple:"
   ]
  },
  {
   "cell_type": "markdown",
   "metadata": {},
   "source": [
    "```Python\n",
    "lambda argument_list : expression\n",
    "```"
   ]
  },
  {
   "cell_type": "markdown",
   "metadata": {},
   "source": [
    "**Exemple :**"
   ]
  },
  {
   "cell_type": "code",
   "execution_count": 1,
   "metadata": {},
   "outputs": [
    {
     "data": {
      "text/plain": [
       "7"
      ]
     },
     "execution_count": 1,
     "metadata": {},
     "output_type": "execute_result"
    }
   ],
   "source": [
    "somme = lambda x, y : x + y\n",
    "somme(3,4)"
   ]
  },
  {
   "cell_type": "markdown",
   "metadata": {},
   "source": [
    "L'exemple ci-dessus pourrait ressembler à un jouet pour un mathématicien. Un formalisme qui transforme une question facile à appréhender en un formalisme abstrait plus difficile à appréhender. Surtout, nous aurions pu avoir le même effet en utilisant simplement la définition de fonction conventionnelle suivante:"
   ]
  },
  {
   "cell_type": "code",
   "execution_count": 2,
   "metadata": {},
   "outputs": [
    {
     "data": {
      "text/plain": [
       "7"
      ]
     },
     "execution_count": 2,
     "metadata": {},
     "output_type": "execute_result"
    }
   ],
   "source": [
    "def somme(x,y):\n",
    "    return x + y\n",
    "\n",
    "somme(3,4)"
   ]
  },
  {
   "cell_type": "markdown",
   "metadata": {},
   "source": [
    "## Utilisation de la fonction `lambda` avec `filter()`\n",
    "La fonction `filter()` en Python prend une **fonction** et une **liste** comme arguments. Cela offre un moyen élégant de filtrer tous les éléments d'une **séquence**, pour laquelle la fonction renvoie `True`. Voici un petit programme qui renvoie les nombres impairs d'une liste d'entrée:"
   ]
  },
  {
   "cell_type": "code",
   "execution_count": 3,
   "metadata": {},
   "outputs": [],
   "source": [
    "def isOdd(x):\n",
    "    if x % 2 != 0:\n",
    "        return True\n",
    "    return False"
   ]
  },
  {
   "cell_type": "code",
   "execution_count": 4,
   "metadata": {},
   "outputs": [
    {
     "name": "stdout",
     "output_type": "stream",
     "text": [
      "[5, 7, 97, 77, 23, 73, 61]\n"
     ]
    }
   ],
   "source": [
    "L = [5, 7, 22, 97, 54, 62, 77, 23, 73, 61]\n",
    "print(list(filter(isOdd, L)))"
   ]
  },
  {
   "cell_type": "markdown",
   "metadata": {},
   "source": [
    "Avec une fonction `lambda`:"
   ]
  },
  {
   "cell_type": "code",
   "execution_count": 5,
   "metadata": {},
   "outputs": [
    {
     "name": "stdout",
     "output_type": "stream",
     "text": [
      "[5, 7, 97, 77, 23, 73, 61]\n"
     ]
    }
   ],
   "source": [
    "L = [5, 7, 22, 97, 54, 62, 77, 23, 73, 61]\n",
    "Lfinale =list(filter(lambda x: x % 2 != 0, L))\n",
    "print(Lfinale)"
   ]
  },
  {
   "cell_type": "markdown",
   "metadata": {},
   "source": [
    "## Utilisation de la fonction `lambda` avec `map()`\n",
    "La fonction `map()` en Python prend une fonction et une liste comme argument.\n",
    "Dans l'exemple suivant, la fonction `map()` est appelée avec une fonction `lambda` et une liste `L`. Une nouvelle liste est renvoyée qui contient tous les éléments modifiés par `lambda`."
   ]
  },
  {
   "cell_type": "code",
   "execution_count": 6,
   "metadata": {},
   "outputs": [
    {
     "name": "stdout",
     "output_type": "stream",
     "text": [
      "[10, 14, 44, 194, 108, 124, 154, 46, 146, 122]\n"
     ]
    }
   ],
   "source": [
    "L = [5, 7, 22, 97, 54, 62, 77, 23, 73, 61]\n",
    "Lfinale =list(map(lambda x: x*2, L))\n",
    "print(Lfinale)"
   ]
  },
  {
   "cell_type": "markdown",
   "metadata": {},
   "source": [
    "# Variable locale, variable globale\n",
    "\n",
    "La **portée d’une variable** provient directement de l’endroit où elle est créée. Une variable créée dans une fonction n’aura plus de visibilité lorsqu’on va quitter cette fonction.\n",
    "\n",
    "L’ordre standard lorsque l’interpréteur doit évaluer le contenu d’une variable, d’un nom :\n",
    "* espace local\n",
    "\n",
    "* espace global : lorsque la variable n’a pas été définie localement,\n",
    "\n",
    "* espace interne : les variables et fonctions de Python (`None`,`len`, . . .)"
   ]
  },
  {
   "cell_type": "code",
   "execution_count": 7,
   "metadata": {},
   "outputs": [],
   "source": [
    "def f(x):\n",
    "    print(a, x)"
   ]
  },
  {
   "cell_type": "code",
   "execution_count": 8,
   "metadata": {},
   "outputs": [
    {
     "ename": "NameError",
     "evalue": "name 'a' is not defined",
     "output_type": "error",
     "traceback": [
      "\u001b[0;31m---------------------------------------------------------------------------\u001b[0m",
      "\u001b[0;31mNameError\u001b[0m                                 Traceback (most recent call last)",
      "\u001b[0;32m<ipython-input-8-1bff2c73920e>\u001b[0m in \u001b[0;36m<module>\u001b[0;34m\u001b[0m\n\u001b[0;32m----> 1\u001b[0;31m \u001b[0mf\u001b[0m\u001b[0;34m(\u001b[0m\u001b[0;36m3\u001b[0m\u001b[0;34m)\u001b[0m\u001b[0;34m\u001b[0m\u001b[0;34m\u001b[0m\u001b[0m\n\u001b[0m",
      "\u001b[0;32m<ipython-input-7-06caa50a1dbb>\u001b[0m in \u001b[0;36mf\u001b[0;34m(x)\u001b[0m\n\u001b[1;32m      1\u001b[0m \u001b[0;32mdef\u001b[0m \u001b[0mf\u001b[0m\u001b[0;34m(\u001b[0m\u001b[0mx\u001b[0m\u001b[0;34m)\u001b[0m\u001b[0;34m:\u001b[0m\u001b[0;34m\u001b[0m\u001b[0;34m\u001b[0m\u001b[0m\n\u001b[0;32m----> 2\u001b[0;31m     \u001b[0mprint\u001b[0m\u001b[0;34m(\u001b[0m\u001b[0ma\u001b[0m\u001b[0;34m,\u001b[0m \u001b[0mx\u001b[0m\u001b[0;34m)\u001b[0m\u001b[0;34m\u001b[0m\u001b[0;34m\u001b[0m\u001b[0m\n\u001b[0m",
      "\u001b[0;31mNameError\u001b[0m: name 'a' is not defined"
     ]
    }
   ],
   "source": [
    "f(3)"
   ]
  },
  {
   "cell_type": "code",
   "execution_count": 9,
   "metadata": {},
   "outputs": [
    {
     "name": "stdout",
     "output_type": "stream",
     "text": [
      "3 2\n"
     ]
    }
   ],
   "source": [
    "a = 3\n",
    "f(2)"
   ]
  },
  {
   "cell_type": "code",
   "execution_count": 12,
   "metadata": {},
   "outputs": [
    {
     "name": "stdout",
     "output_type": "stream",
     "text": [
      "3 2\n"
     ]
    }
   ],
   "source": [
    "x = 6\n",
    "f(2)"
   ]
  },
  {
   "cell_type": "markdown",
   "metadata": {},
   "source": [
    "Comment sont modifiées les variables à l’intérieur d’une fonction ?"
   ]
  },
  {
   "cell_type": "code",
   "execution_count": 14,
   "metadata": {},
   "outputs": [],
   "source": [
    "def f():\n",
    "    a = 3. \n",
    "    print(a)"
   ]
  },
  {
   "cell_type": "code",
   "execution_count": 15,
   "metadata": {},
   "outputs": [
    {
     "name": "stdout",
     "output_type": "stream",
     "text": [
      "3.0\n"
     ]
    }
   ],
   "source": [
    "a = 1\n",
    "f()"
   ]
  },
  {
   "cell_type": "code",
   "execution_count": 16,
   "metadata": {},
   "outputs": [
    {
     "data": {
      "text/plain": [
       "1"
      ]
     },
     "execution_count": 16,
     "metadata": {},
     "output_type": "execute_result"
    }
   ],
   "source": [
    "a"
   ]
  },
  {
   "cell_type": "markdown",
   "metadata": {},
   "source": [
    "Cela semble complètement cohérent. Dans la fonction f, la variable a est créée (dans l’espace de nom de la fonction `f`) mais ne modifie pas la variable globale.On peut accéder à une variable globale dans une fonction en le spécifiant par la directive `global`."
   ]
  },
  {
   "cell_type": "code",
   "execution_count": 17,
   "metadata": {},
   "outputs": [
    {
     "name": "stdout",
     "output_type": "stream",
     "text": [
      "3\n"
     ]
    }
   ],
   "source": [
    "def f():\n",
    "    global a\n",
    "    a += 1\n",
    "    print(a)\n",
    "a = 2\n",
    "f()"
   ]
  },
  {
   "cell_type": "code",
   "execution_count": 18,
   "metadata": {},
   "outputs": [
    {
     "data": {
      "text/plain": [
       "3"
      ]
     },
     "execution_count": 18,
     "metadata": {},
     "output_type": "execute_result"
    }
   ],
   "source": [
    "a"
   ]
  },
  {
   "cell_type": "markdown",
   "metadata": {},
   "source": [
    "et si on ne précise pas"
   ]
  },
  {
   "cell_type": "markdown",
   "metadata": {},
   "source": [
    "Si l’on ne précise pas `global`, les variables globales ne peuvent être modifiées.\n",
    "\n",
    "continuons :"
   ]
  },
  {
   "cell_type": "code",
   "execution_count": 19,
   "metadata": {},
   "outputs": [
    {
     "name": "stdout",
     "output_type": "stream",
     "text": [
      "[2, 3, 4]\n",
      "[]\n"
     ]
    }
   ],
   "source": [
    "liste = [2, 3, 4]\n",
    "def f(l):\n",
    "    print(l)\n",
    "    l = []\n",
    "    print(l)\n",
    "f(liste)"
   ]
  },
  {
   "cell_type": "code",
   "execution_count": 20,
   "metadata": {},
   "outputs": [
    {
     "data": {
      "text/plain": [
       "[2, 3, 4]"
      ]
     },
     "execution_count": 20,
     "metadata": {},
     "output_type": "execute_result"
    }
   ],
   "source": [
    "liste"
   ]
  },
  {
   "cell_type": "markdown",
   "metadata": {},
   "source": [
    "mais..."
   ]
  },
  {
   "cell_type": "code",
   "execution_count": 21,
   "metadata": {},
   "outputs": [
    {
     "name": "stdout",
     "output_type": "stream",
     "text": [
      "[2, 3, 4]\n",
      "['modifie ', 3, 4]\n"
     ]
    }
   ],
   "source": [
    "def g(l):\n",
    "    print(l)\n",
    "    l[0] = 'modifie '\n",
    "    print(l)\n",
    "liste = [2, 3, 4]\n",
    "g(liste)"
   ]
  },
  {
   "cell_type": "code",
   "execution_count": 22,
   "metadata": {},
   "outputs": [
    {
     "data": {
      "text/plain": [
       "['modifie ', 3, 4]"
      ]
     },
     "execution_count": 22,
     "metadata": {},
     "output_type": "execute_result"
    }
   ],
   "source": [
    "liste"
   ]
  },
  {
   "cell_type": "markdown",
   "metadata": {},
   "source": [
    "Quelle différence entre ces deux fonctions ? le mieux est de regarder les identifiants :"
   ]
  },
  {
   "cell_type": "code",
   "execution_count": 24,
   "metadata": {},
   "outputs": [
    {
     "name": "stdout",
     "output_type": "stream",
     "text": [
      "liste  dans f :  140159969691840\n",
      "nouvelle  liste :  140159969692880\n",
      "locals() dans f = {'l': []}\n",
      "id  global :  140159969691840\n",
      "********\n",
      "liste  dans g : 140159969691840\n",
      "élément 0 dans g :  94741272167200\n",
      "élément 0 modifié dans g :  140159960745328\n",
      "liste  après modif  dans g :  140159969691840\n",
      "locals() dans g = {'l': ['modifie ', 3, 4]}\n",
      "id  global  final :  140159969691840\n",
      "élément 0 global :  140159960745328\n",
      "********\n",
      "locals() = {'__name__': '__main__', '__doc__': 'Automatically created module for IPython interactive environment', '__package__': None, '__loader__': None, '__spec__': None, '__builtin__': <module 'builtins' (built-in)>, '__builtins__': <module 'builtins' (built-in)>, '_ih': ['', 'somme = lambda x, y : x + y\\nsomme(3,4)', 'def somme(x,y):\\n    return x + y\\n\\nsomme(3,4)', 'def isOdd(x):\\n    if x % 2 != 0:\\n        return True\\n    return False', 'L = [5, 7, 22, 97, 54, 62, 77, 23, 73, 61]\\nprint(list(filter(isOdd, L)))', 'L = [5, 7, 22, 97, 54, 62, 77, 23, 73, 61]\\nLfinale =list(filter(lambda x: x % 2 != 0, L))\\nprint(Lfinale)', 'L = [5, 7, 22, 97, 54, 62, 77, 23, 73, 61]\\nLfinale =list(map(lambda x: x*2, L))\\nprint(Lfinale)', 'def f(x):\\n    print(a, x)', 'f(3)', 'a = 3\\nf(2)', 'x = 6\\nf(2)', 'x = 6\\nf(2)\\nx', 'x = 6\\nf(2)', 'a = 1\\nf()', 'def f():\\n    a = 3. \\n    print(a)', 'a = 1\\nf()', 'a', 'def f():\\n    global a\\n    a += 1\\n    print(a)\\na = 2\\nf()', 'a', 'liste = [2, 3, 4]\\ndef f(l):\\n    print(l)\\n    l = []\\n    print(l)\\nf(liste)', 'liste', \"def g(l):\\n    print(l)\\n    l[0] = 'modifie '\\n    print(l)\\nliste = [2, 3, 4]\\ng(liste)\", 'liste', 'def f(l):\\n    print(\"liste  dans f : \", id(l))\\n    l=[]\\n    print(\"nouvelle  liste : \", id(l))\\n    # variables locales\\n    print(\"locals() dans f = {}\".format(locals()))\\ndef g(l):\\n    print(\"liste  dans g :\", id(l))\\n    print(\"élément 0 dans g : \", id(l[0]))\\n    l[0] = \\'modifie \\'\\n    print(\"élément 0 modifié dans g : \", id(l[0]))\\n    print(\"liste  après modif  dans g : \", id(l))\\n    # variables locales\\n    print(\"locals() dans g = {}\".format(locals()))\\n    \\nliste = [2, 3, 4]\\nf(liste)\\nprint(\"id  global : \", id(liste))\\nprint (\"*\" * 8)\\ng(liste)\\nprint(\"id  global  final : \", id(liste))\\nprint(\"élément 0 global : \", id(liste [0]))\\n\\n#print(\"*\" * 8)\\n#print(\"locals() = {}\".format(locals()))\\n#print(\"*\" * 8)\\n#print(\"locals() == globals()? \", locals() == globals())', 'def f(l):\\n    print(\"liste  dans f : \", id(l))\\n    l=[]\\n    print(\"nouvelle  liste : \", id(l))\\n    # variables locales\\n    print(\"locals() dans f = {}\".format(locals()))\\ndef g(l):\\n    print(\"liste  dans g :\", id(l))\\n    print(\"élément 0 dans g : \", id(l[0]))\\n    l[0] = \\'modifie \\'\\n    print(\"élément 0 modifié dans g : \", id(l[0]))\\n    print(\"liste  après modif  dans g : \", id(l))\\n    # variables locales\\n    print(\"locals() dans g = {}\".format(locals()))\\n    \\nliste = [2, 3, 4]\\nf(liste)\\nprint(\"id  global : \", id(liste))\\nprint (\"*\" * 8)\\ng(liste)\\nprint(\"id  global  final : \", id(liste))\\nprint(\"élément 0 global : \", id(liste [0]))\\n\\nprint(\"*\" * 8)\\nprint(\"locals() = {}\".format(locals()))\\nprint(\"*\" * 8)\\nprint(\"locals() == globals()? \", locals() == globals())'], '_oh': {1: 7, 2: 7, 11: 6, 16: 1, 18: 3, 20: [2, 3, 4], 22: ['modifie ', 3, 4]}, '_dh': ['/home/ahmed/Bureau/notebooks/1erecours'], 'In': ['', 'somme = lambda x, y : x + y\\nsomme(3,4)', 'def somme(x,y):\\n    return x + y\\n\\nsomme(3,4)', 'def isOdd(x):\\n    if x % 2 != 0:\\n        return True\\n    return False', 'L = [5, 7, 22, 97, 54, 62, 77, 23, 73, 61]\\nprint(list(filter(isOdd, L)))', 'L = [5, 7, 22, 97, 54, 62, 77, 23, 73, 61]\\nLfinale =list(filter(lambda x: x % 2 != 0, L))\\nprint(Lfinale)', 'L = [5, 7, 22, 97, 54, 62, 77, 23, 73, 61]\\nLfinale =list(map(lambda x: x*2, L))\\nprint(Lfinale)', 'def f(x):\\n    print(a, x)', 'f(3)', 'a = 3\\nf(2)', 'x = 6\\nf(2)', 'x = 6\\nf(2)\\nx', 'x = 6\\nf(2)', 'a = 1\\nf()', 'def f():\\n    a = 3. \\n    print(a)', 'a = 1\\nf()', 'a', 'def f():\\n    global a\\n    a += 1\\n    print(a)\\na = 2\\nf()', 'a', 'liste = [2, 3, 4]\\ndef f(l):\\n    print(l)\\n    l = []\\n    print(l)\\nf(liste)', 'liste', \"def g(l):\\n    print(l)\\n    l[0] = 'modifie '\\n    print(l)\\nliste = [2, 3, 4]\\ng(liste)\", 'liste', 'def f(l):\\n    print(\"liste  dans f : \", id(l))\\n    l=[]\\n    print(\"nouvelle  liste : \", id(l))\\n    # variables locales\\n    print(\"locals() dans f = {}\".format(locals()))\\ndef g(l):\\n    print(\"liste  dans g :\", id(l))\\n    print(\"élément 0 dans g : \", id(l[0]))\\n    l[0] = \\'modifie \\'\\n    print(\"élément 0 modifié dans g : \", id(l[0]))\\n    print(\"liste  après modif  dans g : \", id(l))\\n    # variables locales\\n    print(\"locals() dans g = {}\".format(locals()))\\n    \\nliste = [2, 3, 4]\\nf(liste)\\nprint(\"id  global : \", id(liste))\\nprint (\"*\" * 8)\\ng(liste)\\nprint(\"id  global  final : \", id(liste))\\nprint(\"élément 0 global : \", id(liste [0]))\\n\\n#print(\"*\" * 8)\\n#print(\"locals() = {}\".format(locals()))\\n#print(\"*\" * 8)\\n#print(\"locals() == globals()? \", locals() == globals())', 'def f(l):\\n    print(\"liste  dans f : \", id(l))\\n    l=[]\\n    print(\"nouvelle  liste : \", id(l))\\n    # variables locales\\n    print(\"locals() dans f = {}\".format(locals()))\\ndef g(l):\\n    print(\"liste  dans g :\", id(l))\\n    print(\"élément 0 dans g : \", id(l[0]))\\n    l[0] = \\'modifie \\'\\n    print(\"élément 0 modifié dans g : \", id(l[0]))\\n    print(\"liste  après modif  dans g : \", id(l))\\n    # variables locales\\n    print(\"locals() dans g = {}\".format(locals()))\\n    \\nliste = [2, 3, 4]\\nf(liste)\\nprint(\"id  global : \", id(liste))\\nprint (\"*\" * 8)\\ng(liste)\\nprint(\"id  global  final : \", id(liste))\\nprint(\"élément 0 global : \", id(liste [0]))\\n\\nprint(\"*\" * 8)\\nprint(\"locals() = {}\".format(locals()))\\nprint(\"*\" * 8)\\nprint(\"locals() == globals()? \", locals() == globals())'], 'Out': {1: 7, 2: 7, 11: 6, 16: 1, 18: 3, 20: [2, 3, 4], 22: ['modifie ', 3, 4]}, 'get_ipython': <bound method InteractiveShell.get_ipython of <ipykernel.zmqshell.ZMQInteractiveShell object at 0x7f798df79490>>, 'exit': <IPython.core.autocall.ZMQExitAutocall object at 0x7f798cbc3c90>, 'quit': <IPython.core.autocall.ZMQExitAutocall object at 0x7f798cbc3c90>, '_': ['modifie ', 3, 4], '__': [2, 3, 4], '___': 3, '_i': 'def f(l):\\n    print(\"liste  dans f : \", id(l))\\n    l=[]\\n    print(\"nouvelle  liste : \", id(l))\\n    # variables locales\\n    print(\"locals() dans f = {}\".format(locals()))\\ndef g(l):\\n    print(\"liste  dans g :\", id(l))\\n    print(\"élément 0 dans g : \", id(l[0]))\\n    l[0] = \\'modifie \\'\\n    print(\"élément 0 modifié dans g : \", id(l[0]))\\n    print(\"liste  après modif  dans g : \", id(l))\\n    # variables locales\\n    print(\"locals() dans g = {}\".format(locals()))\\n    \\nliste = [2, 3, 4]\\nf(liste)\\nprint(\"id  global : \", id(liste))\\nprint (\"*\" * 8)\\ng(liste)\\nprint(\"id  global  final : \", id(liste))\\nprint(\"élément 0 global : \", id(liste [0]))\\n\\n#print(\"*\" * 8)\\n#print(\"locals() = {}\".format(locals()))\\n#print(\"*\" * 8)\\n#print(\"locals() == globals()? \", locals() == globals())', '_ii': 'liste', '_iii': \"def g(l):\\n    print(l)\\n    l[0] = 'modifie '\\n    print(l)\\nliste = [2, 3, 4]\\ng(liste)\", '_i1': 'somme = lambda x, y : x + y\\nsomme(3,4)', 'somme': <function somme at 0x7f79893238c0>, '_1': 7, '_i2': 'def somme(x,y):\\n    return x + y\\n\\nsomme(3,4)', '_2': 7, '_i3': 'def isOdd(x):\\n    if x % 2 != 0:\\n        return True\\n    return False', 'isOdd': <function isOdd at 0x7f7989323950>, '_i4': 'L = [5, 7, 22, 97, 54, 62, 77, 23, 73, 61]\\nprint(list(filter(isOdd, L)))', 'L': [5, 7, 22, 97, 54, 62, 77, 23, 73, 61], '_i5': 'L = [5, 7, 22, 97, 54, 62, 77, 23, 73, 61]\\nLfinale =list(filter(lambda x: x % 2 != 0, L))\\nprint(Lfinale)', 'Lfinale': [10, 14, 44, 194, 108, 124, 154, 46, 146, 122], '_i6': 'L = [5, 7, 22, 97, 54, 62, 77, 23, 73, 61]\\nLfinale =list(map(lambda x: x*2, L))\\nprint(Lfinale)', '_i7': 'def f(x):\\n    print(a, x)', 'f': <function f at 0x7f7988aadd40>, '_i8': 'f(3)', '_i9': 'a = 3\\nf(2)', 'a': 3, '_i10': 'x = 6\\nf(2)', 'x': 6, '_i11': 'x = 6\\nf(2)\\nx', '_11': 6, '_i12': 'x = 6\\nf(2)', '_i13': 'a = 1\\nf()', '_i14': 'def f():\\n    a = 3. \\n    print(a)', '_i15': 'a = 1\\nf()', '_i16': 'a', '_16': 1, '_i17': 'def f():\\n    global a\\n    a += 1\\n    print(a)\\na = 2\\nf()', '_i18': 'a', '_18': 3, '_i19': 'liste = [2, 3, 4]\\ndef f(l):\\n    print(l)\\n    l = []\\n    print(l)\\nf(liste)', 'liste': ['modifie ', 3, 4], '_i20': 'liste', '_20': [2, 3, 4], '_i21': \"def g(l):\\n    print(l)\\n    l[0] = 'modifie '\\n    print(l)\\nliste = [2, 3, 4]\\ng(liste)\", 'g': <function g at 0x7f7988aadb00>, '_i22': 'liste', '_22': ['modifie ', 3, 4], '_i23': 'def f(l):\\n    print(\"liste  dans f : \", id(l))\\n    l=[]\\n    print(\"nouvelle  liste : \", id(l))\\n    # variables locales\\n    print(\"locals() dans f = {}\".format(locals()))\\ndef g(l):\\n    print(\"liste  dans g :\", id(l))\\n    print(\"élément 0 dans g : \", id(l[0]))\\n    l[0] = \\'modifie \\'\\n    print(\"élément 0 modifié dans g : \", id(l[0]))\\n    print(\"liste  après modif  dans g : \", id(l))\\n    # variables locales\\n    print(\"locals() dans g = {}\".format(locals()))\\n    \\nliste = [2, 3, 4]\\nf(liste)\\nprint(\"id  global : \", id(liste))\\nprint (\"*\" * 8)\\ng(liste)\\nprint(\"id  global  final : \", id(liste))\\nprint(\"élément 0 global : \", id(liste [0]))\\n\\n#print(\"*\" * 8)\\n#print(\"locals() = {}\".format(locals()))\\n#print(\"*\" * 8)\\n#print(\"locals() == globals()? \", locals() == globals())', '_i24': 'def f(l):\\n    print(\"liste  dans f : \", id(l))\\n    l=[]\\n    print(\"nouvelle  liste : \", id(l))\\n    # variables locales\\n    print(\"locals() dans f = {}\".format(locals()))\\ndef g(l):\\n    print(\"liste  dans g :\", id(l))\\n    print(\"élément 0 dans g : \", id(l[0]))\\n    l[0] = \\'modifie \\'\\n    print(\"élément 0 modifié dans g : \", id(l[0]))\\n    print(\"liste  après modif  dans g : \", id(l))\\n    # variables locales\\n    print(\"locals() dans g = {}\".format(locals()))\\n    \\nliste = [2, 3, 4]\\nf(liste)\\nprint(\"id  global : \", id(liste))\\nprint (\"*\" * 8)\\ng(liste)\\nprint(\"id  global  final : \", id(liste))\\nprint(\"élément 0 global : \", id(liste [0]))\\n\\nprint(\"*\" * 8)\\nprint(\"locals() = {}\".format(locals()))\\nprint(\"*\" * 8)\\nprint(\"locals() == globals()? \", locals() == globals())'}\n",
      "********\n",
      "locals() == globals()?  True\n"
     ]
    }
   ],
   "source": [
    "def f(l):\n",
    "    print(\"liste  dans f : \", id(l))\n",
    "    l=[]\n",
    "    print(\"nouvelle  liste : \", id(l))\n",
    "    # variables locales\n",
    "    print(\"locals() dans f = {}\".format(locals()))\n",
    "def g(l):\n",
    "    print(\"liste  dans g :\", id(l))\n",
    "    print(\"élément 0 dans g : \", id(l[0]))\n",
    "    l[0] = 'modifie '\n",
    "    print(\"élément 0 modifié dans g : \", id(l[0]))\n",
    "    print(\"liste  après modif  dans g : \", id(l))\n",
    "    # variables locales\n",
    "    print(\"locals() dans g = {}\".format(locals()))\n",
    "    \n",
    "liste = [2, 3, 4]\n",
    "f(liste)\n",
    "print(\"id  global : \", id(liste))\n",
    "print (\"*\" * 8)\n",
    "g(liste)\n",
    "print(\"id  global  final : \", id(liste))\n",
    "print(\"élément 0 global : \", id(liste [0]))\n",
    "\n",
    "print(\"*\" * 8)\n",
    "print(\"locals() = {}\".format(locals()))\n",
    "print(\"*\" * 8)\n",
    "print(\"locals() == globals()? \", locals() == globals())"
   ]
  },
  {
   "cell_type": "markdown",
   "metadata": {},
   "source": [
    "avec, lorsqu’on exécute :"
   ]
  },
  {
   "cell_type": "markdown",
   "metadata": {},
   "source": [
    "```Python\n",
    "        liste  dans f :  139820132264712\n",
    "        nouvelle  liste :  139820132265160\n",
    "        id  global :  139820132264712\n",
    "        ********\n",
    "        liste  dans g : 139820132264712\n",
    "        élément 0 dans g :  9316832\n",
    "        élément 0 modifié dans g :  139820132264368\n",
    "        liste  après modif  dans g :  139820132264712\n",
    "        id  global  final :  139820132264712\n",
    "        élément 0 global :  139820132264368\n",
    "        ********\n",
    "        locals() = {'__name__': '__main__', '__doc__': None, '__package__': None, '__loader__': <_frozen_importlib_external.SourceFileLoader object at 0x7f2a69504d68>, '__spec__': None, '__annotations__': {}, '__builtins__': <module 'builtins' (built-in)>, '__file__': 'main.py', '__cached__': None, 'f': <function f at 0x7f2a695bae18>, 'g': <function g at 0x7f2a695016a8>, 'liste': ['modifie ', 3, 4]}\n",
    "        ********\n",
    "        locals() == globals()?  True\n",
    "```"
   ]
  },
  {
   "cell_type": "markdown",
   "metadata": {},
   "source": [
    "L'identifiant `l` garde bien une portée **globale** dans la seconde fonction (c’est un alias vers la liste identifiée également par `liste`) puisqu’il n’est pas défini localement. Le comportement est donc totalement logique.\n",
    "\n",
    "Pour terminer, les fonctions Python prédéfinies `globals()` et `locals()` peuvent être utilisées pour renvoyer les noms dans les espaces de noms global et local en fonction de l'emplacement d'où ils sont appelés. :\n",
    "* `globals()` renvoie un dictionnaire avec les éléments globaux sous la forme `nom :valeur`\n",
    "\n",
    "* `locals()` renvoie le dictionnaire des éléments locaux.\n",
    "\n",
    "**Notice.**\n",
    "\n",
    "On remarque que dans le dictionnaire généré par la fonction `globals()`, il existe deux types de variables globales:\n",
    "* **Cachés :** certaines variables cachées, comme `'__file__'`, `'__name__'`, ... sont affichées. Ceux-ci peuvent nous aider à comprendre l'environnement du programme.\n",
    "\n",
    "* **Définis par l'utilisateur :** la variable globale définie par l'utilisateur, nommée `'liste'`, est également présente. Il n'a pas de traits de soulignement environnants.\n",
    "\n",
    "\n",
    "\n",
    "# Écrire son module\n",
    "Lorsque nous avons les différentes parties de notre programme comme une collection de fonctions, il est très simple de créer un *module* qui peut être importé dans d'autres programmes.\n",
    "\n",
    "Quelques commentaires sur `__name__`:"
   ]
  },
  {
   "cell_type": "code",
   "execution_count": 25,
   "metadata": {},
   "outputs": [
    {
     "data": {
      "text/plain": [
       "'__main__'"
      ]
     },
     "execution_count": 25,
     "metadata": {},
     "output_type": "execute_result"
    }
   ],
   "source": [
    "__name__"
   ]
  },
  {
   "cell_type": "markdown",
   "metadata": {},
   "source": [
    "on dispose donc d’une variable donnant le nom de l’espace de nom actuel (cette variable `__name__`). Par exemple,on dispose d’un module enregistré sous le nom `mod.py` qui contient cela :"
   ]
  },
  {
   "cell_type": "markdown",
   "metadata": {},
   "source": [
    "```Python\n",
    "# MODULE : mod.py\n",
    "def f(x):\n",
    "    print(__name__)\n",
    "    return(x+2)\n",
    "```"
   ]
  },
  {
   "cell_type": "markdown",
   "metadata": {},
   "source": [
    "on l’importe dans la console :"
   ]
  },
  {
   "cell_type": "code",
   "execution_count": 26,
   "metadata": {},
   "outputs": [
    {
     "data": {
      "text/plain": [
       "'__main__'"
      ]
     },
     "execution_count": 26,
     "metadata": {},
     "output_type": "execute_result"
    }
   ],
   "source": [
    "from  mod  import *\n",
    "__name__"
   ]
  },
  {
   "cell_type": "code",
   "execution_count": 27,
   "metadata": {},
   "outputs": [
    {
     "name": "stdout",
     "output_type": "stream",
     "text": [
      "mod\n"
     ]
    },
    {
     "data": {
      "text/plain": [
       "4"
      ]
     },
     "execution_count": 27,
     "metadata": {},
     "output_type": "execute_result"
    }
   ],
   "source": [
    "f(2)"
   ]
  },
  {
   "cell_type": "markdown",
   "metadata": {},
   "source": [
    "On sait donc à un moment dans quel espace de nom on se situe. Quel est l’intérêt simple de la chose... écrire dans un module, une portion de code *qui ne sera exécutée que lorsque ce sera le module principal* : on fait régulièrement cela pour inclure plusieurs **éléments de tests** du module, ces tests n’étant réalisés que lorsqu’on exécute directement le module. Un exemple : on crée un module `calcul.py` qui contient cela :"
   ]
  },
  {
   "cell_type": "code",
   "execution_count": 28,
   "metadata": {},
   "outputs": [
    {
     "name": "stdout",
     "output_type": "stream",
     "text": [
      "exemple  de print à ne pas  faire !\n",
      "12\n",
      "abcabc\n",
      "[1, 2, 3, 1, 2, 3, 1, 2, 3]\n"
     ]
    }
   ],
   "source": [
    "# MODULE : calcul.py\n",
    "print(\"exemple  de print à ne pas  faire !\")\n",
    "# l'instruction print sera exécuté avec l'import du module!\n",
    "# ce qui n'est pas désirable!\n",
    "# DÉFINITION DES FONCTIONS\n",
    "def f(x,y):\n",
    "    \"\"\"\n",
    "    Multiplication de deux nombres x et y:\n",
    "      c'est la fonction à importé!\n",
    "    \"\"\"\n",
    "    return(x*y)\n",
    "# PARTIE DE TESTS\n",
    "if  __name__ == '__main__' :\n",
    "    print(f(3, 4))\n",
    "    print(f(\"abc\", 2))\n",
    "    print(f([1,2,3], 3))"
   ]
  },
  {
   "cell_type": "markdown",
   "metadata": {},
   "source": [
    "Lorsqu’on exécute ce module (en mode console IPython), on obtient :"
   ]
  },
  {
   "cell_type": "markdown",
   "metadata": {},
   "source": [
    "En revanche, si on importe ce module, la partie de tests n’est pas évaluée."
   ]
  },
  {
   "cell_type": "code",
   "execution_count": 29,
   "metadata": {},
   "outputs": [
    {
     "name": "stdout",
     "output_type": "stream",
     "text": [
      "exemple  de print à ne pas  faire !\n"
     ]
    }
   ],
   "source": [
    "from  calcul  import *"
   ]
  },
  {
   "cell_type": "code",
   "execution_count": 30,
   "metadata": {},
   "outputs": [
    {
     "data": {
      "text/plain": [
       "12"
      ]
     },
     "execution_count": 30,
     "metadata": {},
     "output_type": "execute_result"
    }
   ],
   "source": [
    "f(3, 4)"
   ]
  },
  {
   "cell_type": "markdown",
   "metadata": {},
   "source": [
    "# Gestion des exceptions en Python\n",
    "Réaliser certaines opérations en mathématique est parfois impossible, comme la division par zéro. Python estime par exemple que ce savoir est évident et si vous lui demandez de diviser un nombre par zéro, il ne se génera pas pour vous enguirlander.\n",
    "\n",
    "On va essayer:"
   ]
  },
  {
   "cell_type": "code",
   "execution_count": null,
   "metadata": {},
   "outputs": [],
   "source": [
    "5/0"
   ]
  },
  {
   "cell_type": "markdown",
   "metadata": {},
   "source": [
    "On remarque tout d'abord que python est certes sévère mais juste ; il nous dit pourquoi il n'est pas content: `ZeroDivisionError` .\n",
    "\n",
    "Cet exemple est sans intérêt mais il est tout à fait possible d'utiliser une variable comme dénominateur et à ce moment là comment éviter cette erreur?\n",
    "\n",
    "* Une solution serait de vérifier la valeur de la variable et **si** elle est **égale à 0**, on **annule tout**.\n",
    "\n",
    "* Une autre solution serait **d'anticiper** qu'il serait possible qu'il y ait **une erreur** et en cas d'erreur prévoir des **instructions spécifiques**.\n",
    "\n",
    "## Try except\n",
    "`try` signifie *\"essayer\"* en anglais, ce mot clé permet d'essayer une action et si l'action échoue on peut lui donner d'autres instructions dans un bloc `except` ."
   ]
  },
  {
   "cell_type": "code",
   "execution_count": null,
   "metadata": {},
   "outputs": [],
   "source": [
    "v = 0\n",
    "w = 5\n",
    "try:\n",
    "    w/v\n",
    "    print(\"Ok pas erreur\")\n",
    "except:\n",
    "    print(\"Erreur, le dénominateur ne doit pas être nul!\")"
   ]
  },
  {
   "cell_type": "markdown",
   "metadata": {},
   "source": [
    "Alors pourquoi utiliser `try` , finalement on s'en moque si il y a une erreur?\n",
    "\n",
    "Et bien pas totalement, ce genre d'erreur est **bloquante**, c'est à dire que si les instructions sont **exécutées dans un script** (module), le script s'arrête et cela devient un **bug**.\n",
    "\n",
    "## Cibler les erreurs\n",
    "La syntaxe exposée plus haut répond à tout type d'erreur, mais il est possible d'affiner la gestion d'erreur.\n",
    "\n",
    "Par exemple que se passe-t-il si nous divisons un nombre par des lettres?"
   ]
  },
  {
   "cell_type": "code",
   "execution_count": null,
   "metadata": {},
   "outputs": [],
   "source": [
    "5/\"ahmed\""
   ]
  },
  {
   "cell_type": "markdown",
   "metadata": {},
   "source": [
    "On remarque que python nous affiche une erreur mais elle est différente de celle provoquée par la division par 0. Ici l'erreur est `TypeError` .\n",
    "\n",
    "Il est possible en python d’exécuter des instructions en fonction du type d'erreur. Par exemple si la valeur est 0 on aimerait afficher un message et si le dénominateur est du texte on aimerait pouvoir afficher un autre message à l'utilisateur."
   ]
  },
  {
   "cell_type": "code",
   "execution_count": null,
   "metadata": {},
   "outputs": [],
   "source": [
    "v = 0\n",
    "w = 5\n",
    "try:\n",
    "    w/v\n",
    "    print(\"Ok pas erreur\")\n",
    "except TypeError:\n",
    "    print(\"Merci d'utiliser des chiffres\")\n",
    "except ZeroDivisionError:\n",
    "    print(\"Merci de ne pas utiliser le 0\")"
   ]
  },
  {
   "cell_type": "markdown",
   "metadata": {},
   "source": [
    "et dans le cas où la variable `v` vaut `\"ahmed\"`:"
   ]
  },
  {
   "cell_type": "code",
   "execution_count": null,
   "metadata": {},
   "outputs": [],
   "source": [
    "v = \"ahmed\"\n",
    "w = 5\n",
    "try:\n",
    "    w/v\n",
    "    print(\"Ok pas erreur\")\n",
    "except TypeError:\n",
    "    print(\"Merci d'utiliser des chiffres\")\n",
    "except ZeroDivisionError:\n",
    "    print(\"Merci de ne pas utiliser le 0\")"
   ]
  },
  {
   "cell_type": "markdown",
   "metadata": {},
   "source": [
    "## Try, except, else, finally\n",
    "Python fournit enfin un mot-clé, qui est toujours exécuté après les blocs `try` et` except`. Le bloc `finally` s'exécute toujours après la fin normale du bloc` try` ou après la fin du bloc `try` en raison d'une exception."
   ]
  },
  {
   "cell_type": "code",
   "execution_count": null,
   "metadata": {},
   "outputs": [],
   "source": [
    "def divise(x, y):\n",
    "    try:\n",
    "        # Floor Division\n",
    "        result = x // y\n",
    "    except ZeroDivisionError:\n",
    "        print(\"Désolé ! Vous divisez par zéro\")\n",
    "    except TypeError:\n",
    "        print(\"Désolé ! vous n'utilisez pas de chiffres\")\n",
    "    else:\n",
    "        print(\"Oui ! Votre réponse est :\", result)\n",
    "    finally:\n",
    "        # ce bloc est toujours exécuté\n",
    "        # quelle que soit la génération d'exceptions.\n",
    "        print('Ceci est toujours exécuté')"
   ]
  },
  {
   "cell_type": "markdown",
   "metadata": {},
   "source": [
    "Regardez les paramètres et notez le fonctionnement du programme :"
   ]
  },
  {
   "cell_type": "code",
   "execution_count": null,
   "metadata": {},
   "outputs": [],
   "source": [
    "divise(3, 2)"
   ]
  },
  {
   "cell_type": "code",
   "execution_count": null,
   "metadata": {},
   "outputs": [],
   "source": [
    "divise(3, 0)"
   ]
  },
  {
   "cell_type": "code",
   "execution_count": null,
   "metadata": {},
   "outputs": [],
   "source": [
    "divise(3, \"ahmed\")"
   ]
  },
  {
   "cell_type": "markdown",
   "metadata": {},
   "source": [
    "**Notice.**\n",
    "\n",
    "* Le code entre dans le bloc `else` uniquement si la clause `try` ne déclenche pas d'exception.\n",
    "\n",
    "\n",
    "\n",
    "* La première clause `try` est exécutée, c'est-à-dire le code entre la clause `try` et `except`.\n",
    "\n",
    "*"
   ]
  }
 ],
 "metadata": {
  "kernelspec": {
   "display_name": "Python 3",
   "language": "python",
   "name": "python3"
  },
  "language_info": {
   "codemirror_mode": {
    "name": "ipython",
    "version": 3
   },
   "file_extension": ".py",
   "mimetype": "text/x-python",
   "name": "python",
   "nbconvert_exporter": "python",
   "pygments_lexer": "ipython3",
   "version": "3.7.6"
  }
 },
 "nbformat": 4,
 "nbformat_minor": 4
}
