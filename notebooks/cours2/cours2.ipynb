{
 "cells": [
  {
   "cell_type": "markdown",
   "metadata": {},
   "source": [
    "<!-- dom:TITLE: Chapitre 2 : Les procédures et les fonctions en Python -->\n",
    "# Chapitre 2 : Les procédures et les fonctions en Python\n",
    "<!-- dom:AUTHOR: Ahmed Ammar at Institut Préparatoire aux Études Scientifiques et Techniques, Université de Carthage. -->\n",
    "<!-- Author: -->  \n",
    "**Ahmed Ammar**, Institut Préparatoire aux Études Scientifiques et Techniques, Université de Carthage.\n",
    "\n",
    "\n",
    "Date: **Nov 27, 2020**\n",
    "\n",
    "<!-- TOC: on -->"
   ]
  },
  {
   "cell_type": "markdown",
   "metadata": {},
   "source": [
    "# Introduction\n",
    "En plus des alternatives conditionnelles et des boucles, on veut aussi pouvoir réutiliser à différents endroits dans le programme des blocs de séquences d'instructions sans avoir à dupliquer leur code, pouvoir définir des **sous-programmes** qui effectuent des taches particulières correspondant à des sous-parties de l'algorithme et ensuite les appeler simplement.\n",
    "\n",
    "On a déjà vu des fonctions standards Python (`print()`, `input()`, `abs()`, `len()`... ainsi que les fonctions de calcul du module `math`) et la façon de les appeler simplement en leur fournissant des valeurs comme arguments entre parenthèses.\n",
    "\n",
    "# Les procédures\n",
    "Une procédure est une série d'instructions :\n",
    "* qui porte un nom ;\n",
    "\n",
    "* qui effectue un travail dont le résultat dépend de paramètres (appelées *arguments*) ;\n",
    "\n",
    "* qui ne renvoie pas de résultat.\n",
    "\n",
    "Pour définir une procédure, on utilise le mot clé `def`."
   ]
  },
  {
   "cell_type": "markdown",
   "metadata": {},
   "source": [
    "```python\n",
    "def nom_de_la_procedure(par1, par2, par3,...):\n",
    "    # une indentation de 4 espaces est obligatoire\n",
    "    instruction 1\n",
    "    instruction 2\n",
    "    .............\n",
    "    instruction n\n",
    "```"
   ]
  },
  {
   "cell_type": "markdown",
   "metadata": {},
   "source": [
    "Le nom de la procédure ne doit pas faire intervenir de paramètres accentués. Le nom donné doit être en adéquation avec ce que vous voulez faire, afin d'associer à telle procédure telle utilité.\n",
    "\n",
    "**Notice.**\n",
    "\n",
    "* Les paramètres `par1, par2, par3,...` *lorsqu'ils existent* sont appelés des **paramètres positionnels**. Ce sont des paramètres obligatoirement renseignés lors de l'exécution de la procédure.\n",
    "\n",
    "* Les éventuels **paramètres optionnels** sont mis ensuite. Ceux-ci sont affectés à une valeur par défaut éventuellement modifiable lors de l'exécution de la procédure. Ils apparaissent sous la forme `par = valeur_par_defaut` et lors de l'exécution de la procédure, ils peuvent ne pas être renseignés ou figurer avec une autre valeur sous la forme `par = autre_valeur` ou directement `autre_valeur` à la bonne place dans la liste complète des paramètres de la procédure.\n",
    "\n",
    "\n",
    "\n",
    "## Exemple 1 : Procédure taille d'une liste\n",
    "Une procédure `ajout_taille()` qui ajoute la taille d'une liste au niveau de sa dernière composante :"
   ]
  },
  {
   "cell_type": "code",
   "execution_count": 1,
   "metadata": {},
   "outputs": [],
   "source": [
    "def ajout_taille(L):\n",
    "    n = len(L)\n",
    "    L.append(\"taille = \" + str(n))\n",
    "    print(L)"
   ]
  },
  {
   "cell_type": "markdown",
   "metadata": {},
   "source": [
    "On remarque que ce programme ne renvoie rien, mais modifie le contenu de la donnée `L` qui se trouve en argument.\n",
    "\n",
    "**Exemple d'utilisation :**"
   ]
  },
  {
   "cell_type": "code",
   "execution_count": 2,
   "metadata": {},
   "outputs": [
    {
     "name": "stdout",
     "output_type": "stream",
     "text": [
      "[1, 2, 3, 4, 5, 'taille = 5']\n"
     ]
    }
   ],
   "source": [
    "L = [1, 2, 3, 4, 5]\n",
    "ajout_taille(L)"
   ]
  },
  {
   "cell_type": "markdown",
   "metadata": {},
   "source": [
    "## Exemple 2 : Procédure avec plusieurs paramètres\n",
    "La fonction `tableMulti()` telle que définie ci-dessous utilise les paramètres **positionnels** `base` et `debut`, et un paramètre **optionnel** `fin=10` pour calculer par défaut les dix premiers termes de la table de multiplication correspondante."
   ]
  },
  {
   "cell_type": "code",
   "execution_count": 3,
   "metadata": {},
   "outputs": [],
   "source": [
    "def tableMulti(base, debut, fin=10):\n",
    "    print('Fragment de la table de multiplication par', base, ':')\n",
    "    n = debut\n",
    "    while n <= fin :\n",
    "        print(\"{}*{} ={}\".format(n, base, n*base))\n",
    "        n = n +1"
   ]
  },
  {
   "cell_type": "markdown",
   "metadata": {},
   "source": [
    "**Exemple d'utilisation :**"
   ]
  },
  {
   "cell_type": "code",
   "execution_count": 4,
   "metadata": {},
   "outputs": [
    {
     "name": "stdout",
     "output_type": "stream",
     "text": [
      "Fragment de la table de multiplication par 4 :\n",
      "0*4 =0\n",
      "1*4 =4\n",
      "2*4 =8\n",
      "3*4 =12\n",
      "4*4 =16\n",
      "5*4 =20\n",
      "6*4 =24\n",
      "7*4 =28\n",
      "8*4 =32\n",
      "9*4 =36\n",
      "10*4 =40\n"
     ]
    }
   ],
   "source": [
    "tableMulti(4, 0)"
   ]
  },
  {
   "cell_type": "code",
   "execution_count": 6,
   "metadata": {},
   "outputs": [
    {
     "name": "stdout",
     "output_type": "stream",
     "text": [
      "Fragment de la table de multiplication par 4 :\n",
      "1*4 =4\n",
      "2*4 =8\n",
      "3*4 =12\n",
      "4*4 =16\n",
      "5*4 =20\n",
      "6*4 =24\n"
     ]
    }
   ],
   "source": [
    "tableMulti(4, 1, fin=6)"
   ]
  },
  {
   "cell_type": "markdown",
   "metadata": {},
   "source": [
    "## Exemple 3 : Procédure interactive somme\n",
    "Une procédure interactive `somme()` pour calculer la somme de deux nombres entiers :"
   ]
  },
  {
   "cell_type": "code",
   "execution_count": 7,
   "metadata": {},
   "outputs": [],
   "source": [
    "def somme():\n",
    "    print(\"Nous allons calculer la somme de deux nombres.\")\n",
    "    a = int(input(\"Entrer une première valeur : \"))\n",
    "    b = int(input(\"Entrer une deuxième valeur : \"))\n",
    "    print(\"la somme des deux valeurs est : \", a+b)"
   ]
  },
  {
   "cell_type": "markdown",
   "metadata": {},
   "source": [
    "On remarque que ce programme ne renvoie rien, mais se contente d'afficher un résultat à l'écran.\n",
    "\n",
    "**Exemple d'utilisation :**"
   ]
  },
  {
   "cell_type": "code",
   "execution_count": 8,
   "metadata": {},
   "outputs": [
    {
     "name": "stdout",
     "output_type": "stream",
     "text": [
      "Nous allons calculer la somme de deux nombres.\n",
      "Entrer une première valeur : 28\n",
      "Entrer une deuxième valeur : 193\n",
      "la somme des deux valeurs est :  221\n"
     ]
    }
   ],
   "source": [
    "somme()"
   ]
  },
  {
   "cell_type": "markdown",
   "metadata": {},
   "source": [
    "# Les fonctions\n",
    "Une fonction est une procédure qui renvoie en plus un résultat avec le mot-clé `return`. La syntaxe classique est :"
   ]
  },
  {
   "cell_type": "markdown",
   "metadata": {},
   "source": [
    "````python\n",
    "def nom_de_la_procedure(par1, par2, par3,...):\n",
    "    # une indentation de 4 espaces est obligatoire\n",
    "    instruction 1\n",
    "    instruction 2\n",
    "    .............\n",
    "    instruction n\n",
    "    return sortie\n",
    "````\n",
    "    "
   ]
  },
  {
   "cell_type": "markdown",
   "metadata": {},
   "source": [
    "Tout comme les procédures, il faut adapter le nom des fonctions à leur utilité. Les remarques faites sur les paramètres optionnels ou positionnels restent valables pour les fonctions.\n",
    "\n",
    "Il faut éviter dans la mesure du possible de multiplier les syntaxes `return` au sein d'une même fonction. Si le as se présente, c'est le premier `return` rencontré qui compte.\n",
    "\n",
    "## Exemple 1 : Fonction booléenne\n",
    "Une fonction booléenne `pair()` qui teste la parité d'un entier :"
   ]
  },
  {
   "cell_type": "code",
   "execution_count": 9,
   "metadata": {},
   "outputs": [],
   "source": [
    "def pair(a):\n",
    "    if a % 2 == 0:\n",
    "        return True\n",
    "    else:\n",
    "        return False"
   ]
  },
  {
   "cell_type": "markdown",
   "metadata": {},
   "source": [
    "**Exemple d'utilisation :**"
   ]
  },
  {
   "cell_type": "code",
   "execution_count": 10,
   "metadata": {},
   "outputs": [
    {
     "data": {
      "text/plain": [
       "True"
      ]
     },
     "execution_count": 10,
     "metadata": {},
     "output_type": "execute_result"
    }
   ],
   "source": [
    "pair(4)"
   ]
  },
  {
   "cell_type": "code",
   "execution_count": 11,
   "metadata": {},
   "outputs": [
    {
     "data": {
      "text/plain": [
       "False"
      ]
     },
     "execution_count": 11,
     "metadata": {},
     "output_type": "execute_result"
    }
   ],
   "source": [
    "pair(7)"
   ]
  },
  {
   "cell_type": "markdown",
   "metadata": {},
   "source": [
    "## Exemple 2 : Volume d'une sphère\n",
    "Soit le petit programme ci-dessous, lequel calcule le volume d'une sphère à l'aide de la formule que vous connaissez certainement : $V = \\dfrac{4}{3} \\pi R^3$."
   ]
  },
  {
   "cell_type": "code",
   "execution_count": 12,
   "metadata": {},
   "outputs": [],
   "source": [
    "def cube(x):\n",
    "    return x**3\n",
    "def volumeSphere(r):\n",
    "    from math import pi\n",
    "    return 4 * pi * cube(r)/3"
   ]
  },
  {
   "cell_type": "markdown",
   "metadata": {},
   "source": [
    "À l'intérieur de la fonction `volumeSphere()`, il y a un appel de la fonction `cube()`.\n",
    "\n",
    "**Exemple d'utilisation :**"
   ]
  },
  {
   "cell_type": "code",
   "execution_count": 13,
   "metadata": {},
   "outputs": [
    {
     "name": "stdout",
     "output_type": "stream",
     "text": [
      "Entrez la valeur du rayon : 321\n"
     ]
    }
   ],
   "source": [
    "r = float(input('Entrez la valeur du rayon : '))"
   ]
  },
  {
   "cell_type": "code",
   "execution_count": 14,
   "metadata": {},
   "outputs": [
    {
     "name": "stdout",
     "output_type": "stream",
     "text": [
      "Le volume de cette sphère vaut 138549099.20873764\n"
     ]
    }
   ],
   "source": [
    "print('Le volume de cette sphère vaut', volumeSphere(r))"
   ]
  },
  {
   "cell_type": "code",
   "execution_count": null,
   "metadata": {},
   "outputs": [],
   "source": []
  }
 ],
 "metadata": {
  "kernelspec": {
   "display_name": "Python 3",
   "language": "python",
   "name": "python3"
  },
  "language_info": {
   "codemirror_mode": {
    "name": "ipython",
    "version": 3
   },
   "file_extension": ".py",
   "mimetype": "text/x-python",
   "name": "python",
   "nbconvert_exporter": "python",
   "pygments_lexer": "ipython3",
   "version": "3.7.6"
  }
 },
 "nbformat": 4,
 "nbformat_minor": 4
}
