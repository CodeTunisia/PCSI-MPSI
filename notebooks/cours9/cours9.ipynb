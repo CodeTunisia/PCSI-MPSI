{
 "cells": [
  {
   "cell_type": "markdown",
   "metadata": {},
   "source": [
    "<!-- dom:TITLE: Chapitre 9 : Méthodes Numériques avec Python -->\n",
    "# Chapitre 9 : Méthodes Numériques avec Python\n",
    "<!-- dom:AUTHOR: Ahmed Ammar Email:ahmed.ammar@fst.utm.tn at Classes Sup : IPEST-La Marsa, Universit\\'e de Carthage. -->\n",
    "<!-- Author: -->  \n",
    "**Ahmed Ammar** (email: `ahmed.ammar@fst.utm.tn`), Classes Sup : IPEST-La Marsa, Universit\\'e de Carthage.\n",
    "\n",
    "Date: **Lundi, 31 mai 2021**\n",
    "\n",
    "<!-- TOC: on -->\n",
    "\n",
    "\n",
    "# Bibliothèque Python de visualisation des données: `matplotlib`\n",
    "`matplotlib` (<http://matplotlib.org/>) est une excellente bibliothèque graphique 2D et 3D pour générer des graphiques scientifiques. Voici quelques-uns des nombreux avantages de cette bibliothèque:\n",
    "\n",
    "* Facile à utiliser\n",
    "\n",
    "* Prise en charge des étiquettes et des textes formatés LaTeX\n",
    "\n",
    "* Un excellent contrôle des éléments d'une figure, y compris la taille et la résolution (DPI).\n",
    "\n",
    "* Sortie de haute qualité dans de nombreux formats, y compris PNG, PDF, SVG, EPS, ...\n",
    "\n",
    "* GUI (Graphical User Interface) pour explorer interactivement les figures.\n",
    "\n",
    "## Documentation en ligne et Galerie\n",
    "Vous trouverez plus d'informations, y compris une documentation complète avec une vaste galerie d'exemples, sur le site de `mtplotlib`.\n",
    "\n",
    "De nombreux utilisateurs de `matplotlib` sont souvent confrontés à la question:\n",
    "> Je veux tracer les courbes de deux fonctions ($f$ te $g$) **ressemblant** à une troisième ($h$)?\n",
    "\n",
    "\n",
    "\n",
    "\n",
    " Je souhaite bonne chance à ceux qui désirent obtenir rapidement une réponse, même avec l'aide de **google**!. C'est pourquoi la **galerie de matplotlib** (<http://matplotlib.org/gallery.html>) est si utile, car elle montre la variété des possibilités. Ainsi, vous pouvez parcourir la galerie, cliquer sur n'importe quel graphique qui comporte les éléments que vous voulez reproduire et afficher le code qui a servi à le générer. Vous deviendrez rapidement autonome, vous allez mélanger et assortir différents composants pour produire votre propre chef-d’œuvre!\n",
    "\n",
    "## Guide de Démarrage\n",
    "L'exemple ci-dessous montre comment, de manière très simple, représenter graphiquement la fonction $f(x) = y = x$."
   ]
  },
  {
   "cell_type": "code",
   "execution_count": 1,
   "metadata": {},
   "outputs": [],
   "source": [
    "%matplotlib inline\n",
    "\n",
    "# Nom Fichier: BasicPlot1.py\n",
    "# importaion\n",
    "import matplotlib.pyplot as plt\n",
    "# definir x\n",
    "x = [1, 3, 5, 6, 8, 10, 15]\n",
    "# definir y\n",
    "y=x\n",
    "# créer un nouveau graphique\n",
    "plt.figure()\n",
    "# Écrire un titre\n",
    "plt.title(\"Figure: f(x) = x\")\n",
    "#plot f(x)= x avec: ligne solide ( - ) et marqueurs ( o ) rouges ( r )\n",
    "plt.plot(x, y, '-ro')\n",
    "# Écrire un texte (label) sur l'axe des x\n",
    "plt.xlabel(\"X-Axis\")\n",
    "# Écrire un texte (label) sur l'axe des y\n",
    "plt.ylabel(\"Y-Axis\")\n",
    "#les graphiques ne seront affichés que lorsque vous appelez plt.show ()\n",
    "plt.show()"
   ]
  },
  {
   "cell_type": "markdown",
   "metadata": {},
   "source": [
    "<!-- dom:FIGURE:[images/BasicPlot1.png, width=500 frac=0.7] -->\n",
    "<!-- begin figure -->\n",
    "\n",
    "<p></p>\n",
    "<img src=\"images/BasicPlot1.png\" width=500>\n",
    "\n",
    "<!-- end figure -->\n",
    "\n",
    "\n",
    "Le graphique (`Figure`) est le conteneur de niveau supérieur dans cette hiérarchie. C'est la fenêtre/page globale sur laquelle tout est dessiné.\n",
    "Vous pouvez avoir plusieurs figures indépendantes et les graphiques peuvent contenir plusieurs `Axes`.\n",
    "\n",
    "La plupart des tracés ont lieu sur des `Axes`. C’est effectivement la zone sur laquelle nous traçons les données et les graduations/labels/etc. qui leur sont associés. Habituellement, nous configurons un `Axes` avec un appel à `Subplot` (qui place les `Axes` sur une grille régulière). Par conséquent, dans la plupart des cas, `Axes` et `Subplot` sont synonymes (figure). Chaque `Axes` ou `Subplot` a un axe X et un axe Y. Ceux-ci contiennent les graduations, les emplacements de graduations, etc.\n",
    "\n",
    "## Vues en grille\n",
    "Nous avons déjà mentionné qu’une figure peut avoir plus d’un axe. Si vous voulez que vos axes soient sur un système de grille standard, il est alors plus simple d'utiliser `plt.subplot(...)` pour créer un graphique et y ajouter les axes automatiquement."
   ]
  },
  {
   "cell_type": "markdown",
   "metadata": {},
   "source": [
    "### Nom Fichier: subplots.py\n",
    "# Importation"
   ]
  },
  {
   "cell_type": "code",
   "execution_count": 2,
   "metadata": {},
   "outputs": [
    {
     "data": {
      "image/png": "[encoded data removed]",
      "text/plain": [
       "<Figure size 360x360 with 2 Axes>"
      ]
     },
     "metadata": {
      "needs_background": "light"
     },
     "output_type": "display_data"
    }
   ],
   "source": [
    "import matplotlib.pyplot as plt\n",
    "fig1=plt.figure(figsize=(5, 5))   # Figure\n",
    "ax1=plt.subplot(211) # premier subplot dans la figure\n",
    "ax1.plot([1, 2, 3], \"-go\")\n",
    "ax1.set_xlabel(\"x1\")\n",
    "ax1.set_ylabel(\"y1\")\n",
    "ax1.set_title('subplot 211') # titre du subplot 211\n",
    "ax2=plt.subplot(212) # deuxième subplot dans la figure\n",
    "ax2.plot([4, 2, 5], \"--k*\")\n",
    "ax2.set_xlabel(\"x2\")\n",
    "ax2.set_ylabel(\"y2\")\n",
    "ax2.set_title('subplot 212') # titre du subplot 212\n",
    "\n",
    "plt.tight_layout() # Ajuster la figure\n",
    "plt.show()"
   ]
  },
  {
   "cell_type": "markdown",
   "metadata": {},
   "source": [
    "<!-- dom:FIGURE:[images/subplots.png, width=500 frac=0.7] -->\n",
    "<!-- begin figure -->\n",
    "\n",
    "<p></p>\n",
    "<img src=\"images/subplots.png\" width=500>\n",
    "\n",
    "<!-- end figure -->\n",
    "\n",
    "\n",
    "\n",
    "## Commandes de texte de base\n",
    "Les commandes suivantes permettent de créer du texte dans l'interface `pyplot`:\n",
    "* `text()` - ajoute du texte à un emplacement quelconque sur les axes; `matplotlib.axes.Axes.text()`.\n",
    "\n",
    "* `xlabel()` - ajoute une étiquette à l'axe des x; `matplotlib.axes.Axes.set_xlabel()`\n",
    "\n",
    "* `ylabel()` - ajoute une étiquette à l'axe des y; `matplotlib.axes.Axes.set_ylabel()`\n",
    "\n",
    "* `title()` - ajoute un titre aux Axes; `matplotlib.axes.Axes.set_title()`\n",
    "\n",
    "* `figtext()` - ajoute du texte à un emplacement quelconque sur la figure; `matplotlib.figure.Figure.text()`\n",
    "\n",
    "* `suptitle()` - ajoute un titre à la figure; `matplotlib.figure.Figure.suptitle()`\n",
    "\n",
    "* `annotate()` - ajoute une annotation, avec une flèche optionnelle, aux axes; `matplotlib.axes.Axes.annotate()`\n",
    "\n",
    "Toutes ces fonctions créent et renvoient une instance `matplotlib.text.Text()`, qui peut être configurée avec diverses polices et autres propriétés. L'exemple ci-dessous montre toutes ces commandes en action."
   ]
  },
  {
   "cell_type": "code",
   "execution_count": 3,
   "metadata": {},
   "outputs": [],
   "source": [
    "# Nom Fichier: BasicText.py\n",
    "# Importation\n",
    "import matplotlib.pyplot as plt\n",
    "\n",
    "fig = plt.figure()\n",
    "fig.suptitle('Sous-titre de la figure en gras', fontsize=14, fontweight='bold')\n",
    "\n",
    "ax = fig.add_subplot(111)\n",
    "fig.subplots_adjust(top=0.85)\n",
    "ax.set_title('titre des axes')\n",
    "\n",
    "ax.set_xlabel('xlabel')\n",
    "ax.set_ylabel('ylabel')\n",
    "\n",
    "ax.text(3, 8, 'texte en italique encadré par les données', style='italic',\n",
    "        bbox={'facecolor':'blue', 'alpha':0.5, 'pad':10})\n",
    "\n",
    "ax.text(2, 6, r'Une équation: $E=mc^2$', fontsize=15)\n",
    "\n",
    "\n",
    "ax.text(0.95, 0.01, \"texte en couleur sur l'axe des x\",\n",
    "        verticalalignment='bottom', horizontalalignment='right',\n",
    "        transform=ax.transAxes,\n",
    "        color='red', fontsize=14)\n",
    "\n",
    "ax.plot([2], [1], 'o')\n",
    "\n",
    "ax.annotate('annotation: point M(2,1)', xy=(2, 1), xytext=(3, 4),\n",
    "            arrowprops=dict(facecolor='black', shrink=0.05))\n",
    "\n",
    "ax.axis([0, 10, 0, 10])\n",
    "plt.grid()\n",
    "plt.show()"
   ]
  },
  {
   "cell_type": "markdown",
   "metadata": {},
   "source": [
    "<!-- dom:FIGURE:[images/BasicText.png, width=500 frac=0.7] -->\n",
    "<!-- begin figure -->\n",
    "\n",
    "<p></p>\n",
    "<img src=\"images/BasicText.png\" width=500>\n",
    "\n",
    "<!-- end figure -->\n",
    "\n",
    "\n",
    "## Styles de lignes et de marqueurs\n",
    "Pour changer la largeur de ligne, nous pouvons utiliser l'argument de mot-clé `linewidth` ou `lw`, et le style de ligne peut être sélectionné à l'aide des arguments de mot-clé `linestyle` ou `ls`:"
   ]
  },
  {
   "cell_type": "code",
   "execution_count": 4,
   "metadata": {},
   "outputs": [],
   "source": [
    "# Nom Fichier: LineandMarkerStyles.py\n",
    "# Importation\n",
    "import matplotlib.pyplot as plt\n",
    "import numpy as np\n",
    "x = np.linspace(0, 5, 10)\n",
    "fig, ax = plt.subplots()\n",
    "\n",
    "ax.plot(x, x+1, color=\"blue\", linewidth=0.25)\n",
    "ax.plot(x, x+2, color=\"blue\", linewidth=0.50)\n",
    "ax.plot(x, x+3, color=\"blue\", linewidth=1.00)\n",
    "ax.plot(x, x+4, color=\"blue\", linewidth=2.00)\n",
    "\n",
    "# possible linestype options '-', '-.', ':', 'steps'\n",
    "ax.plot(x, x+5, color=\"red\", lw=2, linestyle='-')\n",
    "ax.plot(x, x+6, color=\"red\", lw=2, ls='-.')\n",
    "ax.plot(x, x+7, color=\"red\", lw=2, ls=':')\n",
    "\n",
    "# custom dash\n",
    "line, = ax.plot(x, x+8, color=\"black\", lw=1.50)\n",
    "line.set_dashes([5, 10, 15, 10]) # format: line length, space length, ...\n",
    "\n",
    "# possible marker symbols: marker = '+', 'o', '*', 's', ',', '.', '1', '2', '3', '4', ...\n",
    "ax.plot(x, x+ 9, color=\"green\", lw=2, ls='-.', marker='+')\n",
    "ax.plot(x, x+10, color=\"green\", lw=2, ls='-.', marker='o')\n",
    "ax.plot(x, x+11, color=\"green\", lw=2, ls='-.', marker='s')\n",
    "ax.plot(x, x+12, color=\"green\", lw=2, ls='-.', marker='1')\n",
    "\n",
    "# marker size and color\n",
    "ax.plot(x, x+13, color=\"purple\", lw=1, ls='-', marker='o', markersize=2)\n",
    "ax.plot(x, x+14, color=\"purple\", lw=1, ls='-', marker='o', markersize=4)\n",
    "ax.plot(x, x+15, color=\"purple\", lw=1, ls='-', marker='o', markersize=8, markerfacecolor=\"red\")\n",
    "ax.plot(x, x+16, color=\"purple\", lw=1, ls='-', marker='s', markersize=8, \n",
    "        markerfacecolor=\"yellow\", markeredgewidth=2, markeredgecolor=\"blue\")\n",
    "# make a title for the subplot\n",
    "ax.set_title('\"ax.plot(x, y, ...)\": Lines and/or markers', fontsize=16, weight='bold')\n",
    "# make x and y axis label and set their font size and weight\n",
    "ax.set_xlabel(\"X-Axis\", fontsize=12, weight='bold')\n",
    "ax.set_ylabel(\"Y-Axis\", fontsize=12, weight='bold')\n",
    "plt.show()"
   ]
  },
  {
   "cell_type": "markdown",
   "metadata": {},
   "source": [
    "<!-- dom:FIGURE:[images/LineandMarkerStyles.png, width=500 frac=0.7] -->\n",
    "<!-- begin figure -->\n",
    "\n",
    "<p></p>\n",
    "<img src=\"images/LineandMarkerStyles.png\" width=500>\n",
    "\n",
    "<!-- end figure -->\n",
    "\n",
    "\n",
    "## Colormap : Tracés contour, Imshow et 3D\n",
    "\n",
    "Voir la documentation de matplotlib colormaps <http://matplotlib.org/users/colormaps.html>.\n",
    "\n",
    "### Tracés contour"
   ]
  },
  {
   "cell_type": "code",
   "execution_count": 5,
   "metadata": {},
   "outputs": [],
   "source": [
    "# Nom Fichier: ContourPlot.py\n",
    "# Importation\n",
    "import numpy as np\n",
    "import matplotlib.pyplot as plt\n",
    "\n",
    "def f(x,y):\n",
    "    return (1 - x / 2 + x**5 + y**3) * np.exp(-x**2 -y**2)\n",
    "\n",
    "n = 256\n",
    "x = np.linspace(-3, 3, n)\n",
    "y = np.linspace(-3, 3, n)\n",
    "X,Y = np.meshgrid(x, y)\n",
    "\n",
    "# Surface\n",
    "S = plt.contourf(X, Y, f(X, Y), 8, cmap='plasma')\n",
    "# Contour\n",
    "C = plt.contour(X, Y, f(X, Y), 8, colors='black')\n",
    "plt.clabel(C, inline=1, fontsize=10)\n",
    "\n",
    "plt.colorbar(S) # afficher la barre de couleurs\n",
    "plt.show()"
   ]
  },
  {
   "cell_type": "markdown",
   "metadata": {},
   "source": [
    "<!-- dom:FIGURE:[images/ContourPlot.png, width=500 frac=0.7] -->\n",
    "<!-- begin figure -->\n",
    "\n",
    "<p></p>\n",
    "<img src=\"images/ContourPlot.png\" width=500>\n",
    "\n",
    "<!-- end figure -->\n",
    "\n",
    "\n",
    "### Imshow (Image pixelisée)"
   ]
  },
  {
   "cell_type": "code",
   "execution_count": 3,
   "metadata": {},
   "outputs": [
    {
     "data": {
      "image/png": "[encoded data removed]",
      "text/plain": [
       "<Figure size 432x288 with 2 Axes>"
      ]
     },
     "metadata": {
      "needs_background": "light"
     },
     "output_type": "display_data"
    }
   ],
   "source": [
    "# Nom Fichier: Imshow.py\n",
    "# Importation\n",
    "import numpy as np\n",
    "import matplotlib.pyplot as plt\n",
    "\n",
    "def f(x, y):\n",
    "    return (1 - x / 2 + x ** 5 + y ** 3 ) * np.exp(-x ** 2 - y ** 2)\n",
    "\n",
    "n = 100\n",
    "x = np.linspace(-3, 3, n)\n",
    "y = np.linspace(-3, 3, n)\n",
    "X, Y = np.meshgrid(x, y)\n",
    "Z = f(X, Y)\n",
    "# Image\n",
    "im = plt.imshow(Z, interpolation='nearest', cmap='gray', origin='lower')\n",
    "\n",
    "plt.colorbar(im)\n",
    "plt.show()"
   ]
  },
  {
   "cell_type": "markdown",
   "metadata": {},
   "source": [
    "<!-- dom:FIGURE:[images/Imshow.png, width=500 frac=0.7] -->\n",
    "<!-- begin figure -->\n",
    "\n",
    "<p></p>\n",
    "<img src=\"images/Imshow.png\" width=500>\n",
    "\n",
    "<!-- end figure -->\n",
    "\n",
    "\n",
    "### Tracé en 3D"
   ]
  },
  {
   "cell_type": "code",
   "execution_count": 7,
   "metadata": {},
   "outputs": [],
   "source": [
    "# Nom Fichier: Plot3D.py\n",
    "# Importation\n",
    "import numpy as np\n",
    "import matplotlib.pyplot as plt\n",
    "from mpl_toolkits.mplot3d import Axes3D\n",
    "def f(x, y):\n",
    "    return (1 - x / 2 + x ** 5 + y ** 3 ) * np.exp(-x ** 2 - y ** 2)\n",
    "n = 100\n",
    "x = np.linspace(-3, 3, n)\n",
    "y = np.linspace(-3, 3, n)\n",
    "X, Y = np.meshgrid(x, y)\n",
    "Z = f(X,Y)\n",
    "fig = plt.figure()\n",
    "ax = Axes3D(fig)\n",
    "S = ax.plot_surface(X, Y, Z, cmap=\"viridis\")\n",
    "ax.contourf(X, Y, Z, zdir='z', offset=-1, cmap=\"viridis\")\n",
    "ax.set_zlim(-1, 1)\n",
    "plt.colorbar(S, shrink=0.5)\n",
    "plt.show()"
   ]
  },
  {
   "cell_type": "markdown",
   "metadata": {},
   "source": [
    "<!-- dom:FIGURE:[images/Plot3D.png, width=500 frac=0.7] -->\n",
    "<!-- begin figure -->\n",
    "\n",
    "<p></p>\n",
    "<img src=\"images/Plot3D.png\" width=500>\n",
    "\n",
    "<!-- end figure -->\n",
    "\n",
    "\n",
    "## Quiver plot\n",
    "`plt.quiver` est parfait si vous tracez un champ de vecteurs en 2D. Étant donné les composantes x et y des vecteurs, il trace des flèches dans la direction correspondante."
   ]
  },
  {
   "cell_type": "code",
   "execution_count": 8,
   "metadata": {},
   "outputs": [],
   "source": [
    "xComponents = np.random.rand(3, 3) # une matrice 3x3 de nombres aléatoires entre (0, 1)\n",
    "yComponents = np.random.rand(3, 3)\n",
    "\n",
    "plt.quiver(xComponents, yComponents)\n",
    "plt.show()"
   ]
  },
  {
   "cell_type": "markdown",
   "metadata": {},
   "source": [
    "<!-- dom:FIGURE:[images/quiverplot1.png, width=500 frac=0.7] -->\n",
    "<!-- begin figure -->\n",
    "\n",
    "<p></p>\n",
    "<img src=\"images/quiverplot1.png\" width=500>\n",
    "\n",
    "<!-- end figure -->\n",
    "\n",
    "\n",
    "Les positions des flèches peuvent également être assignées par des matrices de coordonnées 2D créées à l'aide de `np.meshgrid`. En outre, les flèches peuvent être codées en couleur à l'aide du paramètre `C`."
   ]
  },
  {
   "cell_type": "code",
   "execution_count": 9,
   "metadata": {},
   "outputs": [],
   "source": [
    "x2 = np.linspace(-np.pi, np.pi, 30) # x-values\n",
    "y2 = np.linspace(-np.pi, np.pi, 30) # y-values\n",
    "xx2, yy2 = np.meshgrid(x2, y2)      # coordonnées x et y du point de grille\n",
    "\n",
    "U = np.sin(xx2) # composante x des flèches\n",
    "V = np.cos(yy2) # composante y des flèches\n",
    "C4 = np.linalg.norm(np.array([U, V]), axis=0) # la magnitude absolue des flèches\n",
    "# Plot quivers (flèches) coordonnées spécifiées avec code couleur\n",
    "plt.quiver(xx2, yy2, U, V, C4)\n",
    "# Barre de couleurs reflétant l'ampleur de chaque couleur\n",
    "plt.colorbar()\n",
    "plt.show()"
   ]
  },
  {
   "cell_type": "markdown",
   "metadata": {},
   "source": [
    "<!-- dom:FIGURE:[images/quiverplot2.png, width=500 frac=0.7] -->\n",
    "<!-- begin figure -->\n",
    "\n",
    "<p></p>\n",
    "<img src=\"images/quiverplot2.png\" width=500>\n",
    "\n",
    "<!-- end figure -->\n",
    "\n",
    "\n",
    "## Streamplot\n",
    "Un `streamplot` peut être utilisé pour afficher un flux vectoriel 2D."
   ]
  },
  {
   "cell_type": "code",
   "execution_count": 10,
   "metadata": {},
   "outputs": [],
   "source": [
    "xValues = np.linspace(-1, 1, 100)\n",
    "yValues = np.linspace(-1, 1, 100)\n",
    "xx, yy = np.meshgrid(xValues, yValues) # x and y grid point coordinates\n",
    "xComponents = xx**2 + yy # Define x-components of the vectors\n",
    "yComponents = xx - yy**2 # Define y-components of the vectors\n",
    "plt.streamplot(xx, yy, xComponents, yComponents)\n",
    "plt.show()"
   ]
  },
  {
   "cell_type": "markdown",
   "metadata": {},
   "source": [
    "<!-- dom:FIGURE:[images/streamplot.png, width=500 frac=0.7] -->\n",
    "<!-- begin figure -->\n",
    "\n",
    "<p></p>\n",
    "<img src=\"images/streamplot.png\" width=500>\n",
    "\n",
    "<!-- end figure -->\n",
    "\n",
    "\n",
    "# Différentiation numérique\n",
    "Soit $f$ une application réelle dérivable sur un intervalle ouvert $]a,b[$ non vide. La définition du nombre de la dérivée $f'(x)$ en $x \\in ]a,b[$ fournit implicitement une méthode de calcul **approché** de $f'(x)$.\n",
    "\n",
    "<!-- dom:FIGURE:[images/derivee.png, width=500 frac=0.5] -->\n",
    "<!-- begin figure -->\n",
    "\n",
    "<p></p>\n",
    "<img src=\"images/derivee.png\" width=500>\n",
    "\n",
    "<!-- end figure -->\n",
    "\n",
    "\n",
    "Le quotient différentiel est appelé *différence décentrée à droite* pour $h$ (pas de l'intervalle) suffisamment petit\n",
    "$$f'(x) \\approx \\dfrac{f(x + h) - f(x)}{h}$$\n",
    "On peut tout aussi bien choisir une *différence décentrée à gauche*\n",
    "$$f'(x) \\approx \\dfrac{f(x) - f(x - h)}{h}$$\n",
    "Dans le cas où $f$ n'est dérivable qu'à droite (resp. gauche) en $x$, on devra s'obliger à faire tendre $h$ vers zéro par valeurs supérieures (resp. inférieures).\n",
    "\n",
    "Si une fonction admet une dérivée à droite et une dérivée à gauche , alors elle admet une *dérivée symétrique* appelée aussi **différence finie** centrée"
   ]
  },
  {
   "cell_type": "markdown",
   "metadata": {},
   "source": [
    "$$\n",
    "\\begin{align*}\n",
    "f'_d(a) &= \\lim\\limits_{h \\rightarrow 0^+} \\dfrac{f(a + h) - f(a)}{h}\\\\\n",
    "f'_g(a) &= \\lim\\limits_{h \\rightarrow 0^-} \\dfrac{f(a + h) - f(a)}{h} = \\lim\\limits_{h \\rightarrow 0^+} \\dfrac{f(a - h) - f(a)}{-h}\\\\\n",
    "f'_s(a) &= \\lim\\limits_{h \\rightarrow 0} \\dfrac{f(a + h) - f(a) + f(a) - f(a - h)}{2h}\n",
    "\\end{align*}\n",
    "$$"
   ]
  },
  {
   "cell_type": "markdown",
   "metadata": {},
   "source": [
    "Ainsi, dans le cas de bonnes fonctions, régulières, pour des raisons qu'il est aisé de vérifier géométriquement, une meilleure approximation de $f'(x)$ est donnée par la formule de *dérivée symétrique* :\n",
    "$$f'(x) \\approx \\dfrac{f(x + h) - f(x-h)}{2h}$$\n",
    "\n",
    "# Recherche des zéros d'une fonction\n",
    "## Méthode par dichotomie\n",
    "D'un point de vue mathématique, nous considérons une fonction continue\n",
    "$f : [a, b] \\rightarrow \\mathbb{R}$ telle que $f(a)$ et $f(b)$ soient de signes opposés, ce qui se traduit par la relation : $f(a)\\times f(b) \\le 0 $. Le\n",
    "théorème des valeurs intermédiaires assure alors qu’il existe un réel $c \\in [a, b]$\n",
    "\n",
    "<!-- dom:FIGURE:[images/dichotomie.png, width=500 frac=0.6] -->\n",
    "<!-- begin figure -->\n",
    "\n",
    "<p></p>\n",
    "<img src=\"images/dichotomie.png\" width=500>\n",
    "\n",
    "<!-- end figure -->\n",
    "\n",
    "\n",
    "Le principe de la recherche dichotomique consiste à calculer $f(\\dfrac{a+b}{2})$. Suivant le signe de cette quantité l’une des deux relations est nécessairement vérifiée :\n",
    "$$f(a)\\times f(\\dfrac{a+b}{2}) \\le 0 \\quad ou \\quad f(\\dfrac{a+b}{2}) \\times f(b) \\le 0$$\n",
    "Le premier cas assure l’existence d’une racine dans l’intervalle $\\left[a, f(\\dfrac{a+b}{2})\\right]$, le second dans l’intervalle $\\left[f(\\dfrac{a+b}{2}), b\\right]$, ramenant dans chacun des deux cas la recherche à un intervalle d’amplitude moitié moins grande.\n",
    "\n",
    "L’algorithme de recherche consiste donc à itérer deux suites $(u_n)_{n \\in \\mathbb{N}}$ et $(v_n)_{n \\in \\mathbb{N}}$ définies par les valeurs initiales $u_0 = a$ et $v_0 = b$ et la relation de récurrence :\n",
    "$$(u_n,v_v) = \\left\\{\n",
    "    \\begin{array}{ll}\n",
    "        (u_n, m) & \\mbox{si } f(u_n)\\times f(m)\\le 0 \\\\\n",
    "        (m, v_n) & \\mbox{sinon.}\n",
    "    \\end{array}\n",
    "\\right. \\quad avec \\quad m = \\dfrac{u_n + v_n}{2}$$\n",
    "\n",
    "### Analyse de l’algorithme\n",
    "\n",
    "La validité de cet algorithme est assurée par l’invariant : $\\forall n \\in \\mathbb{N}$, $f(u_n) \\times f(v_n) \\le 0$, qui assure pour tout $n \\in \\mathbb{N}$ l’existence d’une racine dans l’intervalle $[u_n , v_n]$.\n",
    "\n",
    "Il reste à choisir la condition de terminaison de cet algorithme. Sachant que $u_n$ est une approximation par défaut d’une racine de $f$ et $v_n$ une approximation par excès, on choisit une valeur $\\epsilon > 0 $ et on retourne $w = \\dfrac{u_n + v_n}{2}$ dès lorsque $v_n - u_n \\le 2 \\epsilon$. De la sorte, on est assuré qu’il existe une racine c de f vérifiant : $|w_n - c|\\le \\epsilon$.\n",
    "\n",
    "<!-- dom:FIGURE:[images/dichotomie2.png, width=500 frac=0.6] -->\n",
    "<!-- begin figure -->\n",
    "\n",
    "<p></p>\n",
    "<img src=\"images/dichotomie2.png\" width=500>\n",
    "\n",
    "<!-- end figure -->\n",
    "\n",
    "\n",
    "### Mise en œuvre pratique\n",
    "\n",
    "La recherche déchotomique nécessite quatre paramètres : la fonction $f$ , les valeurs de $a$ et $b$ et la valeur de $\\epsilon$\n",
    "(qui par défaut sera égal à 10$^{-12}$)."
   ]
  },
  {
   "cell_type": "code",
   "execution_count": 11,
   "metadata": {},
   "outputs": [],
   "source": [
    "def dicho(f, a, b, epsilon=1e-12):\n",
    "    if f(a) * f(b) > 0:\n",
    "        return None\n",
    "    u, v = a, b\n",
    "    while abs(v - u) > 2 * epsilon:\n",
    "        w = (u + v) / 2\n",
    "        if f(u) * f(w) <= 0:\n",
    "            v = w\n",
    "        else:\n",
    "            u = w\n",
    "    return (u + v) / 2"
   ]
  },
  {
   "cell_type": "markdown",
   "metadata": {},
   "source": [
    "Utilisons cet algorithme pour chercher l’unique racine de la fonction sinus entre 3 et 4 :"
   ]
  },
  {
   "cell_type": "code",
   "execution_count": 12,
   "metadata": {},
   "outputs": [],
   "source": [
    "from numpy import sin\n",
    "dicho(sin, 3, 4)"
   ]
  },
  {
   "cell_type": "markdown",
   "metadata": {},
   "source": [
    "Obtenons maintenant une approximation de $\\sqrt(2)$ :"
   ]
  },
  {
   "cell_type": "code",
   "execution_count": 13,
   "metadata": {},
   "outputs": [],
   "source": [
    "dicho(lambda x: x * x - 2, 1, 2)"
   ]
  },
  {
   "cell_type": "markdown",
   "metadata": {},
   "source": [
    "### Utilisation du module scipy\n",
    "\n",
    "`scipy` est un ensemble de modules spécialement dédiés au calcul numérique ; il n’est donc pas étonnant d’y trouver une fonction permettant de réaliser la recherche dichotomique que nous venons d’étudier. Cette fonction se nomme `bisect` et se trouve dans le module `scipy.optimize` . Comme la majorité des autres fonctions de ce module ne nous intéressent pas pour l’instant, on se contente de charger en mémoire cette unique fonction :"
   ]
  },
  {
   "cell_type": "markdown",
   "metadata": {},
   "source": [
    "Avant de l’utiliser, lisons la documentation qui lui est associée :"
   ]
  },
  {
   "cell_type": "markdown",
   "metadata": {},
   "source": [
    "Utilisons cette fonction pour chercher l’unique racine de la fonction sinus entre 3 et 4 :"
   ]
  },
  {
   "cell_type": "code",
   "execution_count": 14,
   "metadata": {},
   "outputs": [],
   "source": [
    "bisect(sin, 3, 4)"
   ]
  },
  {
   "cell_type": "markdown",
   "metadata": {},
   "source": [
    "## Méthode de Newton-Raphson\n",
    "La méthode déjà étudiée : *dichotomie*, déterminent un zéro de f en lequel se produit *un changement de signe* en construisant une suite décroissante d’intervalles contenant ce dernier. La méthode de Newton-Raphson (également appelée méthode de Newton) s’affranchit de cette contrainte, en procédant par approximations successives pour construire une suite $(x_n)_{n \\in \\mathbb{N}}$\n",
    "qui converge en général vers un zéro de $f$ : l’équation $f (x) = 0$ est remplacée par l’équation affine $\\phi_n(x) = 0$, où $\\phi_n$ est l’équation de la tangente à la fonction $f$ au point d’abscisse $x_n$.\n",
    "\n",
    "<!-- dom:FIGURE:[images/newton.png, width=500 frac=0.6] -->\n",
    "<!-- begin figure -->\n",
    "\n",
    "<p></p>\n",
    "<img src=\"images/newton.png\" width=500>\n",
    "\n",
    "<!-- end figure -->\n",
    "\n",
    "\n",
    "Cette tangente a pour équation $y = f (x_n ) + f'(x_n )\\times(x_{n+1} - x_n)$ donc $\\phi_n(x_{n+1}) = 0$ $\\Longleftrightarrow x_{n+1} = x_n - \\dfrac{f(x_n)}{f'(x_n)}$.\n",
    "\n",
    "La méthode de Newton-Raphson consiste donc en l’itération d’une suite $(x_n)_{n \\in \\mathbb{N}}$ définie par la donnée d’une valeur $x_0$ et de la relation de récurrence :\n",
    "$$x_{n+1} = x_n - \\dfrac{f(x_n)}{f'(x_n)}$$\n",
    "\n",
    "### Mise en œuvre pratique\n",
    "\n",
    "La recherche déchotomique nécessite quatre paramètres : la fonction $f$ et sa dérivée $df$, la valeur initiale $x$ et la valeur de $\\epsilon$\n",
    "(qui par défaut sera égal à 10$^{-12}$)."
   ]
  },
  {
   "cell_type": "code",
   "execution_count": 15,
   "metadata": {},
   "outputs": [],
   "source": [
    "def NewtonRaphson(f,df,x,epsilon=1e-12):\n",
    "    X = f(x)\n",
    "    n = 0\n",
    "    while abs(X) > epsilon:\n",
    "        Xpoint = df(x)\n",
    "        x = x - X/Xpoint\n",
    "        n +=1\n",
    "        X = f(x)\n",
    "    return x, n"
   ]
  },
  {
   "cell_type": "markdown",
   "metadata": {},
   "source": [
    "Utilisons cet algorithme pour chercher l’unique racine de la fonction sinus avec la valeur initiale $x = 3$  :"
   ]
  },
  {
   "cell_type": "code",
   "execution_count": 16,
   "metadata": {},
   "outputs": [],
   "source": [
    "from numpy import sin, cos\n",
    "NewtonRaphson(sin,cos, 3)"
   ]
  },
  {
   "cell_type": "markdown",
   "metadata": {},
   "source": [
    "### Utilisation du module `scipy.optimize`\n",
    "\n",
    "Dans le paragraphe précédent, nous avons appris que dans le module `scipy.optimize` se trouve une fonction nommée `bissect` qui applique la méthode dichotomique pour trouver un zéro d’une fonction. Dans ce même module se trouve une fonction nommée `newton` qui, comme son nom l’indique, applique la méthode de **Newton-Raphson**.\n",
    "\n",
    "Avant de l’utiliser, lisons la documentation qui lui est associée :"
   ]
  },
  {
   "cell_type": "markdown",
   "metadata": {},
   "source": [
    "Utilisons cette fonction pour chercher l’unique racine de la fonction sinus entre 3 et 4 :"
   ]
  },
  {
   "cell_type": "code",
   "execution_count": 17,
   "metadata": {},
   "outputs": [],
   "source": [
    "newton(sin, 3, cos)"
   ]
  },
  {
   "cell_type": "markdown",
   "metadata": {},
   "source": [
    "# Valeur approchée d’une intégrale\n",
    "## Idées de base de l'intégration numérique\n",
    "Nous considérons l'intégrale"
   ]
  },
  {
   "cell_type": "markdown",
   "metadata": {},
   "source": [
    "<!-- Equation labels as ordinary links -->\n",
    "<div id=\"eq:ExempleIntegral\"></div>\n",
    "\n",
    "$$\n",
    "\\begin{equation} \\label{eq:ExempleIntegral} \\tag{1}\n",
    "\\int_a^b f(x)dx\n",
    "\\end{equation}\n",
    "$$"
   ]
  },
  {
   "cell_type": "markdown",
   "metadata": {},
   "source": [
    "La plupart des méthodes numériques de calcul de cette intégrale divisent l'intégrale d'origine en une somme de plusieurs intégrales, chacune couvrant une partie plus petite de l'intervalle d'intégration d'origine $[a, b]$. Cette réécriture de l'intégrale est basée sur une sélection de points d'intégration $x_i$, $i = 0,1,\\dots, n$ qui sont répartis sur l'intervalle $[a, b]$. Les points d'intégration peuvent ou non être répartis uniformément. Une distribution uniforme simplifie les expressions et est souvent suffisante, nous nous limiterons donc principalement à ce choix. Les points d'intégration sont ensuite calculés comme:"
   ]
  },
  {
   "cell_type": "markdown",
   "metadata": {},
   "source": [
    "<!-- Equation labels as ordinary links -->\n",
    "<div id=\"_auto1\"></div>\n",
    "\n",
    "$$\n",
    "\\begin{equation}\n",
    "x_i = a + ih,\\quad i = 0,1,\\ldots,n\n",
    "\\label{_auto1} \\tag{2}\n",
    "\\end{equation}\n",
    "$$"
   ]
  },
  {
   "cell_type": "markdown",
   "metadata": {},
   "source": [
    "où"
   ]
  },
  {
   "cell_type": "markdown",
   "metadata": {},
   "source": [
    "<!-- Equation labels as ordinary links -->\n",
    "<div id=\"_auto2\"></div>\n",
    "\n",
    "$$\n",
    "\\begin{equation}\n",
    "h = \\frac{b-a}{n}\n",
    "\\label{_auto2} \\tag{3}\n",
    "\\end{equation}\n",
    "$$"
   ]
  },
  {
   "cell_type": "markdown",
   "metadata": {},
   "source": [
    "Compte tenu des points d'intégration, l'intégrale d'origine est réécrite sous la forme d'une somme d'intégrales, chaque intégrale étant calculée sur le sous-intervalle entre deux points d'intégration consécutifs. L'intégrale dans ([1](#eq:ExempleIntegral)) est donc exprimée comme:"
   ]
  },
  {
   "cell_type": "markdown",
   "metadata": {},
   "source": [
    "<!-- Equation labels as ordinary links -->\n",
    "<div id=\"eq:SumIntegrals\"></div>\n",
    "\n",
    "$$\n",
    "\\begin{equation} \\label{eq:SumIntegrals} \\tag{4}\n",
    "\\int_a^b f(x)dx =\n",
    "\\int_{x_0}^{x_1} f(x)dx + \\int_{x_1}^{x_2} f(x)dx + \\ldots +\n",
    "\\int_{x_{n-1}}^{x_n} f(x)dx\n",
    "\\end{equation}\n",
    "$$"
   ]
  },
  {
   "cell_type": "markdown",
   "metadata": {},
   "source": [
    "Notez que $x_0 = a$ et $x_n = b$.\n",
    "\n",
    "En partant de ([4](#eq:SumIntegrals)), les différentes méthodes d'intégration différeront dans la façon dont elles approchent chaque intégrale du côté droit. L'idée fondamentale est que chaque terme est une intégrale sur un petit intervalle $[x_i, x_{i + 1}]$, et sur ce petit intervalle, il est logique d'approximer f par une forme simple, disons une constante, une ligne droite ou une parabole , que nous pouvons facilement intégrer à la main. Les détails deviendront clairs dans les exemples à venir.\n",
    "\n",
    "## Méthode des rectangles\n",
    "La première méthode qui vienne à l'esprit, c'est de découper l'aire entre la courbe $f(x)$, l'axe des $x$ et les droites $x= a$ et $x = b$, en une multitude de **petits rectangles**. Découpons l'intervalle $[a,b]$ en rectangles élémentaires de largeur $h$, $h$ étant petit. Le rectangle $n^\\circ i$ aura donc pour longueur `f(a + i*h)`. Sa surface est donc égale à `h*f(a + i*h)`. L'aire sous la courbe entre a et b est obtenue en sommant tous ces petits rectangles. Reste qu'en posant cette relation, j'ai fait l'hypothèse implicite que la courbe limite le coté gauche de mon rectangle. On peut imaginer d'autres découpages. Voyons cela sur un schéma:\n",
    "\n",
    "<!-- dom:FIGURE:[images/rectangles.png, width=500 frac=0.7] -->\n",
    "<!-- begin figure -->\n",
    "\n",
    "<p></p>\n",
    "<img src=\"images/rectangles.png\" width=500>\n",
    "\n",
    "<!-- end figure -->\n",
    "\n",
    "\n",
    "Comme vous le constatez, on a le choix entre trois techniques:\n",
    "* on fait coïncider le sommet haut gauche du rectangle avec la courbe : c'est la méthode des rectangles à gauche,\n",
    "\n",
    "* on fait coïncider le sommet haut droit du rectangle avec la courbe : c'est la méthode des rectangles à droite,\n",
    "\n",
    "* on fait coïncider le milieu du coté haut du rectangle avec la courbe: c'est la méthode du point milieu\n",
    "\n",
    "Posons $h = (b - a)/n$, où $n$ est le nombre de rectangles avec lesquels nous allons paver l'aire à calculer. Évidement, plus $n$ sera grand et plus la précision du calcul sera grande. Un rapide calcul nous montre que dans le cas:\n",
    "\n",
    "1 - méthode des rectangles à gauche, on obtient:"
   ]
  },
  {
   "cell_type": "markdown",
   "metadata": {},
   "source": [
    "$$\n",
    "\\begin{align*}\n",
    "\\int_{a}^{b}f(x)dx \\approx h \\sum_{i=0}^{n-1}f(x_i) \\quad ;avec \\ x_i  = a + ih\n",
    "\\end{align*}\n",
    "$$"
   ]
  },
  {
   "cell_type": "markdown",
   "metadata": {},
   "source": [
    "2 - méthode des rectangles à droite, on obtient:"
   ]
  },
  {
   "cell_type": "markdown",
   "metadata": {},
   "source": [
    "$$\n",
    "\\begin{align*}\n",
    "\\int_{a}^{b}f(x)dx \\approx h \\sum_{i=0}^{n-1}f(x_i) \\quad ;avec \\ x_i  = a + (i + 1)h\n",
    "\\end{align*}\n",
    "$$"
   ]
  },
  {
   "cell_type": "markdown",
   "metadata": {},
   "source": [
    "3 - méthode du point milieu, on obtient:"
   ]
  },
  {
   "cell_type": "markdown",
   "metadata": {},
   "source": [
    "$$\n",
    "\\begin{align*}\n",
    "\\int_{a}^{b}f(x)dx \\approx h \\sum_{i=0}^{n-1}f(xi) \\quad ;avec \\ x_i  = a + (i+\\dfrac{1}{2})h\n",
    "\\end{align*}\n",
    "$$"
   ]
  },
  {
   "cell_type": "markdown",
   "metadata": {},
   "source": [
    "## Méthode des trapèzes\n",
    "L'idée de la méthode des trapèzes est d'approcher l'aire sous la courbe par des trapèzes dont l'aire est facilement calculables comme sur la figure ci-dessous (les bases des trapèzes sont verticales).\n",
    "\n",
    "<!-- dom:FIGURE:[images/trapezes.png, width=500 frac=0.6] -->\n",
    "<!-- begin figure -->\n",
    "\n",
    "<p></p>\n",
    "<img src=\"images/trapezes.png\" width=500>\n",
    "\n",
    "<!-- end figure -->\n",
    "\n",
    "\n",
    "Pour cela, on procède comme suit :\n",
    "\n",
    "1 - on commence par choisir le nombre $n$ de trapèzes qu'on veut sous la courbe . Plus le nombre sera grand, plus la surface formée par les trapèzes sera proche de l'aire sous la courbe.\n",
    "\n",
    "2 - on répartit sur $[a,b]$ $n+1$ points de la façon équitable suivante : $x_0 = a$ et $x_{n+1} = x_n + h$, $h = (b-a)/n$.\n",
    "\n",
    "3 - l'aire de chaque petit trapèze est $A_i =\\dfrac{(base1+base2) \\times hauteur}{2} = \\dfrac{h}{2} \\times [f(x_i) + f(x_{i-1})]$.\n",
    "\n",
    "4 - Nous obtenons l'aire recherchée en sommant l'aire de tous les trapèzes entre a et b, ce qui nous donne :"
   ]
  },
  {
   "cell_type": "markdown",
   "metadata": {},
   "source": [
    "$$\n",
    "\\begin{align*}\n",
    "\\int_{a}^{b}f(x)dx \\approx \\dfrac{h}{2}(f(a) +f(b)) + h \\sum_{i=1}^{n-1} f(x_i)\n",
    "\\end{align*}\n",
    "$$"
   ]
  },
  {
   "cell_type": "markdown",
   "metadata": {},
   "source": [
    "avec $x_i = a + ih$\n",
    "\n",
    "## Méthode de Simpson\n",
    "Dans la méthode des trapèzes, nous avons en fait interpolé $f(x)$ par une droite entre les points i et i+h de l'intervalle. Dans la méthode de Simpson, nous n'allons plus interpoler par une droite mais par un polynôme de degré 2, ce qui va améliorer notre précision.\n",
    "\n",
    "<!-- dom:FIGURE:[images/simpson.png, width=500 frac=0.6] -->\n",
    "<!-- begin figure -->\n",
    "\n",
    "<p></p>\n",
    "<img src=\"images/simpson.png\" width=500>\n",
    "\n",
    "<!-- end figure -->\n",
    "\n",
    "\n",
    "Plaçons nous autour d'un point $x_0$ appartenant à l'intervalle $[a,b]$, dans la maille de calcul $x_0-h$ et $x_0+h$. Pour un accroissement $(x-x_0)$, le développement de Taylor limité au second ordre nous donne :\n",
    "$$f(x) = f(x_0) + (x-x_0)f'(x_0) + (1/2)(x-x_0)^2f\"(x_0) + O((x-x_0)^3).$$\n",
    "\n",
    "Nous savons que $f'(x_0) = \\left[f(x_0+h) - f(x_0-h) \\right] /2h$ et que $f\"(x_0) = \\left[ f(x_0+h) - 2f(x_0)+ f(x_0-h) \\right] /h^2$ . Si nous remplaçons ces valeurs dans le développement limité et que l'on intègre entre $x_0-h$ et $x_0+h$, on obtient l'aire élémentaire $\\dfrac{h}{3}(f(x_0+h) + 4f(x_0)+ f(x_0-h))$.\n",
    "\n",
    "L'intégrale recherchée s'obtient en sommant toutes les aires élémentaires. Il faut quelques petites manip calculatoires sans intérêt, on obtient :"
   ]
  },
  {
   "cell_type": "markdown",
   "metadata": {},
   "source": [
    "$$\n",
    "\\begin{align*}\n",
    "\\int_{a}^{b}f(x)dx \\approx \\dfrac{h}{3}[(f(a) +f(b)) + 4\\sum_{i=1}^{n-1}f(x_i) + 2\\sum_{i=2}^{n-2}f(x_i)]\n",
    "\\end{align*}\n",
    "$$"
   ]
  },
  {
   "cell_type": "markdown",
   "metadata": {},
   "source": [
    "avec $x_i = a + ih$.\n",
    "\n",
    "## La fonction quad du module `scipy.integrate`\n",
    "Le module `scipy.integrate` contient une fonction nommée quad qui permet le calcul approché d’une intégrale. Cette fonction, très efficace, utilise différentes routines (la plupart sont basées sur des **méthodes de Gauss**, ces méthodes sont hors programme) de manière à obtenir la meilleure approximation possible. Dans son utilisation la plus simple, cette fonction prend trois paramètres : $f$ , $a$ et $b$ et renvoie un tuple $(I, e)$ où $I$ est une valeur approchée de l’intégrale $ I(f) = \\int_{a}^{b}f(x)dx$ et $e$ une estimation de l’erreur $|I(f ) − I|$.\n",
    "\n",
    "On notera que les valeurs $a$ et $b$ peuvent éventuellement être égales à $\\pm \\infty$."
   ]
  },
  {
   "cell_type": "code",
   "execution_count": 18,
   "metadata": {},
   "outputs": [],
   "source": [
    "import numpy as np\n",
    "from scipy.integrate import quad\n",
    "quad(lambda x: np.sin(x), 0, np.pi)"
   ]
  },
  {
   "cell_type": "code",
   "execution_count": 19,
   "metadata": {},
   "outputs": [],
   "source": [
    "quad(lambda x: np.exp(-x*x), -np.inf, np.inf)"
   ]
  },
  {
   "cell_type": "markdown",
   "metadata": {},
   "source": [
    "Le premier exemple calcule une valeur approchée de l’intégrale $\\int_{0}^{\\pi} sin(x)dx = 2$; le second une valeur approchée de l’intégrale de Gauss $\\int_{- \\infty}^{+ \\infty}  e^{-x^2} dx = \\sqrt{\\pi}$"
   ]
  },
  {
   "cell_type": "code",
   "execution_count": 20,
   "metadata": {},
   "outputs": [],
   "source": [
    "np.sqrt(np.pi)"
   ]
  },
  {
   "cell_type": "markdown",
   "metadata": {},
   "source": [
    "# Méthodes d’Euler pour la résolution numérique des équations différentielles ordinaires\n",
    "\n",
    "## Présentation du problème\n",
    "Nous allons dans un premier temps nous intéresser aux équations différentielles que l’on peut mettre sous la forme :\n",
    "$$\\dot{x} = f(x(t), t)$$\n",
    "où $f$ est une fonction définie sur une partie $U$ de $\\mathbb{R}^2$ , à valeurs dans $\\mathbb{R}$.\n",
    "\n",
    "Une solution de cette équation différentielle est une fonction $x$ de classe $C^1$ définie sur un certain intervalle $I$ de $\\mathbb{R}$ et à valeurs dans $\\mathbb{R}$ vérifiant :\n",
    "* (i) $\\forall t \\in I$ ; $(x(t), t) \\in U$;\n",
    "\n",
    "* (ii) $\\forall t \\in I$ ; $\\dot{x} = f(x(t), t)$.\n",
    "\n",
    "Nous allons adjoindre à cette équation différentielle une *condition initiale* sous la forme d’un couple $(x_0 , t_0 ) \\in U$ et chercher à résoudre **le problème de Cauchy** suivant :\n",
    "$$\\left\\{\n",
    "    \\begin{array}{ll}\n",
    "    \\dot{x} = f(x(t), t)\\\\\n",
    "    x(t_0) = x_0\n",
    "    \\end{array}\n",
    "\\right.$$\n",
    "Sous certaines conditions sur $f$ que nous ne détaillerons pas, ce problème admet une unique solution, que nous allons chercher à déterminer numériquement.\n",
    "\n",
    "## Méthode d’Euler explicite (progressive)\n",
    "Les méthodes que nous allons étudier consistent à subdiviser l’intervalle de temps $[t_0 , t_0 + T]$ en $n + 1$ points $t_0 < t_1 < \\dots < t_n = t_0+ T$ puis à approcher la relation :\n",
    "$$x(t_{k+1}) - x(t_k) = \\int_{t_k}^{t_{k+1}} \\dot{x} dt  = \\int_{t_k}^{t_{k+1}} f(x(t), t) dt $$\n",
    "La méthode *d’Euler explicite* consiste à approcher cette intégrale par la méthode du *rectangle gauche*, autrement dit à approcher $\\int_{t_k}^{t_{k+1}} f(x(t), t) dt$ par $(t_{k+1} - t_k)f(x(t), t)$.\n",
    "\n",
    "<!-- dom:FIGURE:[images/fd_forward.png, width=500 frac=0.6] -->\n",
    "<!-- begin figure -->\n",
    "\n",
    "<p></p>\n",
    "<img src=\"images/fd_forward.png\" width=500>\n",
    "\n",
    "<!-- end figure -->\n",
    "\n",
    "\n",
    "En posant $h_k = t_{k+1} - t_k$ , ceci conduit à définir une suite de valeurs $x_0 , x_1,\\dots, x_n$ à partir de la condition initiale\n",
    "$x_0$ et de la *relation de récurrence* :\n",
    "$$\\forall k \\in [0, n-1], \\quad x_{k+1} = x_{k} + h_k f(x_k, t_k)$$\n",
    "\n",
    "On observera qu’en général, seul le premier point $x_0$ de cette méthode est une valeur exacte ; les autres points sont calculés à partir de l’approximation précédente, ce qui peut conduire la valeur calculée $x_k$ à s’écarter de plus en plus de la valeur exacte $x(t_k)$.\n",
    "\n",
    "\n",
    "\n",
    "## Méthode d’Euler implicite (rétrograde)\n",
    "La méthode *d’Euler implicite* consiste à approcher l’intégrale $\\int_{t_k}^{t_{k+1}} f(x(t), t) dt$ par la méthode du *rectangle droit*, ce qui conduit à définir la suite $(x_0 , x_1,\\dots, x_n)$ par les relations :\n",
    "$$\\forall k \\in [0, n-1], \\quad x_{k+1} = x_{k} + h_k f(x_{k+1}, t_{k+1})$$\n",
    "\n",
    "<!-- dom:FIGURE:[images/fd_backward.png, width=500 frac=0.6] -->\n",
    "<!-- begin figure -->\n",
    "\n",
    "<p></p>\n",
    "<img src=\"images/fd_backward.png\" width=500>\n",
    "\n",
    "<!-- end figure -->\n",
    "\n",
    "\n",
    "On observe que cette relation *ne procure pas une relation explicite* de $x_{k+1}$ puisque ce terme est aussi présent dans le second membre. Pour calculer ce terme il est souvent nécessaire de coupler cette méthode à une méthode de résolution numérique des équations telle la méthode de Newton-Raphson (voir partie plus haut). Pour cette raison, elle se révèle plus coûteuse à mettre en œuvre.\n",
    "\n",
    "Dans la pratique, la méthode d’Euler implicite se révèle souvent plus stable que la méthode explicite : elle est moins précise à court terme, mais diverge moins rapidement de la solution exacte que la méthode explicite."
   ]
  }
 ],
 "metadata": {
  "kernelspec": {
   "display_name": "Python 3",
   "language": "python",
   "name": "python3"
  },
  "language_info": {
   "codemirror_mode": {
    "name": "ipython",
    "version": 3
   },
   "file_extension": ".py",
   "mimetype": "text/x-python",
   "name": "python",
   "nbconvert_exporter": "python",
   "pygments_lexer": "ipython3",
   "version": "3.7.6"
  }
 },
 "nbformat": 4,
 "nbformat_minor": 4
}
