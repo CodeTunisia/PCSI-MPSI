{
 "cells": [
  {
   "cell_type": "markdown",
   "metadata": {},
   "source": [
    "<!-- dom:TITLE: TD4 : Structures de données itératives : dictionnaires, tuples et sets -->\n",
    "# TD4 : Structures de données itératives : dictionnaires, tuples et sets\n",
    "<!-- dom:AUTHOR: Ahmed Ammar at Institut Préparatoire aux Études Scientifiques et Techniques, Université de Carthage. -->\n",
    "<!-- Author: -->  \n",
    "**Ahmed Ammar**, Institut Préparatoire aux Études Scientifiques et Techniques, Université de Carthage.\n",
    "\n",
    "\n",
    "Date: **Nov 23, 2020**\n",
    "\n",
    "<!-- TOC: on -->\n",
    "\n",
    "\n",
    "\n",
    "<!-- --- begin exercise --- -->\n",
    "\n",
    "## Exercise 1: Dictionnaires\n",
    "\n",
    "\n",
    "**Q1.**\n",
    "Écrire un programme Python pour afficher toutes les valeurs uniques dans un dictionnaire.\n",
    "\n",
    "**Exemple de données :**"
   ]
  },
  {
   "cell_type": "markdown",
   "metadata": {},
   "source": [
    "        list_dict = [{\"V\": \"S001\"}, {\"V\": \"S002\"}, {\"VI\": \"S001\"},\n",
    "         {\"VI\": \"S005\"}, {\"VII\": \" S005 \"}, {\" V \":\" S009 \"}, {\" VIII \":\" S007 \"}]`\n"
   ]
  },
  {
   "cell_type": "markdown",
   "metadata": {},
   "source": [
    "**Résultat attendu :** valeurs uniques: `{'S005', 'S002', 'S007', 'S001', 'S009'}`\n",
    "\n",
    "\n",
    "<!-- --- begin solution of exercise --- -->\n",
    "**Solution.**"
   ]
  },
  {
   "cell_type": "code",
   "execution_count": 77,
   "metadata": {},
   "outputs": [
    {
     "name": "stdout",
     "output_type": "stream",
     "text": [
      "Liste originale :  [{'V': 'S001'}, {'V': 'S002'}, {'VI': 'S001'}, {'VI': 'S005'}, {'VII': 'S005'}, {'V': 'S009'}, {'VIII': 'S007'}]\n",
      "Valeurs uniques :  {'S005', 'S009', 'S002', 'S001', 'S007'}\n"
     ]
    }
   ],
   "source": [
    "# %load scripts/ex1Q1.py\n",
    "list_dict = [{\"V\":\"S001\"}, {\"V\": \"S002\"}, {\"VI\": \"S001\"},\n",
    "          {\"VI\": \"S005\"}, {\"VII\":\"S005\"}, {\"V\":\"S009\"},{\"VIII\":\"S007\"}]\n",
    "print(\"Liste originale : \", list_dict)\n",
    "u_value = set( val for el in list_dict for val in el.values())\n",
    "print(\"Valeurs uniques : \",u_value)"
   ]
  },
  {
   "cell_type": "code",
   "execution_count": 79,
   "metadata": {},
   "outputs": [
    {
     "name": "stdout",
     "output_type": "stream",
     "text": [
      "{'S005', 'S009', 'S002', 'S001', 'S007'}\n"
     ]
    }
   ],
   "source": [
    "l = []\n",
    "for dic in list_dict:\n",
    "    for val in dic.values():\n",
    "        l.append(val)\n",
    "print(set(l))"
   ]
  },
  {
   "cell_type": "markdown",
   "metadata": {},
   "source": [
    "<!-- --- end solution of exercise --- -->\n",
    "\n",
    "**Q2.**\n",
    "Écrire un programme Python qui élimine les valeurs `None` (éléments vides) si elles existent dans un dictionnaire donné.\n",
    "\n",
    "**Exemple de données :** `dict1 = {'c1': 'Red', 'c2': 'Green', 'c3': None}`\n",
    "\n",
    "Nouveau dictionnaire après avoir éliminé les éléments vides : `{'c1': 'Red', 'c2': 'Green'}`\n",
    "\n",
    "\n",
    "<!-- --- begin solution of exercise --- -->\n",
    "**Solution.**"
   ]
  },
  {
   "cell_type": "code",
   "execution_count": 81,
   "metadata": {},
   "outputs": [
    {
     "name": "stdout",
     "output_type": "stream",
     "text": [
      "Dictionnaire originale : {'c1': 'Red', 'c2': 'Green', 'c3': None}\n",
      "Nouveau dictionnaire après avoir éliminé les éléments vides :\n",
      "{'c1': 'Red', 'c2': 'Green'}\n"
     ]
    }
   ],
   "source": [
    "# %load scripts/ex1Q2.py\n",
    "dict1 = {'c1': 'Red', 'c2': 'Green', 'c3':None}\n",
    "print(\"Dictionnaire originale :\", dict1)\n",
    "\n",
    "print(\"Nouveau dictionnaire après avoir éliminé les éléments vides :\")\n",
    "dict1 = {key:value for (key, value) in dict1.items() if value is not None}\n",
    "print(dict1)"
   ]
  },
  {
   "cell_type": "code",
   "execution_count": 84,
   "metadata": {},
   "outputs": [
    {
     "name": "stdout",
     "output_type": "stream",
     "text": [
      "{'c1': 'Red', 'c2': 'Green'}\n"
     ]
    }
   ],
   "source": [
    "dict2 = {}\n",
    "for (key, value) in dict1.items():\n",
    "    if value is not None:\n",
    "        dict2.update({key:value})\n",
    "print(dict2)"
   ]
  },
  {
   "cell_type": "markdown",
   "metadata": {},
   "source": [
    "<!-- --- end solution of exercise --- -->\n",
    "\n",
    "**Q3.**\n",
    "Écrire un programme Python pour filtrer un dictionnaire en fonction de valeurs.\n",
    "\n",
    "**Exemple de données :**"
   ]
  },
  {
   "cell_type": "markdown",
   "metadata": {},
   "source": [
    "        librairie = {\"stylo\":187, \"crayon\" : 21, \"rapporteur\" : 76, \"cahier\": 302, \"gomme\":99}\n"
   ]
  },
  {
   "cell_type": "markdown",
   "metadata": {},
   "source": [
    "**Résultat attendu :**"
   ]
  },
  {
   "cell_type": "markdown",
   "metadata": {},
   "source": [
    "        {'crayon': 21, 'rapporteur': 76, 'gomme': 99}\n"
   ]
  },
  {
   "cell_type": "markdown",
   "metadata": {},
   "source": [
    "<!-- --- begin solution of exercise --- -->\n",
    "**Solution.**"
   ]
  },
  {
   "cell_type": "code",
   "execution_count": 88,
   "metadata": {},
   "outputs": [
    {
     "name": "stdout",
     "output_type": "stream",
     "text": [
      "{'crayon': 21, 'rapporteur': 76, 'gomme': 99}\n"
     ]
    }
   ],
   "source": [
    "# %load scripts/ex1Q3.py\n",
    "librairie = {\"stylo\":187, \"crayon\" : 21, \"rapporteur\" : 76, \"cahier\": 302, \"gomme\":99}\n",
    "resultat =  {cl:val for (cl, val) in librairie.items() if val <= 100}\n",
    "print(resultat)"
   ]
  },
  {
   "cell_type": "markdown",
   "metadata": {},
   "source": [
    "<!-- --- end solution of exercise --- -->\n",
    "\n",
    "**Q4.**\n",
    "Fusionner les deux dictionnaires Python suivants (`dict1` et `dict2`) en créant un nouveau dictionnaire `dict3`:"
   ]
  },
  {
   "cell_type": "markdown",
   "metadata": {},
   "source": [
    "        dict1 = {'Dix': 10, 'Vingt': 20, 'Trente': 30}\n",
    "        dict2 = {'Trente': 30, 'Quarante': 40, 'Cinquante': 50}\n"
   ]
  },
  {
   "cell_type": "markdown",
   "metadata": {},
   "source": [
    "**Résultat attendu :**"
   ]
  },
  {
   "cell_type": "markdown",
   "metadata": {},
   "source": [
    "        {'Dix': 10, 'Vingt': 20, 'Trente': 30, 'Quarante': 40, 'Cinquante': 50}\n"
   ]
  },
  {
   "cell_type": "markdown",
   "metadata": {},
   "source": [
    "<!-- --- begin solution of exercise --- -->\n",
    "**Solution.**"
   ]
  },
  {
   "cell_type": "code",
   "execution_count": 92,
   "metadata": {},
   "outputs": [
    {
     "name": "stdout",
     "output_type": "stream",
     "text": [
      "{'Dix': 10, 'Vingt': 20, 'Trente': 30, 'Quarante': 40, 'Cinquante': 50}\n"
     ]
    }
   ],
   "source": [
    "# %load scripts/ex1Q4.py\n",
    "dict1 = {'Dix': 10, 'Vingt': 20, 'Trente': 25}\n",
    "dict2 = {'Trente': 30, 'Quarante': 40, 'Cinquante': 50}\n",
    "dict3 = dict1.copy() # copier dict1 dans dict3\n",
    "dict3.update(dict2) # Fusionner dict3 et dict2\n",
    "print(dict3)"
   ]
  },
  {
   "cell_type": "markdown",
   "metadata": {},
   "source": [
    "<!-- --- end solution of exercise --- -->\n",
    "\n",
    "<!-- --- end exercise --- -->\n",
    "\n",
    "\n",
    "\n",
    "\n",
    "<!-- --- begin exercise --- -->\n",
    "\n",
    "## Exercise 2: Tuples\n",
    "\n",
    "\n",
    "**Q1.**\n",
    "Accéder à la valeur 20 à partir du tuple suivant :"
   ]
  },
  {
   "cell_type": "markdown",
   "metadata": {},
   "source": [
    "        t1 = (\"Orange\", [10, 20, 30], (5, 15, 25))\n"
   ]
  },
  {
   "cell_type": "markdown",
   "metadata": {},
   "source": [
    "**Résultat attendu :**"
   ]
  },
  {
   "cell_type": "markdown",
   "metadata": {},
   "source": [
    "        20\n"
   ]
  },
  {
   "cell_type": "markdown",
   "metadata": {},
   "source": [
    "<!-- --- begin solution of exercise --- -->\n",
    "**Solution.**"
   ]
  },
  {
   "cell_type": "code",
   "execution_count": 94,
   "metadata": {},
   "outputs": [
    {
     "name": "stdout",
     "output_type": "stream",
     "text": [
      "20\n"
     ]
    }
   ],
   "source": [
    "# %load scripts/ex2Q1.py\n",
    "t1 = (\"Orange\", [10, 20, 30], (5, 15, 25))\n",
    "print(t1[1][1])"
   ]
  },
  {
   "cell_type": "markdown",
   "metadata": {},
   "source": [
    "<!-- --- end solution of exercise --- -->\n",
    "\n",
    "**Q2.**\n",
    "Écrire un programme qui accepte une séquence de nombres séparés par des virgules depuis la console et générer une liste et un tuple contenant chaque nombre.\n",
    "\n",
    "Supposons que l'entrée suivante soit fournie au programme: `34,67,55,33,12,98`\n",
    "\n",
    "Alors, la sortie doit être:"
   ]
  },
  {
   "cell_type": "markdown",
   "metadata": {},
   "source": [
    "        ['34', '67', '55', '33', '12', '98']\n",
    "        ('34', '67', '55', '33', '12', '98')\n"
   ]
  },
  {
   "cell_type": "markdown",
   "metadata": {},
   "source": [
    "<!-- --- begin solution of exercise --- -->\n",
    "**Solution.**"
   ]
  },
  {
   "cell_type": "code",
   "execution_count": 96,
   "metadata": {},
   "outputs": [
    {
     "name": "stdout",
     "output_type": "stream",
     "text": [
      "Entrez des nombres séparés par des virgules : 12,11,2,20\n",
      "['12', '11', '2', '20']\n",
      "('12', '11', '2', '20')\n"
     ]
    }
   ],
   "source": [
    "# %load scripts/ex2Q2.py\n",
    "valeurs = input(\"Entrez des nombres séparés par des virgules : \")\n",
    "l = valeurs.split(\",\")\n",
    "t = tuple(l)\n",
    "print(l)\n",
    "print(t)"
   ]
  },
  {
   "cell_type": "markdown",
   "metadata": {},
   "source": [
    "<!-- --- end solution of exercise --- -->\n",
    "\n",
    "**Q3.**\n",
    "Écrire un programme pour créer une liste de tuples `(nom, age, score)` entrés par console.\n",
    "\n",
    "Si les tuples suivants sont donnés en entrée du programme:"
   ]
  },
  {
   "cell_type": "markdown",
   "metadata": {},
   "source": [
    "        Amine,19,80\n",
    "        Amina,20,90\n",
    "        Ahmed,17,91\n",
    "        Mohamed,17,93\n",
    "        Sarra,21,85\n"
   ]
  },
  {
   "cell_type": "markdown",
   "metadata": {},
   "source": [
    "Alors, le résultat du programme devrait être :"
   ]
  },
  {
   "cell_type": "markdown",
   "metadata": {},
   "source": [
    "        [('Amine', '19', '80'), ('Amina', '20', '90'), ('Ahmed', '17', '91'), ('Mohamed', '17', '93'), ('Sarra', '21', '85')]\n"
   ]
  },
  {
   "cell_type": "markdown",
   "metadata": {},
   "source": [
    "<!-- --- begin solution of exercise --- -->\n",
    "**Solution.**"
   ]
  },
  {
   "cell_type": "code",
   "execution_count": 98,
   "metadata": {},
   "outputs": [
    {
     "name": "stdout",
     "output_type": "stream",
     "text": [
      "Ahmed,18,25\n",
      "Amine,30,18\n",
      "Aymen,23,39\n",
      "\n",
      "[('Ahmed', '18', '25'), ('Amine', '30', '18'), ('Aymen', '23', '39')]\n"
     ]
    }
   ],
   "source": [
    "# %load scripts/ex2Q3.py\n",
    "l = []\n",
    "while True:\n",
    "    s = input()\n",
    "    if not s:\n",
    "        break\n",
    "    l.append(tuple(s.split(\",\")))\n",
    "print(l)"
   ]
  },
  {
   "cell_type": "markdown",
   "metadata": {},
   "source": [
    "<!-- --- end solution of exercise --- -->\n",
    "\n",
    "<!-- --- end exercise --- -->\n",
    "\n",
    "\n",
    "\n",
    "\n",
    "<!-- --- begin exercise --- -->\n",
    "\n",
    "## Exercise 3: Jeu de scrabble\n",
    "\n",
    "Le scrabble est un jeu où les joueurs obtiennent des points en écrivant des mots. Les mots sont notés en additionnant les valeurs de points de chaque lettre. Écrire un programme qui demande à l'utilisateur de saisir un mot et donne le score équivalent au scrabble pour ce mot."
   ]
  },
  {
   "cell_type": "markdown",
   "metadata": {},
   "source": [
    "```Python\n",
    "        score = {\"a\": 1, \"c\": 3, \"b\": 3, \"e\": 1, \"d\": 2, \"g\": 2,\n",
    "                 \"f\": 4, \"i\": 1, \"h\": 4, \"k\": 5, \"j\": 8, \"m\": 3,\n",
    "                 \"l\": 1, \"o\": 1, \"n\": 1, \"q\": 10, \"p\": 3, \"s\": 1,\n",
    "                 \"r\": 1, \"u\": 1, \"t\": 1, \"w\": 4, \"v\": 4, \"y\": 4,\n",
    "                 \"x\": 8, \"z\": 10}\n",
    "```"
   ]
  },
  {
   "cell_type": "markdown",
   "metadata": {},
   "source": [
    "<!-- --- begin solution of exercise --- -->\n",
    "**Solution.**\n",
    "La solution s'écrit comme suivant :"
   ]
  },
  {
   "cell_type": "code",
   "execution_count": 103,
   "metadata": {},
   "outputs": [
    {
     "name": "stdout",
     "output_type": "stream",
     "text": [
      "Veuillez saisir un mot : MOHAMEDALI\n",
      "Le score pour mohamedali est 18\n"
     ]
    }
   ],
   "source": [
    "# %load scripts/ex3.py\n",
    "score = {\"a\": 1, \"c\": 3, \"b\": 3, \"e\": 1, \"d\": 2, \"g\": 2,\n",
    "          \"f\": 4, \"i\": 1, \"h\": 4, \"k\": 5, \"j\": 8, \"m\": 3,\n",
    "          \"l\": 1, \"o\": 1, \"n\": 1, \"q\": 10, \"p\": 3, \"s\": 1,\n",
    "          \"r\": 1, \"u\": 1, \"t\": 1, \"w\": 4, \"v\": 4, \"y\": 4,\n",
    "          \"x\": 8, \"z\": 10}\n",
    "mot = input(\"Veuillez saisir un mot : \")\n",
    "mot = mot.lower() # rendre tout minuscules s' il y a des majuscules\n",
    "total=0\n",
    "for let in mot:\n",
    "    total += score[let]\n",
    "print(f\"Le score pour {mot} est {total}\")"
   ]
  },
  {
   "cell_type": "markdown",
   "metadata": {},
   "source": [
    "<!-- --- end solution of exercise --- -->\n",
    "\n",
    "<!-- --- end exercise --- -->\n",
    "\n",
    "\n",
    "\n",
    "\n",
    "<!-- --- begin exercise --- -->\n",
    "\n",
    "## Exercise 4: Précipitations\n",
    "\n",
    "Une autre utilisation des dictionnaires est d'accumuler des données pendant la durée de vie d'un programme. Dans cet exercice, vous utiliserez un `dict` pour cela.\n",
    "\n",
    "Écrire un programme qui suit les précipitations dans plusieurs villes. L'utilisateur de votre programme saisira le nom d'une ville ; si le nom de la ville est vide, le programme affichera un rapport avant de quitter.\n",
    "\n",
    "Si le nom de la ville n'est pas vide, le programme doit également demander à l'utilisateur combien de pluie est tombée dans cette ville (généralement mesurée en millimètres). Une fois que l'utilisateur a saisi la quantité de pluie, le programme lui demande à nouveau le nom de la ville, la quantité de pluie, et ainsi de suite jusqu'à ce que l'utilisateur appuie sur la touche Entrée au lieu de saisir le nom d'une ville.\n",
    "\n",
    "Lorsque l'utilisateur saisit un nom de ville vide, le programme se termine, mais il signale d'abord\n",
    "la quantité totale de pluie tombée dans chaque ville.\n",
    "\n",
    "Ainsi, si j'entre:"
   ]
  },
  {
   "cell_type": "markdown",
   "metadata": {},
   "source": [
    "```Python\n",
    "        tunis\n",
    "        5\n",
    "        nabeul\n",
    "        7\n",
    "        sfax\n",
    "        10\n",
    "        <Entrer>\n",
    "```"
   ]
  },
  {
   "cell_type": "markdown",
   "metadata": {},
   "source": [
    "le programme doit produire:"
   ]
  },
  {
   "cell_type": "markdown",
   "metadata": {},
   "source": [
    "```Python\n",
    "        Tunis : 5 mm\n",
    "        Nabeul : 7 mm\n",
    "        Sfax : 10 mm\n",
    "```"
   ]
  },
  {
   "cell_type": "markdown",
   "metadata": {},
   "source": [
    "<!-- --- begin solution of exercise --- -->\n",
    "**Solution.**"
   ]
  },
  {
   "cell_type": "code",
   "execution_count": 105,
   "metadata": {},
   "outputs": [
    {
     "name": "stdout",
     "output_type": "stream",
     "text": [
      "Appuyez sur <Entrer> pour terminer la saisie.\n",
      "Saisir le nom de la vile: tunis\n",
      "Entrer la quantité de pluie en mm : 30\n",
      "Saisir le nom de la vile: sousse\n",
      "Entrer la quantité de pluie en mm : 20\n",
      "Saisir le nom de la vile: sfax\n",
      "Entrer la quantité de pluie en mm : 20\n",
      "Saisir le nom de la vile: nabeul\n",
      "Entrer la quantité de pluie en mm : 50\n",
      "Saisir le nom de la vile: \n",
      "Tunis : 30 mm\n",
      "Sousse : 20 mm\n",
      "Sfax : 20 mm\n",
      "Nabeul : 50 mm\n"
     ]
    }
   ],
   "source": [
    "# %load scripts/ex4.py\n",
    "precipitations = {}\n",
    "print(\"Appuyez sur <Entrer> pour terminer la saisie.\")\n",
    "while True:\n",
    "    nom_ville = input(\"Saisir le nom de la vile: \")\n",
    "    if nom_ville:\n",
    "        nom_ville = nom_ville.title()\n",
    "        pluie_mm = int(input(\"Entrer la quantité de pluie en mm : \"))\n",
    "        precipitations[nom_ville] = pluie_mm\n",
    "    else:\n",
    "        break\n",
    "\n",
    "for ville, pluie in precipitations.items():\n",
    "    print(f\"{ville} : {pluie} mm\")"
   ]
  },
  {
   "cell_type": "markdown",
   "metadata": {},
   "source": [
    "<!-- --- end solution of exercise --- -->\n",
    "\n",
    "<!-- --- end exercise --- -->"
   ]
  }
 ],
 "metadata": {
  "kernelspec": {
   "display_name": "Python 3",
   "language": "python",
   "name": "python3"
  },
  "language_info": {
   "codemirror_mode": {
    "name": "ipython",
    "version": 3
   },
   "file_extension": ".py",
   "mimetype": "text/x-python",
   "name": "python",
   "nbconvert_exporter": "python",
   "pygments_lexer": "ipython3",
   "version": "3.7.6"
  }
 },
 "nbformat": 4,
 "nbformat_minor": 4
}
